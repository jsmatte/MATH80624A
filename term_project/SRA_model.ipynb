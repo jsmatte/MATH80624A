{
  "nbformat": 4,
  "nbformat_minor": 0,
  "metadata": {
    "colab": {
      "name": "our_formulation.ipynb",
      "provenance": [],
      "collapsed_sections": []
    },
    "kernelspec": {
      "display_name": "Python 3",
      "name": "python3"
    },
    "language_info": {
      "name": "python"
    }
  },
  "cells": [
    {
      "cell_type": "code",
      "metadata": {
        "colab": {
          "base_uri": "https://localhost:8080/"
        },
        "id": "ZN8iy11BsypY",
        "outputId": "734890e1-1f99-41c6-e0e0-cc9869b9afab"
      },
      "source": [
        "!pip install rsome\n",
        "!pip install mosek\n",
        "!rm mosek.lic\n",
        "!git clone https://github.com/erickdelage/80624\n",
        "!cp ./80624/mosek.lic .\n",
        "!rm -r ./80624\n",
        "!mkdir -p /root/mosek\n",
        "!cp ./mosek.lic /root/mosek\n",
        "!pip install -i https://pypi.gurobi.com gurobipy"
      ],
      "execution_count": null,
      "outputs": [
        {
          "output_type": "stream",
          "text": [
            "Requirement already satisfied: rsome in /usr/local/lib/python3.7/dist-packages (0.1.1)\n",
            "Requirement already satisfied: mosek in /usr/local/lib/python3.7/dist-packages (9.2.42)\n",
            "Requirement already satisfied: numpy in /usr/local/lib/python3.7/dist-packages (from mosek) (1.19.5)\n",
            "Cloning into '80624'...\n",
            "remote: Enumerating objects: 12, done.\u001b[K\n",
            "remote: Counting objects: 100% (12/12), done.\u001b[K\n",
            "remote: Compressing objects: 100% (10/10), done.\u001b[K\n",
            "remote: Total 12 (delta 2), reused 11 (delta 1), pack-reused 0\u001b[K\n",
            "Unpacking objects: 100% (12/12), done.\n",
            "Looking in indexes: https://pypi.gurobi.com\n",
            "Requirement already satisfied: gurobipy in /usr/local/lib/python3.7/dist-packages (9.1.2)\n"
          ],
          "name": "stdout"
        }
      ]
    },
    {
      "cell_type": "code",
      "metadata": {
        "colab": {
          "base_uri": "https://localhost:8080/"
        },
        "id": "a4yi_a7-uWxx",
        "outputId": "45ad4b0f-c8fe-4ffc-842a-13d3104b54df"
      },
      "source": [
        "import rsome as rso\n",
        "import numpy as np\n",
        "from rsome import ro\n",
        "from rsome import msk_solver as my_solver  #Import Mosek solver interface\n",
        "# from rsome import grb_solver as my_solver  #Import Gurobi solver interface\n",
        "\n",
        "import random\n",
        "import scipy.stats as stats\n",
        "import statsmodels.api as sm\n",
        "import matplotlib\n",
        "import matplotlib.pyplot as plt"
      ],
      "execution_count": null,
      "outputs": [
        {
          "output_type": "stream",
          "text": [
            "/usr/local/lib/python3.7/dist-packages/statsmodels/tools/_testing.py:19: FutureWarning: pandas.util.testing is deprecated. Use the functions in the public API at pandas.testing instead.\n",
            "  import pandas.util.testing as tm\n"
          ],
          "name": "stderr"
        }
      ]
    },
    {
      "cell_type": "markdown",
      "metadata": {
        "id": "wFbI1fIqs8wk"
      },
      "source": [
        "# Synthetic Data for Robust Model"
      ]
    },
    {
      "cell_type": "code",
      "metadata": {
        "id": "ggPCif34s_gi"
      },
      "source": [
        "# Number of cars\n",
        "ncar = 10\n",
        "\n",
        "# Number of sequences\n",
        "nseq = ncar\n",
        "\n",
        "# Estimated values by seller\n",
        "v = np.array([20, 21, 24, 22.5, 28, 20.6, 23.4, 25.4, 18.4, 14])*1000\n",
        "\n",
        "# Nominal prices (NOTE: the starting prices used in this study correspond to the \n",
        "# prices presented for cars 1 to 10, in sequences 1 to 10 of the larger data set\n",
        "# of Ma et al. 2021)\n",
        "p0 = np.array(\n",
        "    [[20.5, 23.1, 23.6, 22.8, 21.5, 20.8, 23.7, 20.2, 21.8, 23.3],\n",
        "     [20.4, 22.5, 25.5, 22.6, 24.4, 21.2, 21.4, 23.6, 23.1, 23.0],\n",
        "     [27.6, 26.1, 26.9, 33.7, 30.8, 24.2, 25.3, 24.7, 26.3, 24.2],\n",
        "     [22.3, 24.5, 24.7, 23.5, 22.5, 24.3, 23.6, 23.4, 23.7, 24.7],\n",
        "     [28.5, 33.4, 29.5, 27.1, 28.5, 28.5, 30.2, 32.9, 31.8, 34.1],\n",
        "     [26.9, 25.8, 26.3, 23.6, 27.3, 22.4, 22.5, 24.4, 26.8, 22.2],\n",
        "     [29.9, 27.5, 19.2, 28.7, 27.9, 24.2, 24.8, 24.9, 25.9, 23.7],\n",
        "     [29.2, 30.9, 27.3, 28.2, 29.5, 26.4, 26.9, 27.8, 29.1, 26.1],\n",
        "     [20.8, 24.0, 23.7, 24.6, 22.1, 20.4, 20.1, 19.9, 23.3, 20.2],\n",
        "     [19.2, 18.7, 19.3, 20.1, 19.2, 15.6, 20.4, 17.3, 21.3, 22.7]])*1000"
      ],
      "execution_count": null,
      "outputs": []
    },
    {
      "cell_type": "code",
      "metadata": {
        "id": "A884RwFssEyK"
      },
      "source": [
        "boot = 25\n",
        "y = np.zeros((ncar, ncar, boot))\n",
        "X = []\n",
        "for c in range(ncar):\n",
        "    temp_X = []\n",
        "    for p in range(ncar):\n",
        "        temp_temp_X = []\n",
        "        for b in range(boot):\n",
        "            # random integer to determine variance\n",
        "            r = np.random.randint(low=1, high=10)\n",
        "            # np.random.seed([1])\n",
        "            tilde = np.random.normal(loc=p0[c][p], scale=(r*1000))\n",
        "            y[c][p][b] = tilde\n",
        "\n",
        "            if p == 0:\n",
        "                temp_temp_X.append(np.zeros(ncar-1))\n",
        "            else:\n",
        "                r1 = random.sample(list(np.arange(ncar-1)), p)\n",
        "                tmp = np.zeros(ncar-1)\n",
        "                for num in r1:\n",
        "                    tmp[num] = 1\n",
        "                temp_temp_X.append(tmp)\n",
        "\n",
        "        temp_X.append(temp_temp_X)\n",
        "    X.append(temp_X)"
      ],
      "execution_count": null,
      "outputs": []
    },
    {
      "cell_type": "code",
      "metadata": {
        "id": "06FnH4qNsHgo"
      },
      "source": [
        "def regression(y, X):\n",
        "    model = sm.OLS(y, sm.add_constant(X))\n",
        "    res = model.fit()\n",
        "\n",
        "    coeffs = res.params \n",
        "    coeffs_stdev = res.bse\n",
        "        \n",
        "    return coeffs, coeffs_stdev"
      ],
      "execution_count": null,
      "outputs": []
    },
    {
      "cell_type": "code",
      "metadata": {
        "id": "2KsgHPZSsfmH"
      },
      "source": [
        "coeff_dat = []\n",
        "stdev_dat = []\n",
        "for c1 in range(ncar):\n",
        "    temp_y = y[c1,:,:].reshape(-1,1)\n",
        "    temp_X = X[c1]\n",
        "\n",
        "    temp_X_flat = []\n",
        "    for dat in temp_X:\n",
        "      for sub_dat in dat:\n",
        "        temp_X_flat.append(sub_dat)\n",
        "\n",
        "    temp_coeffs, temp_stdev = regression(temp_y, temp_X_flat)\n",
        "    coeff_dat.append(temp_coeffs)\n",
        "    stdev_dat.append(temp_stdev)"
      ],
      "execution_count": null,
      "outputs": []
    },
    {
      "cell_type": "code",
      "metadata": {
        "id": "FrPj8UJcg833"
      },
      "source": [
        "coeff0 = np.zeros(ncar)\n",
        "coeff_delta = np.zeros((ncar,ncar))\n",
        "stdev_delta = np.zeros((ncar,ncar))\n",
        "\n",
        "for c2 in range(ncar):\n",
        "    coeff0[c2] = coeff_dat[c2][0]\n",
        "    temp_coeffs = np.delete(coeff_dat[c2],0)\n",
        "    coeff_delta[c2] = np.insert(temp_coeffs, c2, 0)\n",
        "    temp_stdev = np.delete(stdev_dat[c2],0)\n",
        "    stdev_delta[c2] = np.insert(temp_stdev, c2, 0)"
      ],
      "execution_count": null,
      "outputs": []
    },
    {
      "cell_type": "code",
      "metadata": {
        "colab": {
          "base_uri": "https://localhost:8080/"
        },
        "id": "DctWv-tziLU2",
        "outputId": "7b5eec11-fe87-461a-a698-8f691c7abff9"
      },
      "source": [
        "coeff0"
      ],
      "execution_count": null,
      "outputs": [
        {
          "output_type": "execute_result",
          "data": {
            "text/plain": [
              "array([21901.04942612, 21834.79145589, 28169.38609105, 23965.17150251,\n",
              "       28408.59555014, 25828.4008874 , 26998.82120947, 28548.53467845,\n",
              "       24011.44202244, 19249.79870178])"
            ]
          },
          "metadata": {
            "tags": []
          },
          "execution_count": 8
        }
      ]
    },
    {
      "cell_type": "code",
      "metadata": {
        "colab": {
          "base_uri": "https://localhost:8080/"
        },
        "id": "4siiGYJ9iQQ3",
        "outputId": "a4233b14-cdc5-4af7-f3b6-c73bc44b3a60"
      },
      "source": [
        "coeff_delta"
      ],
      "execution_count": null,
      "outputs": [
        {
          "output_type": "execute_result",
          "data": {
            "text/plain": [
              "array([[    0.        ,    86.68221198,   514.72491638,  -128.59438962,\n",
              "           44.04429422,  -390.77079393,  -956.10083265,   728.46369854,\n",
              "         -523.50974775,   370.76291201],\n",
              "       [ -762.3536081 ,     0.        ,   922.66096037,  1013.41380973,\n",
              "         1943.52308685,  -158.6813292 , -1203.54616905,   163.58142523,\n",
              "          723.80437074, -1487.91377884],\n",
              "       [  706.2382528 ,   203.98248388,     0.        , -1404.13115271,\n",
              "        -1890.23598894, -1650.18421514,   808.00887924,   712.50708963,\n",
              "          249.85042029,  -722.62540072],\n",
              "       [  487.74949552,  1120.93904611,  -406.57574849,     0.        ,\n",
              "         -128.88484506,  1120.83794124,  -743.09765288,  -670.40110041,\n",
              "        -1505.48737666,  1051.66196323],\n",
              "       [ 2005.42894345,   484.18589864,  -356.44573244,  -573.16218746,\n",
              "            0.        ,   276.09122468,    75.57218059,     7.16748658,\n",
              "         2592.88206921,   155.03338656],\n",
              "       [-1277.48162023,  1245.20612459,   473.5585292 , -1962.53575829,\n",
              "         -280.5219049 ,     0.        , -1245.67715642,  -389.20396891,\n",
              "         1074.142954  ,   196.77783766],\n",
              "       [  627.12213605,  -270.03122163, -1159.32881845, -1321.6013463 ,\n",
              "        -1349.25144242,  -300.72367646,     0.        ,   567.49009124,\n",
              "          799.25592683,   356.14099479],\n",
              "       [ 1522.37516343,  -436.60446838,  -422.63356943,  -309.49282508,\n",
              "          176.85444076, -2493.07806489,   708.23852113,     0.        ,\n",
              "         -180.37805183,   584.44462449],\n",
              "       [ -777.35070307,   605.41050636,  -949.52133203, -2086.52650581,\n",
              "          281.26951038,  -266.04530545,  -349.56492049,  -133.13399053,\n",
              "            0.        ,  -239.76145718],\n",
              "       [  608.53875268,  -294.16223505,  1065.69469174,  2257.20612132,\n",
              "         -752.28329413,   852.09897657,  -459.49355914, -2019.13760837,\n",
              "          282.54431912,     0.        ]])"
            ]
          },
          "metadata": {
            "tags": []
          },
          "execution_count": 9
        }
      ]
    },
    {
      "cell_type": "code",
      "metadata": {
        "colab": {
          "base_uri": "https://localhost:8080/"
        },
        "id": "goTJ4S5Uicmh",
        "outputId": "7a8c35ff-9359-4aca-dac4-64278794267c"
      },
      "source": [
        "stdev_delta"
      ],
      "execution_count": null,
      "outputs": [
        {
          "output_type": "execute_result",
          "data": {
            "text/plain": [
              "array([[   0.        ,  791.6871124 ,  780.66086482,  777.23751318,\n",
              "         733.88756172,  783.25860802,  805.42042981,  789.35017764,\n",
              "         806.71475395,  777.85108508],\n",
              "       [ 858.57163064,    0.        ,  852.72131504,  824.60511704,\n",
              "         874.39404108,  820.89633993,  902.23710322,  865.40456729,\n",
              "         864.34628569,  863.1533039 ],\n",
              "       [1001.57737179,  988.50343616,    0.        ,  973.31578595,\n",
              "         927.95822414,  988.40951298,  949.67715231,  915.53407662,\n",
              "         912.16390348,  966.80497384],\n",
              "       [ 878.31217664,  920.22658186,  908.72571547,    0.        ,\n",
              "         957.15631864,  958.05471533,  882.6854873 ,  927.92145769,\n",
              "         919.49672458,  909.21455759],\n",
              "       [ 802.19688245,  831.29146965,  785.07310791,  842.66700647,\n",
              "           0.        ,  777.91967188,  776.5267176 ,  779.28128718,\n",
              "         810.27283089,  780.71665332],\n",
              "       [ 940.03146678,  970.16702858,  948.80893835, 1006.92299152,\n",
              "        1019.5388749 ,    0.        ,  975.25532931,  927.62473163,\n",
              "         969.91760193,  903.95798969],\n",
              "       [ 875.84294265,  914.67461567,  924.69465813,  863.80938329,\n",
              "         905.26860462,  873.34030429,    0.        ,  901.72649311,\n",
              "         934.37379314,  908.32898451],\n",
              "       [ 932.41273407,  935.32077024,  912.30629577,  894.10887136,\n",
              "         910.56977341,  940.13435943,  898.27638349,    0.        ,\n",
              "         890.49406624,  922.47668114],\n",
              "       [ 903.3091392 ,  908.67444074,  894.91346332,  890.89299122,\n",
              "         875.63527233,  813.53538962,  889.51205995,  848.13806858,\n",
              "           0.        ,  873.34652201],\n",
              "       [ 896.54378782,  851.37711874,  863.70490833,  866.86365121,\n",
              "         884.61013767,  835.02545595,  845.64229345,  826.93914369,\n",
              "         840.09909587,    0.        ]])"
            ]
          },
          "metadata": {
            "tags": []
          },
          "execution_count": 10
        }
      ]
    },
    {
      "cell_type": "markdown",
      "metadata": {
        "id": "j8gFopzuvPjI"
      },
      "source": [
        "## Nominal Model\n",
        "\n",
        "The nominal model is \n",
        "\\begin{align*}\n",
        "    \\max_{x, r, w, y} \\hspace{5mm} & \\sum_{i=1}^n \\left(r_{i} - v_{i} \\right) & \\\\\n",
        "    s.t. \\hspace{5mm} & r_{i} \\leq \\sum_{t=1}^{n} \\left( p_{i}^{0} x_{it} + \\sum_{k=1}^{n} \\delta_{ik} y_{ikt} \\right) & \\forall i \\in I \\\\\n",
        "    & \\sum_{t=1}^n x_{it} = 1 & \\forall i \\in I \\\\\n",
        "    &\\sum_{i=1}^n x_{it} = 1 & \\forall t \\in T \\\\\n",
        "    & \\sum_{k=1}^{n} w_{ik} \\leq \\sum_{t=1}^{n} t x_{it} - 1 & \\forall i\\in I \\\\\n",
        "    & w_{ik} + w_{ki} \\leq 1 & \\forall i \\in I, \\hspace{2mm} \\forall k \\in I \\\\\n",
        "    & w_{ik} = 0 & \\forall i = k \\in I\\\\\n",
        "    & y_{ikt} \\leq w_{ik} & \\forall i \\in I, \\forall k \\in I, \\forall t \\in T\\\\\n",
        "    & y_{ikt} \\leq x_{it} & \\forall i \\in I, \\forall k \\in I, \\forall t \\in T\\\\\n",
        "    & y_{ikt} \\geq w_{ik} + x_{it} - 1 & \\forall i \\in I, \\forall k \\in I, \\forall t \\in T\\\\\n",
        "    &  x_{it} \\in \\{0, 1\\} & \\forall i \\in I, \\forall t \\in T \\\\\n",
        "    & w_{ik} \\in \\{0, 1\\}  & \\forall i \\in I, \\forall k \\in I \\\\\n",
        "    & y_{ikt} \\in \\{0, 1\\} & \\forall i \\in I, \\forall k \\in I ,\\forall t \\in T\n",
        "\\end{align*}"
      ]
    },
    {
      "cell_type": "code",
      "metadata": {
        "id": "Gd5AcOrQuUuQ"
      },
      "source": [
        "def nominal():\n",
        "    model = ro.Model('nomial')\n",
        "\n",
        "    # Define decision variables\n",
        "    r = model.dvar(ncar)\n",
        "    x = model.dvar((ncar, nseq), vtype='B')\n",
        "    w = model.dvar((ncar, ncar), vtype='B')\n",
        "    y = model.dvar((ncar, nseq, ncar), vtype='B')\n",
        "\n",
        "    # objective function\n",
        "    model.max((r - v).sum())\n",
        "\n",
        "    # constraints\n",
        "    for i in range(ncar):\n",
        "        model.st(\n",
        "            r[i] <= (coeff0[i]*x[i]).sum() + (coeff_delta[i]*w[i]).sum()\n",
        "        )\n",
        "        # r[i] <= (coeff0[i]*x[i]).sum() + (y[i] @ coeff_delta[i]).sum()\n",
        "    model.st(x.sum(axis=0) == np.ones(ncar))\n",
        "    model.st(x.sum(axis=1) == np.ones(nseq))\n",
        "    model.st(w.T + w <= 1)\n",
        "    for i1 in range(ncar):\n",
        "        model.st(w[i1].sum() == (x[i1]*np.arange(1,nseq+1)).sum() - 1)\n",
        "        model.st(w[i1,i1] == 0)\n",
        "    # for t in range(ncar):\n",
        "    #     model.st(w >= y[:,t,:])\n",
        "    # for k in range(nseq):\n",
        "    #     model.st(x >= y[:,:,k])\n",
        "    # for i2 in range(ncar):\n",
        "    #     for t1 in range(nseq):\n",
        "    #         for k1 in range(ncar):\n",
        "    #             model.st(y[i2,t1,k1] >= (x[i2,t1] + w[i2,k1]) - 1)\n",
        "      \n",
        "    # solve model\n",
        "    model.solve(my_solver)\n",
        "\n",
        "    return model.get(), x.get(), w.get(), y.get(), r.get()"
      ],
      "execution_count": null,
      "outputs": []
    },
    {
      "cell_type": "code",
      "metadata": {
        "colab": {
          "base_uri": "https://localhost:8080/"
        },
        "id": "S0qr2wqyw_zt",
        "outputId": "b82843bf-d3dc-429f-913e-ef46a648182b"
      },
      "source": [
        "opt_nom, x_nom, w_nom, y_nom, r_nom = nominal()\n",
        "opt_nom"
      ],
      "execution_count": null,
      "outputs": [
        {
          "output_type": "stream",
          "text": [
            "Being solved by Mosek...\n",
            "Solution status: integer_optimal\n",
            "Running time: 6.4828s\n"
          ],
          "name": "stdout"
        },
        {
          "output_type": "execute_result",
          "data": {
            "text/plain": [
              "44121.8710034963"
            ]
          },
          "metadata": {
            "tags": []
          },
          "execution_count": 12
        }
      ]
    },
    {
      "cell_type": "code",
      "metadata": {
        "colab": {
          "base_uri": "https://localhost:8080/"
        },
        "id": "gljU4WaUsKBe",
        "outputId": "bf29d39f-6b3b-4dfc-ddb2-32879c297dff"
      },
      "source": [
        "nom_ord = []\n",
        "for nom_row in x_nom:\n",
        "    nom_ord.append(round((nom_row * np.arange(1, ncar+1)).sum()))\n",
        "\n",
        "nom_ord"
      ],
      "execution_count": null,
      "outputs": [
        {
          "output_type": "execute_result",
          "data": {
            "text/plain": [
              "[5, 3, 2, 6, 9, 4, 8, 10, 1, 7]"
            ]
          },
          "metadata": {
            "tags": []
          },
          "execution_count": 13
        }
      ]
    },
    {
      "cell_type": "markdown",
      "metadata": {
        "id": "pmRolQpr-bQW"
      },
      "source": [
        "## Sequential Robust Auction (SRA) Model (linear combination of regression coefficient and thier variance)"
      ]
    },
    {
      "cell_type": "code",
      "metadata": {
        "id": "jbbvsLk3xywa"
      },
      "source": [
        "def SAR(gamma):\n",
        "    model = ro.Model('SAR')\n",
        "\n",
        "    # Define decision variables\n",
        "    r = model.dvar(ncar)\n",
        "    x = model.dvar((ncar, nseq), vtype='B')\n",
        "    w = model.dvar((ncar, ncar), vtype='B')\n",
        "    y = model.dvar((ncar, nseq, ncar), vtype='B')\n",
        "    \n",
        "    # Uncertain variable and Uncertainty set\n",
        "    z = model.rvar(nseq)\n",
        "    U = (rso.norm(z,2)<=gamma)\n",
        "\n",
        "    # objective function\n",
        "    model.max((r - v).sum())\n",
        "\n",
        "    # constraints\n",
        "    for i in range(ncar):\n",
        "        model.st(\n",
        "            ( r[i] <= (coeff0[i]*x[i]).sum() + (coeff_delta[i]*w[i]).sum() - (stdev_delta[i]*w[i]*z).sum() ).forall(U)\n",
        "        )\n",
        "        # ( r[i] <= (coeff0[i]*x[i]).sum() + (y[i] @ coeff_delta[i]).sum() - (y[i] @ (stdev_delta[i]*z)).sum() ).forall(U)\n",
        "    model.st(x.sum(axis=0) == np.ones(ncar))\n",
        "    model.st(x.sum(axis=1) == np.ones(nseq))\n",
        "    model.st(w.T + w <= 1)\n",
        "    for i1 in range(ncar):\n",
        "        model.st(w[i1].sum() == (x[i1]*np.arange(1,nseq+1)).sum() - 1)\n",
        "        model.st(w[i1,i1] == 0)\n",
        "    # for t in range(ncar):\n",
        "    #     model.st(w >= y[:,t,:])\n",
        "    # for k in range(nseq):\n",
        "    #     model.st(x >= y[:,:,k])\n",
        "    # for i2 in range(ncar):\n",
        "    #     for t1 in range(nseq):\n",
        "    #         for k1 in range(ncar):\n",
        "    #             model.st(y[i2,t1,k1] >= (x[i2,t1] + w[i2,k1]) - 1)\n",
        "      \n",
        "    # solve model\n",
        "    model.solve(my_solver)\n",
        "\n",
        "    return model.get(), x.get(), w.get(), r.get(), y.get()"
      ],
      "execution_count": null,
      "outputs": []
    },
    {
      "cell_type": "code",
      "metadata": {
        "colab": {
          "base_uri": "https://localhost:8080/"
        },
        "id": "C9IQv-JC3Gh0",
        "outputId": "b52bd6a1-2b55-4be0-a64e-a29f0c56bbbd"
      },
      "source": [
        "epsilon = [0.01, 0.05, 0.1, 0.15, 0.2, 0.25, 0.3, 0.35, 0.4, 0.45, 0.5]\n",
        "\n",
        "obj_res = np.zeros(len(epsilon))\n",
        "x_res = np.zeros((len(epsilon), ncar, nseq))\n",
        "w_res = np.zeros((len(epsilon), ncar, nseq))\n",
        "for e in range(len(epsilon)):\n",
        "    temp_z_score = stats.norm.ppf(1-epsilon[e])\n",
        "    temp_obj, temp_x, temp_w, temp_r, temp_y = SAR(temp_z_score)\n",
        "    obj_res[e] = temp_obj\n",
        "    x_res[e] = temp_x\n",
        "    w_res[e] = temp_w"
      ],
      "execution_count": null,
      "outputs": [
        {
          "output_type": "stream",
          "text": [
            "Being solved by Mosek...\n",
            "Solution status: integer_optimal\n",
            "Running time: 37.3281s\n",
            "Being solved by Mosek...\n",
            "Solution status: integer_optimal\n",
            "Running time: 25.6790s\n",
            "Being solved by Mosek...\n",
            "Solution status: integer_optimal\n",
            "Running time: 41.1355s\n",
            "Being solved by Mosek...\n",
            "Solution status: integer_optimal\n",
            "Running time: 47.9722s\n",
            "Being solved by Mosek...\n",
            "Solution status: integer_optimal\n",
            "Running time: 29.5035s\n",
            "Being solved by Mosek...\n",
            "Solution status: integer_optimal\n",
            "Running time: 51.2578s\n",
            "Being solved by Mosek...\n",
            "Solution status: integer_optimal\n",
            "Running time: 37.7754s\n",
            "Being solved by Mosek...\n",
            "Solution status: integer_optimal\n",
            "Running time: 30.3422s\n",
            "Being solved by Mosek...\n",
            "Solution status: integer_optimal\n",
            "Running time: 29.6915s\n",
            "Being solved by Mosek...\n",
            "Solution status: integer_optimal\n",
            "Running time: 43.4921s\n",
            "Being solved by Mosek...\n",
            "Solution status: integer_optimal\n",
            "Running time: 39.8689s\n"
          ],
          "name": "stdout"
        }
      ]
    },
    {
      "cell_type": "code",
      "metadata": {
        "colab": {
          "base_uri": "https://localhost:8080/",
          "height": 396
        },
        "id": "fiNSuPUK_oSS",
        "outputId": "b9cecf28-4489-4c83-d020-ad6ca8272c9e"
      },
      "source": [
        "%matplotlib inline\n",
        "plt.figure(figsize=(10,6))\n",
        "plt.plot(epsilon, obj_res, '-kx', label='SRA')\n",
        "plt.hlines(opt_nom, epsilon[0], epsilon[-1], color='r', label='Nominal')\n",
        "plt.xlabel('$\\epsilon$', fontsize=14)  # , fontsize=20\n",
        "plt.xticks(fontsize=14)\n",
        "plt.ylabel('Profit (Yuan)', fontsize=14)  # , fontsize=20\n",
        "plt.yticks(fontsize=14)\n",
        "plt.legend(loc=\"lower right\")\n",
        "plt.savefig('results.pdf')\n",
        "plt.show()"
      ],
      "execution_count": null,
      "outputs": [
        {
          "output_type": "display_data",
          "data": {
            "image/png": "[encoded data removed]",
            "text/plain": [
              "<Figure size 720x432 with 1 Axes>"
            ]
          },
          "metadata": {
            "tags": [],
            "needs_background": "light"
          }
        }
      ]
    },
    {
      "cell_type": "code",
      "metadata": {
        "id": "swTe4qhcf_OO"
      },
      "source": [
        "# ordering\n",
        "ord = []\n",
        "for e2 in range(len(epsilon)):\n",
        "    temp_x_res = x_res[e2]\n",
        "    temp_ord = []\n",
        "    for row in temp_x_res:\n",
        "        temp_ord.append(round((row * np.arange(1, nseq+1)).sum()))\n",
        "    ord.append(temp_ord)"
      ],
      "execution_count": null,
      "outputs": []
    },
    {
      "cell_type": "code",
      "metadata": {
        "id": "1OcjWsQdi3Bj",
        "colab": {
          "base_uri": "https://localhost:8080/"
        },
        "outputId": "c77581b0-d3d1-43e4-cc31-f15939d88d4b"
      },
      "source": [
        "print('',nom_ord)\n",
        "print('')\n",
        "ord"
      ],
      "execution_count": null,
      "outputs": [
        {
          "output_type": "stream",
          "text": [
            " [5, 3, 2, 6, 9, 4, 8, 10, 1, 7]\n",
            "\n"
          ],
          "name": "stdout"
        },
        {
          "output_type": "execute_result",
          "data": {
            "text/plain": [
              "[[6, 4, 3, 7, 10, 5, 9, 1, 2, 8],\n",
              " [6, 4, 3, 7, 10, 5, 9, 1, 2, 8],\n",
              " [6, 4, 3, 7, 10, 5, 9, 1, 2, 8],\n",
              " [5, 3, 2, 6, 9, 4, 8, 10, 1, 7],\n",
              " [5, 3, 2, 6, 9, 4, 8, 10, 1, 7],\n",
              " [5, 3, 2, 6, 9, 4, 8, 10, 1, 7],\n",
              " [5, 3, 2, 6, 9, 4, 8, 10, 1, 7],\n",
              " [5, 3, 2, 6, 9, 4, 8, 10, 1, 7],\n",
              " [5, 3, 2, 6, 9, 4, 8, 10, 1, 7],\n",
              " [5, 3, 2, 6, 9, 4, 8, 10, 1, 7],\n",
              " [5, 3, 2, 6, 9, 4, 8, 10, 1, 7]]"
            ]
          },
          "metadata": {
            "tags": []
          },
          "execution_count": 18
        }
      ]
    },
    {
      "cell_type": "code",
      "metadata": {
        "colab": {
          "base_uri": "https://localhost:8080/"
        },
        "id": "99_1wjiw41In",
        "outputId": "bf584ff9-9e7b-4a6c-aecf-47a213dcaae2"
      },
      "source": [
        "print(opt_nom)\n",
        "print('')\n",
        "obj_res"
      ],
      "execution_count": null,
      "outputs": [
        {
          "output_type": "stream",
          "text": [
            "44121.8710034963\n",
            "\n"
          ],
          "name": "stdout"
        },
        {
          "output_type": "execute_result",
          "data": {
            "text/plain": [
              "array([ 4945.94318522, 16368.94238035, 22458.50098303, 26581.66678114,\n",
              "       29878.5935634 , 32707.06317865, 35247.11631068, 37600.85408108,\n",
              "       39834.32105268, 41995.22619541, 44121.8710035 ])"
            ]
          },
          "metadata": {
            "tags": []
          },
          "execution_count": 19
        }
      ]
    }
  ]
}