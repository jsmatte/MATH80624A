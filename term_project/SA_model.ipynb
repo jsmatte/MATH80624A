{
  "nbformat": 4,
  "nbformat_minor": 0,
  "metadata": {
    "colab": {
      "name": "SA_model.ipynb",
      "provenance": [],
      "collapsed_sections": []
    },
    "kernelspec": {
      "name": "python3",
      "display_name": "Python 3"
    }
  },
  "cells": [
    {
      "cell_type": "markdown",
      "metadata": {
        "id": "k0EprlHzfLlM"
      },
      "source": [
        "# Sequential Auction (SA) models"
      ]
    },
    {
      "cell_type": "code",
      "metadata": {
        "colab": {
          "base_uri": "https://localhost:8080/"
        },
        "id": "mq12OEVkfErx",
        "outputId": "58f947b6-34eb-415f-b236-9d44357b043b"
      },
      "source": [
        "!pip install rsome\n",
        "!pip install mosek\n",
        "!rm mosek.lic\n",
        "!git clone https://github.com/erickdelage/80624\n",
        "!cp ./80624/mosek.lic .\n",
        "!rm -r ./80624\n",
        "!mkdir -p /root/mosek\n",
        "!cp ./mosek.lic /root/mosek\n",
        "!pip install -i https://pypi.gurobi.com gurobipy"
      ],
      "execution_count": null,
      "outputs": [
        {
          "output_type": "stream",
          "text": [
            "Requirement already satisfied: rsome in /usr/local/lib/python3.7/dist-packages (0.1.1)\n",
            "Requirement already satisfied: mosek in /usr/local/lib/python3.7/dist-packages (9.2.42)\n",
            "Requirement already satisfied: numpy in /usr/local/lib/python3.7/dist-packages (from mosek) (1.19.5)\n",
            "Cloning into '80624'...\n",
            "remote: Enumerating objects: 12, done.\u001b[K\n",
            "remote: Counting objects: 100% (12/12), done.\u001b[K\n",
            "remote: Compressing objects: 100% (10/10), done.\u001b[K\n",
            "remote: Total 12 (delta 2), reused 11 (delta 1), pack-reused 0\u001b[K\n",
            "Unpacking objects: 100% (12/12), done.\n",
            "Looking in indexes: https://pypi.gurobi.com\n",
            "Requirement already satisfied: gurobipy in /usr/local/lib/python3.7/dist-packages (9.1.2)\n"
          ],
          "name": "stdout"
        }
      ]
    },
    {
      "cell_type": "code",
      "metadata": {
        "id": "cZcKnfrOfIK0"
      },
      "source": [
        "import rsome as rso\n",
        "import numpy as np\n",
        "from rsome import ro\n",
        "from rsome import msk_solver as my_solver  #Import Mosek solver interface\n",
        "#from rsome import grb_solver as my_solver  #Import Gurobi solver interface"
      ],
      "execution_count": null,
      "outputs": []
    },
    {
      "cell_type": "markdown",
      "metadata": {
        "id": "iklvPvzyfPZj"
      },
      "source": [
        "## Data (10 cars, 5 aution sequences)"
      ]
    },
    {
      "cell_type": "code",
      "metadata": {
        "id": "Gl4WhxKRfSG5"
      },
      "source": [
        "# Number of cars\n",
        "ncar = 10\n",
        "\n",
        "# Number of sequences\n",
        "nseq = 5\n",
        "\n",
        "# Estimated values by seller\n",
        "v = np.array([20, 21, 24, 22.5, 28, 20.6, 23.4, 25.4, 18.4, 14])\n",
        "\n",
        "# Initial prices (new)\n",
        "a = np.array([30, 35, 36, 33, 37, 28, 30, 32, 25, 22])\n",
        "\n",
        "# Storage price\n",
        "c = np.array([0.1, 0.3, 0.3, 0.2, 0.4, 0.3, 0.2, 0.3, 0.4, 0.1])\n",
        "\n",
        "# Nominal prices\n",
        "p = np.array(\n",
        "    [[20.5, 23.1, 23.6, 22.8, 21.5],\n",
        "     [20.4, 22.5, 25.5, 22.6, 24.4],\n",
        "     [27.6, 26.1, 26.9, 33.7, 30.8],\n",
        "     [22.3, 24.5, 24.7, 23.5, 22.5],\n",
        "     [28.5, 33.4, 29.5, 27.1, 28.5],\n",
        "     [26.9, 25.8, 26.3, 23.6, 27.3],\n",
        "     [29.9, 27.5, 19.2, 28.7, 27.9],\n",
        "     [29.2, 30.9, 27.3, 28.2, 29.5],\n",
        "     [20.8, 24.0, 23.7, 24.6, 22.1],\n",
        "     [19.2, 18.7, 19.3, 20.1, 19.2]\n",
        "     ]\n",
        ")\n",
        "\n",
        "# Price Variance\n",
        "p_var = np.array(\n",
        "    [[0.0571, -0.6687, 0.2040, -0.4741, 0.3082],\n",
        "     [0.3784, 0.4963, -0.0989, -0.8324, -0.542],\n",
        "     [0.8267, -0.6952, 0.6516, 0.0767, 0.9923],\n",
        "     [-0.8436, -0.1146, -0.7867, 0.9238, -0.9907],\n",
        "     [0.5498, 0.6346, 0.7374, -0.8311, -0.2004],\n",
        "     [-0.4803, 0.6001, -0.1372, 0.8213, -0.6363],\n",
        "     [-0.4724, -0.7089, -0.7279, 0.7386, 0.1594],\n",
        "     [0.0997, -0.7101, 0.7061, 0.2441, -0.2981],\n",
        "     [0.0265, -0.1964, -0.8481, -0.5202, -0.7534],\n",
        "     [-0.6322, -0.5201, 0.1655, -0.9007, 0.8054]])"
      ],
      "execution_count": null,
      "outputs": []
    },
    {
      "cell_type": "markdown",
      "metadata": {
        "id": "RQqFCqHtv56P"
      },
      "source": [
        "# **Sequential auction nominal model (SAN-Model)**"
      ]
    },
    {
      "cell_type": "markdown",
      "metadata": {
        "id": "u2cckLTqsXWt"
      },
      "source": [
        "\n",
        " \\begin{align}\n",
        " \\max_x & \\sum_{i=1}^n\\sum_{t=1}^m(P_{it}-v_i)x_{it}-\\sum_{i=1}^n(c_i(1-\\sum_{t=1}^mx_{it}))&\\\\\n",
        "\\text{s.t.} &\\sum_{t=1}^mP_{it}x_{it} \\le a_i, & \\forall i\\\\\n",
        "& x_{it} \\in \\{0,1\\}, & \\forall i, \\forall t \\\\\n",
        "& \\sum_{i=1}^n x_{it} \\ge 1, & \\forall t\\\\\n",
        "& 0 \\le \\sum_{t=1}^m x_{it} \\le 1, & \\forall i\\\\\n",
        "& i=1,2,...,n&\\\\\n",
        "& t=1,2,...,m&\n",
        " \\end{align}\n"
      ]
    },
    {
      "cell_type": "code",
      "metadata": {
        "colab": {
          "base_uri": "https://localhost:8080/"
        },
        "id": "bXSA15QLf7zK",
        "outputId": "ab716ce8-ff0c-44a0-b3c9-d978cd1eaff1"
      },
      "source": [
        "model_SAN = ro.Model('SAN')\n",
        "\n",
        "# Define decision variables\n",
        "x_SAN = model_SAN.dvar((ncar, nseq), vtype='B')\n",
        "\n",
        "# objective function\n",
        "model_SAN.max(\n",
        "    ((p * x_SAN).sum() - (v @ x_SAN).sum()) - ((np.ones(ncar) - x_SAN.sum(axis=1)) @ c)\n",
        ")\n",
        "\n",
        "# constraints\n",
        "model_SAN.st((p * x_SAN).sum(axis=1) <= a)\n",
        "model_SAN.st(x_SAN.sum(axis=0) >= 1)\n",
        "model_SAN.st(x_SAN.sum(axis=1) <= 1)\n",
        "\n",
        "# solve model\n",
        "model_SAN.solve(my_solver)\n",
        "\n",
        "print(model_SAN.get())\n",
        "print('')\n",
        "print(x_SAN.get())"
      ],
      "execution_count": null,
      "outputs": [
        {
          "output_type": "stream",
          "text": [
            "Being solved by Mosek...\n",
            "Solution status: integer_optimal\n",
            "Running time: 0.0173s\n",
            "56.400000000000006\n",
            "\n",
            "[[0. 0. 1. 0. 0.]\n",
            " [0. 0. 1. 0. 0.]\n",
            " [0. 0. 0. 1. 0.]\n",
            " [0. 0. 1. 0. 0.]\n",
            " [0. 1. 0. 0. 0.]\n",
            " [0. 0. 0. 0. 1.]\n",
            " [1. 0. 0. 0. 0.]\n",
            " [0. 1. 0. 0. 0.]\n",
            " [0. 0. 0. 1. 0.]\n",
            " [0. 0. 0. 1. 0.]]\n"
          ],
          "name": "stdout"
        }
      ]
    },
    {
      "cell_type": "markdown",
      "metadata": {
        "id": "pRWqCpBVufB1"
      },
      "source": [
        "# **Sequential auction robust model**\n",
        " \\begin{align}\n",
        " \\max_{x,w} & \\hspace{0.5cm} w &\\\\\n",
        "\\text{s.t.} &  \\hspace{0.2cm}  S + \\sum_{i=1}^n\\sum_{t=1}^m(\\tilde{p}_{it}\\xi_{it})x_{it} \\ge w & \\\\\n",
        "&\\sum_{t=1}^m(p_{it}+\\tilde{p}_{it}\\xi_{it})x_{it} \\le a_i, & \\forall i\\\\\n",
        "& x_{it} \\in \\{0,1\\}, & \\forall i, \\forall t \\\\\n",
        "& \\sum_{i=1}^n x_{it} \\ge 1, & \\forall t\\\\\n",
        "& 0 \\le \\sum_{t=1}^m x_{it} \\le 1, & \\forall i\\\\\n",
        "& i=1,2,...,n&\\\\\n",
        "& t=1,2,...,m&\n",
        " \\end{align}\n",
        "\n",
        " where \n",
        " \\begin{align}S=\\sum_{i=1}^n\\sum_{t=1}^m(p_{it}-v_i)x_{it}-\\sum_{i=1}^n(c_i(1-\\sum_{t=1}^mx_{it}))\\end{align}"
      ]
    },
    {
      "cell_type": "markdown",
      "metadata": {
        "id": "i2Tx4nCmGTV7"
      },
      "source": [
        "# Box Uncertainty model"
      ]
    },
    {
      "cell_type": "markdown",
      "metadata": {
        "id": "xauE3pYawH-Z"
      },
      "source": [
        "\\begin{align}\n",
        "Z^{Box}=\\{\\xi \\in U : || {\\xi}||_\\infty  \\le \\Theta\\}=\\{\\xi : |\\xi|\\le \\Theta\\}\n",
        "\\end{align}\n",
        "\n",
        "Model given in the paper:\n",
        "\n",
        "\\begin{align}\n",
        " \\max_{x,w} & \\hspace{0.5cm} w &\\\\\n",
        "\\text{s.t.} &  \\hspace{0.2cm}  S \\ge w & \\\\\n",
        "&\\sum_{t=1}^mp_{it}x_{it}+\\Theta \\sum_{t=1}^m \\tilde{p}_{it}x_{it} \\le a_i, & \\forall i\\\\\n",
        "& x_{it} \\in \\{0,1\\}, & \\forall i, \\forall t \\\\\n",
        "& \\sum_{i=1}^n x_{it} \\ge 1, & \\forall t\\\\\n",
        "& 0 \\le \\sum_{t=1}^m x_{it} \\le 1, & \\forall i\\\\\n",
        "& i=1,2,...,n&\\\\\n",
        "& t=1,2,...,m&\n",
        " \\end{align}"
      ]
    },
    {
      "cell_type": "code",
      "metadata": {
        "id": "ljCcgIMPGWzS"
      },
      "source": [
        "# Model as presented in the paper\n",
        "def boxset_p(Theta):\n",
        "    model_Box = ro.Model('Box_paper')\n",
        "\n",
        "    # Define decision variables\n",
        "    x_box = model_Box.dvar((ncar, nseq), vtype='B')\n",
        "    s_box = model_Box.dvar(1)\n",
        "\n",
        "    # objective function\n",
        "    model_Box.max(s_box)\n",
        "\n",
        "    # constraints\n",
        "    model_Box.st(s_box <= ((p * x_box).sum() - (v @ x_box).sum()) - ((np.ones(ncar) - x_box.sum(axis=1)) @ c))\n",
        "    model_Box.st((p * x_box).sum(axis=1) + Theta*(p_var * x_box).sum(axis=1) <= a)\n",
        "    model_Box.st(x_box.sum(axis=0) >= 1)\n",
        "    model_Box.st(x_box.sum(axis=1) >= 0)\n",
        "    model_Box.st(x_box.sum(axis=1) <= 1)\n",
        "\n",
        "    # solve model\n",
        "    model_Box.solve(my_solver)\n",
        "\n",
        "    return model_Box.get(), x_box.get()"
      ],
      "execution_count": null,
      "outputs": []
    },
    {
      "cell_type": "markdown",
      "metadata": {
        "id": "LMqAJG9RQYfF"
      },
      "source": [
        "Our reformulation\n",
        "\\begin{align}\n",
        " \\max_{x,w,\\lambda^+,\\lambda^-,\\gamma^+,\\gamma^-} & \\hspace{0.5cm} w &\\\\\n",
        "\\text{s.t.} &  \\hspace{0.2cm}   \\Theta\\sum_{i=1}^n\\sum_{t=1}^m (\\lambda_{it}^++\\lambda_{it}^-)\\ge w -S & \\\\\n",
        "& \\lambda_{it}^+-\\lambda_{it}^-= \\tilde{p}_{it}x_{it} &  \\forall i, \\forall t\\\\\n",
        "&\\Theta\\sum_{t=1}^m(\\gamma_{it}^++\\gamma_{it}^-) \\le a_i-\\sum_{t=1}^mp_{it}x_{it}, & \\forall i\\\\\n",
        "&\\gamma_{it}^+-\\gamma_{it}^- =   \\tilde{p}_{it}x_{it} & \\forall i, \\forall t\\\\\n",
        "& x_{it} \\in \\{0,1\\}, & \\forall i, \\forall t \\\\\n",
        "& \\sum_{i=1}^n x_{it} \\ge 1, & \\forall t\\\\\n",
        "& 0 \\le \\sum_{t=1}^m x_{it} \\le 1, & \\forall i\\\\\n",
        "& \\lambda_{it}^+,\\lambda_{it}^- \\le 0 & \\forall i, \\forall t\\\\\n",
        "& \\gamma_{it}^+,\\gamma_{it}^- \\ge 0 & \\forall i, \\forall t\\\\\n",
        "& i=1,2,...,n&\\\\\n",
        "& t=1,2,...,m&\n",
        " \\end{align}"
      ]
    },
    {
      "cell_type": "code",
      "metadata": {
        "id": "PSr0mXwltBWg"
      },
      "source": [
        "def boxset(Theta):\n",
        "\n",
        "    model_Box2 = ro.Model('Box')\n",
        "\n",
        "    # Define decision variables\n",
        "    x_box2 = model_Box2.dvar((ncar, nseq), vtype='B')\n",
        "    s_box2 = model_Box2.dvar(1)\n",
        "    l1_box2 = model_Box2.dvar(nseq)\n",
        "    g1_box2 = model_Box2.dvar(nseq)\n",
        "    l2_box2 = model_Box2.dvar((ncar, nseq))\n",
        "    g2_box2 = model_Box2.dvar((ncar, nseq))\n",
        "\n",
        "    # objective function\n",
        "    model_Box2.max(s_box2)\n",
        "\n",
        "    # constraints\n",
        "    model_Box2.st(\n",
        "      Theta*(l1_box2 + g1_box2).sum() >= s_box2 - ((p * x_box2).sum() - (v @ x_box2).sum()) + ((np.ones(ncar) - x_box2.sum(axis=1)) @ c)\n",
        "    )\n",
        "    model_Box2.st(l1_box2 - g1_box2 == (p_var * x_box2).sum(axis=0))\n",
        "    for i in range(ncar):\n",
        "      model_Box2.st(\n",
        "          Theta*(l2_box2[i] + g2_box2[i]).sum() <= a[i] - (p * x_box2).sum(axis=1)[i]\n",
        "      )\n",
        "      model_Box2.st(l2_box2[i] - g2_box2[i] == (p_var * x_box2)[i])\n",
        "    model_Box2.st(x_box2.sum(axis=0) >= 1)\n",
        "    model_Box2.st(x_box2.sum(axis=1) >= 0)\n",
        "    model_Box2.st(x_box2.sum(axis=1) <= 1)\n",
        "    model_Box2.st(l1_box2 <= 0)\n",
        "    model_Box2.st(g1_box2 <= 0)\n",
        "    model_Box2.st(l2_box2 >= 0)\n",
        "    model_Box2.st(g2_box2 >= 0)\n",
        "\n",
        "    # solve model\n",
        "    model_Box2.solve(my_solver)\n",
        "\n",
        "    return model_Box2.get(), x_box2.get()"
      ],
      "execution_count": null,
      "outputs": []
    },
    {
      "cell_type": "markdown",
      "metadata": {
        "id": "dEvXWD1VI7AZ"
      },
      "source": [
        "# Ellipsoidal Set\n",
        "\n"
      ]
    },
    {
      "cell_type": "markdown",
      "metadata": {
        "id": "oSN6s4hqJIIb"
      },
      "source": [
        "\\begin{align}\n",
        "Z^{Ellipsoid}=\\{\\xi \\in U : || {\\xi}||_2  \\le \\Omega\\}=\\{\\xi : \\sqrt{\\sum_{t} \\xi_{it}^{2}} \\le \\Theta\\}\n",
        "\\end{align}\n",
        "\n",
        "Model given in the paper:\n",
        "\n",
        "\\begin{align}\n",
        " \\max_{x,w} & \\hspace{0.5cm} w &\\\\\n",
        "\\text{s.t.} &  \\hspace{0.2cm}  S \\ge w & \\\\\n",
        "&\\sum_{t=1}^mp_{it}x_{it}+\\Omega \\sqrt{ (\\sum_{t=1}^m \\tilde{p}_{it}x_{it})^{2} } \\le a_i, & \\forall i\\\\\n",
        "& x_{it} \\in \\{0,1\\}, & \\forall i, \\forall t \\\\\n",
        "& \\sum_{i=1}^n x_{it} \\ge 1, & \\forall t\\\\\n",
        "& 0 \\le \\sum_{t=1}^m x_{it} \\le 1, & \\forall i\\\\\n",
        "& i=1,2,...,n&\\\\\n",
        "& t=1,2,...,m&\n",
        " \\end{align}"
      ]
    },
    {
      "cell_type": "code",
      "metadata": {
        "id": "Goiq8XTdKExf"
      },
      "source": [
        "# Model as presented in the paper\n",
        "def ellset_p(Omega):\n",
        "    model = ro.Model('Ellipsoidal_paper')\n",
        "\n",
        "    # Define decision variables\n",
        "    x = model.dvar((ncar, nseq), vtype='B')\n",
        "    s = model.dvar(1)\n",
        "\n",
        "    # objective function\n",
        "    model.max(s)\n",
        "\n",
        "    # constraints\n",
        "    model.st(s <= ((p * x).sum() - (v @ x).sum()) - ((np.ones(ncar) - x.sum(axis=1)) @ c))\n",
        "    for i in range(ncar):\n",
        "      model.st(\n",
        "          (p * x).sum(axis=1)[i] + Omega * ro.norm((p_var * x)[i], 2) <= a[i]\n",
        "          # (p * x).sum(axis=1)[i] + Omega * ro.norm((p_var * x).sum(axis=1)[i], 2) <= a[i]\n",
        "      )\n",
        "    model.st(x.sum(axis=0) >= 1)\n",
        "    model.st(x.sum(axis=1) >= 0)\n",
        "    model.st(x.sum(axis=1) <= 1)\n",
        "\n",
        "    # solve model\n",
        "    model.solve(my_solver)\n",
        "\n",
        "    return model.get(), x.get()"
      ],
      "execution_count": null,
      "outputs": []
    },
    {
      "cell_type": "markdown",
      "metadata": {
        "id": "msQmEwfFLAxe"
      },
      "source": [
        "Our reformulation:\n",
        "\\begin{align}\n",
        " \\max_{x,w} & \\hspace{0.5cm} w &\\\\\n",
        "\\text{s.t.} &  \\hspace{0.2cm}  \\Omega \\sqrt{ (\\sum_{i=1}^{n} \\sum_{t=1}^{m} \\tilde{p}_{it} x_{it})^{2} } \\ge w - S & \\\\\n",
        "&\\sum_{t=1}^mp_{it}x_{it}+ \\Omega \\sqrt{(\\sum_{t=1}^m \\tilde{p}_{it}x_{it})^{2} } \\le a_i, & \\forall i\\\\\n",
        "& x_{it} \\in \\{0,1\\}, & \\forall i, \\forall t \\\\\n",
        "& \\sum_{i=1}^n x_{it} \\ge 1, & \\forall t\\\\\n",
        "& 0 \\le \\sum_{t=1}^m x_{it} \\le 1, & \\forall i\\\\\n",
        "& i=1,2,...,n&\\\\\n",
        "& t=1,2,...,m&\n",
        " \\end{align}"
      ]
    },
    {
      "cell_type": "code",
      "metadata": {
        "id": "SusXJusTO_Zw"
      },
      "source": [
        "def ellset(Omega):\n",
        "    model = ro.Model('Ellipsoidal')\n",
        "\n",
        "    # Define decision variables\n",
        "    x = model.dvar((ncar, nseq), vtype='B')\n",
        "    s = model.dvar(1)\n",
        "\n",
        "    # objective function\n",
        "    model.max(s)\n",
        "\n",
        "    # constraints\n",
        "    model.st(\n",
        "        -Omega*ro.norm((p_var*x).sum(axis=1), 2) >= s - ((p * x).sum() - (v @ x).sum()) + ((np.ones(ncar) - x.sum(axis=1)) @ c)\n",
        "        )\n",
        "    for i in range(ncar):\n",
        "      model.st(\n",
        "          (p * x).sum(axis=1)[i] + Omega * ro.norm((p_var * x)[i], 2) <= a[i]\n",
        "      )\n",
        "    model.st(x.sum(axis=0) >= 1)\n",
        "    model.st(x.sum(axis=1) >= 0)\n",
        "    model.st(x.sum(axis=1) <= 1)\n",
        "\n",
        "    # solve model\n",
        "    model.solve(my_solver)\n",
        "\n",
        "    return model.get(), x.get()"
      ],
      "execution_count": null,
      "outputs": []
    },
    {
      "cell_type": "markdown",
      "metadata": {
        "id": "4f1HGjxRO-On"
      },
      "source": [
        "# Polyhedron Set"
      ]
    },
    {
      "cell_type": "markdown",
      "metadata": {
        "id": "e37PMVjSPq1O"
      },
      "source": [
        "\\begin{align}\n",
        "Z^{Polyhedron}=\\{\\xi \\in U : || {\\xi}||_1  \\le \\Gamma_i\\}=\\{\\xi : \\sum_{t} |\\xi_{it}| \\le \\Gamma_i\\}\n",
        "\\end{align}\n",
        "\n",
        "Model given in the paper:\n",
        "\n",
        "\\begin{align}\n",
        " \\max_{x,w} & \\hspace{0.5cm} w &\\\\\n",
        "\\text{s.t.} &  \\hspace{0.2cm}  S - \\sum_{i=1}^{n} \\Gamma_i \\tilde{p}_{it} x_{it} \\ge w & \\\\\n",
        "&\\sum_{t=1}^mp_{it}x_{it}+\\Gamma_i \\tilde{p}_{it} x_{it} \\le a_i, & \\forall i\\\\\n",
        "& x_{it} \\in \\{0,1\\}, & \\forall i, \\forall t \\\\\n",
        "& \\sum_{i=1}^n x_{it} \\ge 1, & \\forall t\\\\\n",
        "& 0 \\le \\sum_{t=1}^m x_{it} \\le 1, & \\forall i\\\\\n",
        "& i=1,2,...,n&\\\\\n",
        "& t=1,2,...,m&\n",
        " \\end{align}"
      ]
    },
    {
      "cell_type": "code",
      "metadata": {
        "id": "jnUcq3ZBRLCN"
      },
      "source": [
        "# Model as presented in the paper\n",
        "def poly_p(Gamma):\n",
        "    model = ro.Model('Poyhedron_paper')\n",
        "\n",
        "    # Define decision variables\n",
        "    x = model.dvar((ncar, nseq), vtype='B')\n",
        "    s = model.dvar(1)\n",
        "\n",
        "    print((p_var * x).sum().shape)\n",
        "\n",
        "    # objective function\n",
        "    model.max(s)\n",
        "\n",
        "    # constraints\n",
        "    for t in range(nseq):\n",
        "        model.st(\n",
        "            (((p * x).sum() - (v @ x).sum()) - ((np.ones(ncar) - x.sum(axis=1)) @ c)) - Gamma*((p_var * x).T[t]).sum() >= s\n",
        "            )\n",
        "    model.st((p * x).sum(axis=1) + Gamma*(p_var * x).sum(axis=1) <= a)\n",
        "    model.st(x.sum(axis=0) >= 1)\n",
        "    model.st(x.sum(axis=1) >= 0)\n",
        "    model.st(x.sum(axis=1) <= 1)\n",
        "\n",
        "    # solve model\n",
        "    model.solve(my_solver)\n",
        "\n",
        "    return model.get(), x.get()"
      ],
      "execution_count": null,
      "outputs": []
    },
    {
      "cell_type": "markdown",
      "metadata": {
        "id": "wR0e-xH1SGw1"
      },
      "source": [
        "Our reformulation:\n",
        "\\begin{align}\n",
        " \\max_{x,w,\\Lambda, \\gamma, \\lambda^+,\\lambda^-,\\pi^+,\\pi^-} \\hspace{5mm} & w &\\\\\n",
        "                \\text{s.t.} \\hspace{5mm} & \\Gamma\\gamma\\le S-w &\\\\\n",
        "            & -\\gamma_i+\\lambda_{it}^+= \\tilde{p}_{it}x_{it} & \\forall i \\in I, \\forall t \\in T \\\\\n",
        "                &-\\gamma_i+\\lambda_{it}^-= -\\tilde{p}_{it}x_{it} & \\forall i \\in I, \\forall t \\in T \\\\\n",
        "                &\\Gamma_i\\Lambda_i\\leq a_{i} - \\sum_{t=1}^{m} p_{it} x_{it} & \\forall i \\in I\\\\\n",
        "            & \\Lambda_i-\\pi_{it}^+= \\tilde{p}_{it}x_{it} & \\forall i \\in I, \\forall t \\in T \\\\\n",
        "                &\\Lambda_i-\\pi_{it}^-= -\\tilde{p}_{it}x_{it} & \\forall i \\in I, \\forall t \\in T \\\\\n",
        "                & \\sum_{i=1}^n x_{it} \\ge 1 & \\forall t \\in T\\\\\n",
        "                & 0 \\le \\sum_{t=1}^m x_{it} \\le 1 & \\forall i \\in I\\\\\n",
        "                 & x_{it} \\in \\{0,1\\} & \\forall i \\in I, \\forall t \\in T \\\\\n",
        "                & \\lambda_{it}^{+}, \\lambda_{it}^{-}, \\pi_{it}^{+}, \\pi_{it}^{-} \\geq 0 & \\forall i \\in I, \\forall t \\in T \\\\\n",
        "                &\\gamma_i, \\Lambda_i \\ge 0 &\\forall i \\in I\n",
        " \\end{align}"
      ]
    },
    {
      "cell_type": "code",
      "metadata": {
        "id": "zTMaU6St3ahX"
      },
      "source": [
        "def poly(Gamma):\n",
        "    model = ro.Model('Poyhedron')\n",
        "\n",
        "    # Define decision variables\n",
        "    x = model.dvar((ncar, nseq), vtype='B')\n",
        "    s = model.dvar(1)\n",
        "    lambda_plus = model.dvar((ncar, nseq))\n",
        "    lambda_minus = model.dvar((ncar, nseq))\n",
        "    gamma = model.dvar(ncar)\n",
        "    Delta = model.dvar(ncar)\n",
        "    pi_plus = model.dvar((ncar, nseq))\n",
        "    pi_minus = model.dvar((ncar, nseq))\n",
        "\n",
        "    # objective function\n",
        "    model.max(s)\n",
        "\n",
        "    # constraints\n",
        "    model.st(((Gamma*np.ones(ncar)) * gamma).sum() <= (((p * x).sum() - (v @ x).sum()) - ((np.ones(ncar) - x.sum(axis=1)) @ c)) - s)\n",
        "    for i in range(ncar):\n",
        "      for t in range(nseq):\n",
        "        model.st(-gamma[i] + lambda_plus[i,t] == (p_var[i,t] * x[i,t]))\n",
        "        model.st(-gamma[i] + lambda_minus[i,t] == -(p_var[i,t] * x[i,t]))\n",
        "\n",
        "    \n",
        "    model.st((Gamma*np.ones(ncar)) * Delta <= a - (p * x).sum(axis=1))\n",
        "\n",
        "    for i in range(ncar):\n",
        "      for t in range(nseq):\n",
        "        model.st(-pi_plus[i,t] + Delta[i] == (p_var[i,t] * x[i,t]))\n",
        "        model.st(-pi_minus[i,t] + Delta[i] == -(p_var[i,t] * x[i,t]))\n",
        "\n",
        "    model.st(x.sum(axis=0) >= 1)\n",
        "    model.st(x.sum(axis=1) >= 0)\n",
        "    model.st(x.sum(axis=1) <= 1)\n",
        "    model.st(lambda_plus >= 0)\n",
        "    model.st(lambda_minus >= 0)\n",
        "    model.st(Delta >= 0)\n",
        "    model.st(pi_plus >= 0)\n",
        "    model.st(pi_minus >= 0)\n",
        "\n",
        "    # solve model\n",
        "    model.solve(my_solver)\n",
        "\n",
        "    return model.get(), x.get()"
      ],
      "execution_count": null,
      "outputs": []
    },
    {
      "cell_type": "markdown",
      "metadata": {
        "id": "kLNX-PIcXgIY"
      },
      "source": [
        "# Box-Polyhedron Set"
      ]
    },
    {
      "cell_type": "markdown",
      "metadata": {
        "id": "xPOHfVNpXjVl"
      },
      "source": [
        "\\begin{align}\n",
        "Z^{Box-Polyhedron}=\\{\\xi \\in U : || {\\xi}||_\\infty  \\le \\Theta, || {\\xi}||_\\infty \\leq \\Gamma\\}=\\{\\xi : |\\xi_{it}| \\leq \\Theta, \\sum_{t} |\\xi_{it}| \\le \\Gamma_i\\}\n",
        "\\end{align}\n",
        "\n",
        "Model given in the paper:\n",
        "\n",
        "\\begin{align}\n",
        " \\max_{x,w, \\mathcal{z}, q} & \\hspace{0.5cm} w &\\\\\n",
        "\\text{s.t.} &  \\hspace{0.2cm}  S - \\sum_{i=1}^{n} \\Gamma \\mathcal{z}_{i} \\ge w & \\\\\n",
        "& \\mathcal{z}_{i} + q_{it} \\geq \\tilde{p}_{it} x_{it} & \\forall i, \\forall t \\\\\n",
        "&\\sum_{t=1}^mp_{it}x_{it}+ \\Gamma \\mathcal{z}_{i} + \\Theta \\sum_{t=1}^{m} q_{it} \\le a_i, & \\forall i\\\\\n",
        "& x_{it} \\in \\{0,1\\}, & \\forall i, \\forall t \\\\\n",
        "& \\sum_{i=1}^n x_{it} \\ge 1, & \\forall t\\\\\n",
        "& 0 \\le \\sum_{t=1}^m x_{it} \\le 1, & \\forall i\\\\\n",
        "& \\mathcal{z}, q \\geq 0 & \\\\\n",
        "& i=1,2,...,n&\\\\\n",
        "& t=1,2,...,m&\n",
        " \\end{align}"
      ]
    },
    {
      "cell_type": "code",
      "metadata": {
        "id": "Z2DnzQOnZsuQ"
      },
      "source": [
        "# Model as presented in the paper\n",
        "def box_poly_p(Theta, Gamma):\n",
        "    model = ro.Model('Box_Poyhedron_paper')\n",
        "\n",
        "    # Define decision variables\n",
        "    x = model.dvar((ncar, nseq), vtype='B')\n",
        "    s = model.dvar(1)\n",
        "    z = model.dvar(ncar)\n",
        "    q = model.dvar((ncar, nseq))\n",
        "\n",
        "    # objective function\n",
        "    model.max(s)\n",
        "\n",
        "    # constraints\n",
        "    model.st( (((p * x).sum() - (v @ x).sum()) - ((np.ones(ncar) - x.sum(axis=1)) @ c)) - Gamma*z.sum() >= s )\n",
        "    model.st((p * x).sum(axis=1) + (Gamma * z) + (Theta * q.sum(axis=1)) <= a)\n",
        "    # for t in range(nseq):\n",
        "      # model.st(z + q.T[t].T >= (p_var * x).T[t].T)\n",
        "    model.st(z + q.sum(axis=1) >= (p_var * x).sum(axis=1))\n",
        "    model.st(x.sum(axis=0) >= 1)\n",
        "    model.st(x.sum(axis=1) >= 0)\n",
        "    model.st(x.sum(axis=1) <= 1)\n",
        "    model.st(z >= 0)\n",
        "    model.st(q >= 0)\n",
        "\n",
        "    # solve model\n",
        "    model.solve(my_solver)\n",
        "\n",
        "    return model.get(), x.get()"
      ],
      "execution_count": null,
      "outputs": []
    },
    {
      "cell_type": "markdown",
      "metadata": {
        "id": "F7lfpjtybX8U"
      },
      "source": [
        "Our reformulation:\n",
        "\\begin{align}\n",
        " \\max_{\\substack{x,w, \\gamma, \\Lambda, \\lambda^{+},\\lambda^{-},\\\\\\mu^+,\\mu^-,\\pi^{+},\\pi^{-},\\eta^+,\\eta^-}} \\hspace{5mm} & w &\\\\\n",
        "                \\text{s.t.} \\hspace{5mm}  &\\sum_{i=1}^n \\Gamma_i\\gamma_i + \\theta \\sum_{i=1}^n \\sum_{t=1}^m (\\mu_{it}^+ + \\mu_{it}^-) \\le S-w\\\\\n",
        "            & -\\gamma_i-\\mu_{it}^++\\mu_{it}^-+\\lambda_{it}^+= \\tilde{p}_{it}x_{it} & \\forall i \\in I, \\forall t \\in T \\\\\n",
        "                &-\\gamma_i+\\mu_{it}^+-\\mu_{it}^-+\\lambda_{it}^-= -\\tilde{p}_{it}x_{it} & \\forall i \\in I, \\forall t \\in T \\\\\n",
        "                & \\Gamma_i\\Lambda_i +\\theta  \\sum_{t=1}^m (\\eta_{it}^+ + \\eta_{it}^-)\\leq a_{i} - \\sum_{t=1}^{m} p_{it} x_{it} & \\forall i \\in I\\\\\n",
        "             & \\Lambda_i+\\eta_{it}^+-\\eta_{it}^--\\pi_{it}^+= \\tilde{p}_{it}x_{it} & \\forall i \\in I, \\forall t \\in T \\\\\n",
        "             &\\Lambda_i-\\eta_{it}^++\\eta_{it}^--\\pi_{it}^-= -\\tilde{p}_{it}x_{it} & \\forall i \\in I, \\forall t \\in T \\\\\n",
        "                & \\sum_{i=1}^n x_{it} \\ge 1 & \\forall t \\in T\\\\\n",
        "                & 0 \\le \\sum_{t=1}^m x_{it} \\le 1 & \\forall i \\in I\\\\\n",
        "                 & x_{it} \\in \\{0,1\\} & \\forall i \\in I, \\forall t \\in T \\\\\n",
        "                 & \\lambda_{it}^{+}, \\lambda_{it}^{-},  \\mu_{it}^+,\\mu_{it}^-, \\pi_{it}^{+}, \\pi_{it}^{-},  \\eta_{it}^+,\\eta_{it}^- \\geq 0 & \\forall i \\in I, \\forall t \\in T \\\\\n",
        "                &\\gamma_i, \\Lambda_i \\ge 0 &\\forall i \\in I\n",
        " \\end{align}"
      ]
    },
    {
      "cell_type": "code",
      "metadata": {
        "id": "tNhCgOnm6r94"
      },
      "source": [
        "def box_poly(Theta, Gamma):\n",
        "    model = ro.Model('Box_Poyhedron')\n",
        "\n",
        "    # Define decision variables\n",
        "    x = model.dvar((ncar, nseq), vtype='B')\n",
        "    s = model.dvar(1)\n",
        "    lambda_plus = model.dvar((ncar, nseq))\n",
        "    lambda_minus = model.dvar((ncar, nseq))\n",
        "    gamma = model.dvar(ncar)\n",
        "    Delta = model.dvar(ncar)\n",
        "    pi_plus = model.dvar((ncar, nseq))\n",
        "    pi_minus = model.dvar((ncar, nseq))\n",
        "    mu_plus = model.dvar((ncar, nseq))\n",
        "    mu_minus = model.dvar((ncar, nseq))\n",
        "    eta_plus = model.dvar((ncar, nseq))\n",
        "    eta_minus = model.dvar((ncar, nseq))\n",
        "\n",
        "\n",
        "    # objective function\n",
        "    model.max(s)\n",
        "\n",
        "    # constraints\n",
        "    model.st(((Gamma*np.ones(ncar)) * gamma).sum() + Theta*(mu_plus + mu_minus).sum() <= (((p * x).sum() - (v @ x).sum()) - ((np.ones(ncar) - x.sum(axis=1)) @ c)) - s)\n",
        "    for i in range(ncar):\n",
        "      for t in range(nseq):\n",
        "        model.st(-gamma[i] - mu_plus[i,t] + mu_minus[i,t] + lambda_plus[i,t] == (p_var[i,t] * x[i,t]))\n",
        "        model.st(-gamma[i] + mu_plus[i,t] - mu_minus[i,t] + lambda_minus[i,t] == -(p_var[i,t] * x[i,t]))\n",
        "\n",
        "    \n",
        "    model.st((Gamma*np.ones(ncar)) * Delta + Theta*(eta_plus + eta_minus).sum(axis=1) <= a - (p * x).sum(axis=1))\n",
        "\n",
        "    for i in range(ncar):\n",
        "      for t in range(nseq):\n",
        "        model.st(-pi_plus[i,t] + Delta[i] + eta_plus[i,t] - eta_minus[i,t] == (p_var[i,t] * x[i,t]))\n",
        "        model.st(-pi_minus[i,t] + Delta[i] - eta_plus[i,t] + eta_minus[i,t] == -(p_var[i,t] * x[i,t]))\n",
        "\n",
        "\n",
        "\n",
        "    model.st(x.sum(axis=0) >= 1)\n",
        "    model.st(x.sum(axis=1) >= 0)\n",
        "    model.st(x.sum(axis=1) <= 1)\n",
        "    model.st(lambda_plus >= 0)\n",
        "    model.st(lambda_minus >= 0)\n",
        "    model.st(Delta >= 0)\n",
        "    model.st(pi_plus >= 0)\n",
        "    model.st(pi_minus >= 0)\n",
        "    model.st(mu_plus >= 0)\n",
        "    model.st(mu_minus >= 0)\n",
        "    model.st(eta_plus >= 0)\n",
        "    model.st(eta_minus >= 0)\n",
        "\n",
        "    # solve model\n",
        "    model.solve(my_solver)\n",
        "\n",
        "    return model.get(), x.get()"
      ],
      "execution_count": null,
      "outputs": []
    },
    {
      "cell_type": "markdown",
      "metadata": {
        "id": "ioQoG328qV3v"
      },
      "source": [
        "# Results"
      ]
    },
    {
      "cell_type": "markdown",
      "metadata": {
        "id": "PhcXG_SOqZzB"
      },
      "source": [
        "Comparing formulations as presented in the paper vs. our reformulations"
      ]
    },
    {
      "cell_type": "code",
      "metadata": {
        "colab": {
          "base_uri": "https://localhost:8080/"
        },
        "id": "rpbx-FAoqhHU",
        "outputId": "f7351164-2307-4e70-f24c-4380508d550b"
      },
      "source": [
        "set_params = 11\n",
        "\n",
        "# Box Set\n",
        "res_box = [0]*set_params\n",
        "\n",
        "for i in range(set_params):\n",
        "    temp_obj, _ = boxset(i)\n",
        "    res_box[i] = temp_obj\n",
        "\n",
        "# Ellipsoid Set\n",
        "res_ell = [0]*set_params\n",
        "\n",
        "for i in range(set_params):\n",
        "    temp_obj, _ = ellset(i)\n",
        "    res_ell[i] = temp_obj\n",
        "\n",
        "\n",
        "# Polyhedron Set\n",
        "res_poly = [0]*set_params\n",
        "\n",
        "for i in range(set_params):\n",
        "    temp_obj, _ = poly(i)\n",
        "    res_poly[i] = temp_obj\n",
        "\n",
        "\n",
        "# Box-Polyhedron Set\n",
        "res_box_poly = [0]*set_params\n",
        "\n",
        "for i in range(set_params):\n",
        "    temp_obj, _ = box_poly(i, i)\n",
        "    res_box_poly[i] = temp_obj"
      ],
      "execution_count": null,
      "outputs": [
        {
          "output_type": "stream",
          "text": [
            "Being solved by Mosek...\n",
            "Solution status: integer_optimal\n",
            "Running time: 0.0132s\n",
            "Being solved by Mosek...\n",
            "Solution status: integer_optimal\n",
            "Running time: 0.0423s\n",
            "Being solved by Mosek...\n",
            "Solution status: integer_optimal\n",
            "Running time: 0.0253s\n",
            "Being solved by Mosek...\n",
            "Solution status: integer_optimal\n",
            "Running time: 0.0216s\n",
            "Being solved by Mosek...\n",
            "Solution status: integer_optimal\n",
            "Running time: 0.0223s\n",
            "Being solved by Mosek...\n",
            "Solution status: integer_optimal\n",
            "Running time: 0.0208s\n",
            "Being solved by Mosek...\n",
            "Solution status: integer_optimal\n",
            "Running time: 0.0221s\n",
            "Being solved by Mosek...\n",
            "Solution status: integer_optimal\n",
            "Running time: 0.0207s\n",
            "Being solved by Mosek...\n",
            "Solution status: integer_optimal\n",
            "Running time: 0.0202s\n",
            "Being solved by Mosek...\n",
            "Solution status: integer_optimal\n",
            "Running time: 0.0224s\n",
            "Being solved by Mosek...\n",
            "Solution status: integer_optimal\n",
            "Running time: 0.0216s\n",
            "Being solved by Mosek...\n",
            "Solution status: integer_optimal\n",
            "Running time: 0.0125s\n",
            "Being solved by Mosek...\n",
            "Solution status: integer_optimal\n",
            "Running time: 0.0532s\n",
            "Being solved by Mosek...\n",
            "Solution status: integer_optimal\n",
            "Running time: 0.0510s\n",
            "Being solved by Mosek...\n",
            "Solution status: integer_optimal\n",
            "Running time: 0.0505s\n",
            "Being solved by Mosek...\n",
            "Solution status: integer_optimal\n",
            "Running time: 0.0390s\n",
            "Being solved by Mosek...\n",
            "Solution status: integer_optimal\n",
            "Running time: 0.0411s\n",
            "Being solved by Mosek...\n",
            "Solution status: integer_optimal\n",
            "Running time: 0.0550s\n",
            "Being solved by Mosek...\n",
            "Solution status: integer_optimal\n",
            "Running time: 0.0443s\n",
            "Being solved by Mosek...\n",
            "Solution status: integer_optimal\n",
            "Running time: 0.0550s\n",
            "Being solved by Mosek...\n",
            "Solution status: integer_optimal\n",
            "Running time: 0.0449s\n",
            "Being solved by Mosek...\n",
            "Solution status: integer_optimal\n",
            "Running time: 0.0398s\n",
            "Being solved by Mosek...\n",
            "Solution status: integer_optimal\n",
            "Running time: 0.0139s\n",
            "Being solved by Mosek...\n",
            "Solution status: integer_optimal\n",
            "Running time: 0.0281s\n",
            "Being solved by Mosek...\n",
            "Solution status: integer_optimal\n",
            "Running time: 0.0224s\n",
            "Being solved by Mosek...\n",
            "Solution status: integer_optimal\n",
            "Running time: 0.0208s\n",
            "Being solved by Mosek...\n",
            "Solution status: integer_optimal\n",
            "Running time: 0.0211s\n",
            "Being solved by Mosek...\n",
            "Solution status: integer_optimal\n",
            "Running time: 0.0218s\n",
            "Being solved by Mosek...\n",
            "Solution status: integer_optimal\n",
            "Running time: 0.0190s\n",
            "Being solved by Mosek...\n",
            "Solution status: integer_optimal\n",
            "Running time: 0.0199s\n",
            "Being solved by Mosek...\n",
            "Solution status: integer_optimal\n",
            "Running time: 0.0185s\n",
            "Being solved by Mosek...\n",
            "Solution status: integer_optimal\n",
            "Running time: 0.0194s\n",
            "Being solved by Mosek...\n",
            "Solution status: integer_optimal\n",
            "Running time: 0.0211s\n",
            "Being solved by Mosek...\n",
            "Solution status: integer_optimal\n",
            "Running time: 0.0151s\n",
            "Being solved by Mosek...\n",
            "Solution status: integer_optimal\n",
            "Running time: 0.0582s\n",
            "Being solved by Mosek...\n",
            "Solution status: integer_optimal\n",
            "Running time: 0.0370s\n",
            "Being solved by Mosek...\n",
            "Solution status: integer_optimal\n",
            "Running time: 0.0360s\n",
            "Being solved by Mosek...\n",
            "Solution status: integer_optimal\n",
            "Running time: 0.0389s\n",
            "Being solved by Mosek...\n",
            "Solution status: integer_optimal\n",
            "Running time: 0.0323s\n",
            "Being solved by Mosek...\n",
            "Solution status: integer_optimal\n",
            "Running time: 0.0406s\n",
            "Being solved by Mosek...\n",
            "Solution status: integer_optimal\n",
            "Running time: 0.0316s\n",
            "Being solved by Mosek...\n",
            "Solution status: integer_optimal\n",
            "Running time: 0.0302s\n",
            "Being solved by Mosek...\n",
            "Solution status: integer_optimal\n",
            "Running time: 0.0296s\n",
            "Being solved by Mosek...\n",
            "Solution status: integer_optimal\n",
            "Running time: 0.0292s\n"
          ],
          "name": "stdout"
        }
      ]
    },
    {
      "cell_type": "code",
      "metadata": {
        "id": "1IDXqeLy35GH"
      },
      "source": [
        "# Their results \n",
        "res_p_box = [56.4, 56.4, 56.4, 56.4, 56.4, 56.4, 52.5, 52.5, 52.5, 52.5, 52.5]\n",
        "res_p_ell = [56.4, 53.7, 52, 50.5, 50.5, 50.3, 43.3, 43.3, 43.3, 43, 43]\n",
        "res_p_poly = [56.4, 55.4847, 54.5694, 53.7661, 53.0548, 52.3435, 50.5398, 50.4631, 50.3864, 50.3097, 50.2330]\n",
        "res_p_box_poly = [56.4, 51.4195, 46.5390, 41.8585, 30.4780, 27.8975, 23.1170, 15.6365, 11.3560, 2.8755, 0.2950]"
      ],
      "execution_count": null,
      "outputs": []
    },
    {
      "cell_type": "code",
      "metadata": {
        "colab": {
          "base_uri": "https://localhost:8080/",
          "height": 615
        },
        "id": "-TneerpiquXH",
        "outputId": "e56c6712-8d1d-406c-abc5-c0b0ba954ddd"
      },
      "source": [
        "import matplotlib\n",
        "import matplotlib.pyplot as plt\n",
        "%matplotlib inline\n",
        "\n",
        "plt.figure(figsize=(15,10))\n",
        "plt.plot(np.arange(set_params), res_p_box, '--ro', label='box_paper')\n",
        "plt.plot(np.arange(set_params), res_box, '-rx', label='box')\n",
        "# plt.plot(np.arange(set_params), res_box_rsome, '-ro', label='box_rsome')\n",
        "plt.plot(np.arange(set_params), res_p_ell, '--bo', label='ellipsoid_paper')\n",
        "plt.plot(np.arange(set_params), res_ell, '-bx', label='ellipsoid')\n",
        "plt.plot(np.arange(set_params), res_p_poly, '--ko', label='polyhedron_paper')\n",
        "plt.plot(np.arange(set_params), res_poly, '-kx', label='polyhedron')\n",
        "plt.plot(np.arange(set_params), res_p_box_poly, '--go', label='box_polyhedron_paper')\n",
        "plt.plot(np.arange(set_params), res_box_poly, '-gx', label='box_polyhedron')\n",
        "plt.xlabel('Set Parameter', fontsize=20)\n",
        "plt.ylabel('Profit (Yuen)', fontsize=20)\n",
        "plt.legend()\n",
        "plt.savefig('SAN_results.pdf')\n",
        "plt.show()\n",
        "plt.close()"
      ],
      "execution_count": null,
      "outputs": [
        {
          "output_type": "display_data",
          "data": {
            "image/png": "[encoded data removed]",
            "text/plain": [
              "<Figure size 1080x720 with 1 Axes>"
            ]
          },
          "metadata": {
            "tags": [],
            "needs_background": "light"
          }
        }
      ]
    }
  ]
}