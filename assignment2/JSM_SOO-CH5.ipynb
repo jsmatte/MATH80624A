{
  "nbformat": 4,
  "nbformat_minor": 0,
  "metadata": {
    "colab": {
      "name": "Copy of Jean-Sébastien&Sena_Chapter_5.ipynb",
      "provenance": [],
      "collapsed_sections": []
    },
    "kernelspec": {
      "display_name": "python3",
      "language": "python",
      "name": "python3"
    },
    "language_info": {
      "codemirror_mode": {
        "name": "ipython",
        "version": 3
      },
      "file_extension": ".py",
      "mimetype": "text/x-python",
      "name": "python",
      "nbconvert_exporter": "python",
      "pygments_lexer": "ipython3",
      "version": "3.6.1"
    }
  },
  "cells": [
    {
      "cell_type": "markdown",
      "metadata": {
        "id": "5wwf1iX4JQhd"
      },
      "source": [
        "PYTHON NOTEBOOK USED TO ANSWER TO EXERCISES OF CHAPTER 5 OF MATH80624 LECTURE NOTES (Solutions)\n",
        "\n",
        "Modified by:\n",
        "1. Chun Peng (Created for RSOME January 2021)\n",
        "2. Erick Delage (January 2021)\n",
        "\n",
        "As discussed in Chapter 5 of the  [lecture notes](http://web.hec.ca/pages/erick.delage/MATH80624_LectureNotes.pdf) of MATH80624 at HEC Montréal. "
      ]
    },
    {
      "cell_type": "markdown",
      "metadata": {
        "id": "XIcOYtO_J1DO"
      },
      "source": [
        "WARNING!!!\n",
        "\n",
        "The following code exploits a free Mosek licence for the course MATH80624 at HEC Montréal (expiration June 1st 2021). If you have error messages informing you about licencing issues, you may try uncommenting the installation lines for Gurobi. Otherwise, we recommend that you obtain your own licence of either Mosek ([url](https://www.mosek.com/)) or Gurobi ([url](https://www.gurobi.com/))."
      ]
    },
    {
      "cell_type": "markdown",
      "metadata": {
        "id": "32LXIhJfSoau"
      },
      "source": [
        "**Jean-Sébastien Matte**\n",
        "\n",
        "**Sena Onen Oz**"
      ]
    },
    {
      "cell_type": "markdown",
      "metadata": {
        "id": "jlPPv8mEJw4l"
      },
      "source": [
        "# **Preliminaries**"
      ]
    },
    {
      "cell_type": "code",
      "metadata": {
        "id": "i7MQDW6n7Ncu",
        "colab": {
          "base_uri": "https://localhost:8080/"
        },
        "outputId": "0081e5ee-0a87-4583-d61b-b1213ad09f73"
      },
      "source": [
        "!pip install rsome\n",
        "!pip install mosek\n",
        "!rm mosek.lic\n",
        "!git clone https://github.com/erickdelage/80624\n",
        "!cp ./80624/mosek.lic .\n",
        "!rm -r ./80624\n",
        "!mkdir -p /root/mosek\n",
        "!cp ./mosek.lic /root/mosek\n",
        "#!pip install -i https://pypi.gurobi.com gurobipy"
      ],
      "execution_count": null,
      "outputs": [
        {
          "output_type": "stream",
          "text": [
            "Collecting rsome\n",
            "  Downloading https://files.pythonhosted.org/packages/80/47/f6ed06f84b540fc8cae39d5a3484aa035466313c8abcc6d379dedf5d9318/rsome-0.1.1-py3-none-any.whl\n",
            "Installing collected packages: rsome\n",
            "Successfully installed rsome-0.1.1\n",
            "Collecting mosek\n",
            "\u001b[?25l  Downloading https://files.pythonhosted.org/packages/0c/d0/bd6c647180c1f8d8c41f8eccdfec27e8992a121ae9d1c94f17b505047a8f/Mosek-9.2.40-cp37-cp37m-manylinux1_x86_64.whl (10.1MB)\n",
            "\u001b[K     |████████████████████████████████| 10.1MB 5.1MB/s \n",
            "\u001b[?25hRequirement already satisfied: numpy in /usr/local/lib/python3.7/dist-packages (from mosek) (1.19.5)\n",
            "Installing collected packages: mosek\n",
            "Successfully installed mosek-9.2.40\n",
            "rm: cannot remove 'mosek.lic': No such file or directory\n",
            "Cloning into '80624'...\n",
            "remote: Enumerating objects: 12, done.\u001b[K\n",
            "remote: Counting objects: 100% (12/12), done.\u001b[K\n",
            "remote: Compressing objects: 100% (10/10), done.\u001b[K\n",
            "remote: Total 12 (delta 2), reused 11 (delta 1), pack-reused 0\u001b[K\n",
            "Unpacking objects: 100% (12/12), done.\n"
          ],
          "name": "stdout"
        }
      ]
    },
    {
      "cell_type": "code",
      "metadata": {
        "collapsed": true,
        "id": "drnG59cKzi8k"
      },
      "source": [
        "import rsome as rso\n",
        "import numpy as np\n",
        "from rsome import ro\n",
        "from rsome import msk_solver as my_solver  #Import Mosek solver interface\n",
        "#from rsome import grb_solver as my_solver  #Import Gurobi solver interface\n"
      ],
      "execution_count": null,
      "outputs": []
    },
    {
      "cell_type": "markdown",
      "metadata": {
        "id": "IJXbqKeQd-bw"
      },
      "source": [
        "### Load the data"
      ]
    },
    {
      "cell_type": "code",
      "metadata": {
        "collapsed": true,
        "id": "Ks3hKtfOeCH4"
      },
      "source": [
        "n=4    #The number of facility locations\n",
        "m=12   #The number of retailer locations\n",
        "c = np.array([9.1, 8.0, 4.5, 2.1])                                                        #Installation cost for each facility location\n",
        "r = 2*np.ones((n,m))                                                                      #Retalier price\n",
        "P = np.array([23, 168, 110, 295])                                                         #Capacity of each facility locations\n",
        "D_bar = np.array([24, 12, 18, 23, 24, 13, 11, 9, 18, 25, 25, 23])                         #Nominal demand of each retalier\n",
        "D_hat = np.array([18, 1, 14, 12, 13, 5, 6, 0, 4, 23, 21, 20])                             #Maximum deviation from the nominal demand\n",
        "d = np.array([[2.31, 2.37, 1.89, 1.92, 1.98, 1.69, 2.37, 2.14, 2.87, 2.16, 2.15, 1.52],   #Transportation cost from facility to retailers\n",
        "    [1.88, 2.36, 2.02, 2.77, 1.17, 1.45, 2.64, 1.45, 1.83, 1.80, 1.74, 2.42],\n",
        "    [2.51, 1.73, 3.50, 2.39, 2.51, 2.50, 3.08, 2.36, 2.35, 1.72, 1.47, 2.10],\n",
        "    [1.71, 2.99, 1.40, 0.96, 1.79, 1.81, 1.89, 2.01, 2.28, 1.71, 2.98, 2.66]])\n",
        "\n",
        "#Column constraint generation algorithm parameters\n",
        "big_M = 10000\n",
        "tolerance = 1e-6"
      ],
      "execution_count": null,
      "outputs": []
    },
    {
      "cell_type": "markdown",
      "metadata": {
        "id": "Uv1MVg5ydd-f"
      },
      "source": [
        "# **Nominal facility location model**\n",
        "\n",
        "We will study the following model:\n",
        "\\begin{align}\n",
        "\\max_{x,y} & - \\sum_{i=1}^n c_i x_i + \\sum_{i=1}^n \\sum_{j=1}^m (r_{ij}-d_{ij})y_{ij} &&\\\\\n",
        "\\text{s.t.} & \\sum_{i=1}^n y_{ij} \\leq D_j &&\\forall\\,j \\in\\{1,\\cdots,m\\}\\\\\n",
        "& \\sum_{j=1}^m y_{ij} \\leq P_i x_i &&\\forall\\,\\;i \\in\\{1,\\cdots,n\\}\\\\\n",
        "&  x \\in \\{0,1\\}^n,\\;y_{ij} \\geq 0 &&\\forall\\,i \\in\\{1,\\cdots,n\\}, j \\in\\{1,\\cdots,m\\}, \n",
        "\\end{align}\n"
      ]
    },
    {
      "cell_type": "code",
      "metadata": {
        "id": "llm4IL7-dfzP",
        "scrolled": false,
        "colab": {
          "base_uri": "https://localhost:8080/"
        },
        "outputId": "59990159-dbfe-4193-cd50-d2e1e20b978e"
      },
      "source": [
        "#Solve the nominal facility location model\n",
        "\n",
        "#Create model\n",
        "model=ro.Model('Nominal facility location problem')\n",
        "#Define variables\n",
        "x = model.dvar(n,vtype='B')\n",
        "y = model.dvar((n,m))          #in million of units\n",
        "\n",
        "#List the objective and constraints\n",
        "model.max(-c@x + ((r-d)*y).sum())\n",
        "model.st(y.sum(axis=0) <= D_bar)       # Maximum demand at each retalier location\n",
        "model.st(y.sum(axis=1) <= P*x)         # Capacity of each facility location\n",
        "model.st(y>=0)                         \n",
        "\n",
        "#Solve the model \n",
        "model.solve(my_solver)\n",
        "opt_obj = model.get()  #in million of dollars\n",
        "opt_x = np.round(x.get())\n",
        "\n",
        "print('The objective is', opt_obj, 'and the optimal faciliy location is', opt_x)"
      ],
      "execution_count": null,
      "outputs": [
        {
          "output_type": "stream",
          "text": [
            "Being solved by Mosek...\n",
            "Solution status: integer_optimal\n",
            "Running time: 0.0145s\n",
            "The objective is 89.05 and the optimal faciliy location is [1. 1. 1. 1.]\n"
          ],
          "name": "stdout"
        }
      ]
    },
    {
      "cell_type": "markdown",
      "metadata": {
        "id": "1VM0vVq57Ju1"
      },
      "source": [
        "# **Exercise 5.1) Implementing static RC**\n",
        "\n"
      ]
    },
    {
      "cell_type": "markdown",
      "metadata": {
        "id": "O1Q1TgFZoGbG"
      },
      "source": [
        "\\begin{align}\n",
        "  \\max_{x,y} \\;\\;&  - \\sum_{i=1}^n c_i x_i + \\sum_{i=1}^n \\sum_{j=1}^m (r_{ij}-d_{ij})y_{ij} &&\\\\\n",
        "  \\text{s.t.} & \\sum_{i=1}^n y_{ij} \\leq \\bar{D}_j+\\hat{D}_j z_j &&\\forall\\,j \\in\\{1,\\cdots,m\\}, \\; \\forall \\, z \\in  \\mathcal{Z}(\\Gamma)\\\\\n",
        "  & \\sum_{j=1}^m y_{ij} \\leq P_i x_i &&\\forall\\,\\;i \\in\\{1,\\cdots,n\\}, \\\\\n",
        "   & y_{ij} \\geq 0 && \\forall\\,i \\in\\{1,\\cdots,n\\}, j \\in\\{1,\\cdots,m\\}, \\\\\n",
        "  &  x \\in \\{0,1\\}^n, && \n",
        "\\end{align}\n",
        "\n",
        "where \\begin{align*}\n",
        "            \\mathcal{Z}(\\Gamma):= \\left\\{ z\\in \\mathbb{R}^m\\,\\middle|\\, -1 \\leq z \\leq 1,\\, \\sum_i |z_i| \\leq \\Gamma\\right\\}\n",
        "        \\end{align*}"
      ]
    },
    {
      "cell_type": "code",
      "metadata": {
        "id": "1gKLsnn37Ju3",
        "colab": {
          "base_uri": "https://localhost:8080/"
        },
        "outputId": "a782f1c0-1cdb-4e3d-9262-b582653c360a"
      },
      "source": [
        "def FacilityLocation_SRC(n,m,D_bar,D_hat,r,P,c,d,Gamma):\n",
        "\n",
        "    model=ro.Model('Static robust facility location problem')\n",
        "\n",
        "    # Define uncertain factors\n",
        "    z = model.rvar(m)\n",
        "    budgetSet = (z<=1, z>=-1,  #each parameter is between [-1, 1] \n",
        "                      rso.norm(z,1)<=Gamma)   # Budget of uncertainty approach\n",
        "\n",
        "    #Define variables\n",
        "    x = model.dvar(n,vtype='B')\n",
        "    y = model.dvar((n,m)) \n",
        "\n",
        "    #List the objective and constraints\n",
        "    model.max(-c@x + ((r-d)*y).sum())\n",
        "    model.st((y.sum(axis=0) <= D_bar+D_hat*z).forall(budgetSet))       # Maximum demand at each retalier location\n",
        "    model.st(y.sum(axis=1) <= P*x)         # Capacity of each facility location\n",
        "    model.st(y>=0)\n",
        "    \n",
        "    model.solve(my_solver)\n",
        "    opt_obj_SRC = model.get()  #in million of dollars\n",
        "    opt_x_SRC = np.round(x.get())\n",
        "    return (opt_obj_SRC,opt_x_SRC)\n",
        "\n",
        "#running an example\n",
        "(opt_obj_SRC, opt_x_SRC) = FacilityLocation_SRC(n,m,D_bar,D_hat,r,P,c,d,1)\n",
        "print('The objective is', opt_obj_SRC, 'and the optimal faciliy location is', opt_x_SRC)"
      ],
      "execution_count": null,
      "outputs": [
        {
          "output_type": "stream",
          "text": [
            "Being solved by Mosek...\n",
            "Solution status: integer_optimal\n",
            "Running time: 0.0345s\n",
            "The objective is 28.510000000000005 and the optimal faciliy location is [0. 1. 0. 1.]\n"
          ],
          "name": "stdout"
        }
      ]
    },
    {
      "cell_type": "markdown",
      "metadata": {
        "id": "zowYiVU_7Ju7"
      },
      "source": [
        "# **Exercise 5.2) Implementing AARC**\n",
        "\n"
      ]
    },
    {
      "cell_type": "markdown",
      "metadata": {
        "id": "GEFDIJ4eoI68"
      },
      "source": [
        "\\begin{align}\n",
        "  \\max_{x,y,Y}\\min_{z} \\;\\;&  - \\sum_{i=1}^n c_i x_i + \\sum_{i=1}^n \\sum_{j=1}^m (r_{ij}-d_{ij})(y_{ij}+Y_{ij}(z)) &&\\\\\n",
        "  \\text{s.t.} & \\sum_{i=1}^n (y_{ij}+Y_{ij}(z)) \\leq \\bar{D}_j+\\hat{D}_j z_j &&\\forall\\,j \\in\\{1,\\cdots,m\\}, \\; \\forall \\, z \\in  \\mathcal{Z}(\\Gamma)\\\\\n",
        "  & \\sum_{j=1}^m (y_{ij}+Y_{ij}(z)) \\leq P_i x_i &&\\forall\\,\\;i \\in\\{1,\\cdots,n\\},  \\; \\forall \\, z \\in  \\mathcal{Z}(\\Gamma) \\\\\n",
        "   & (y_{ij}+Y_{ij}(z)) \\geq 0 && \\forall\\,i \\in\\{1,\\cdots,n\\}, j \\in\\{1,\\cdots,m\\},  \\; \\forall \\, z \\in  \\mathcal{Z}(\\Gamma) \\\\\n",
        "  &  x \\in \\{0,1\\}^n, && \n",
        "\\end{align}\n",
        "\n",
        "where \\begin{align*}\n",
        "            \\mathcal{Z}(\\Gamma):= \\left\\{ z\\in \\mathbb{R}^m\\,\\middle|\\, -1 \\leq z \\leq 1,\\, \\sum_i |z_i| \\leq \\Gamma\\right\\}\n",
        "        \\end{align*}"
      ]
    },
    {
      "cell_type": "code",
      "metadata": {
        "id": "mUd9tY4S7Ju9",
        "colab": {
          "base_uri": "https://localhost:8080/"
        },
        "outputId": "0abc382e-b74b-4665-a6ce-6ecf87b79f69"
      },
      "source": [
        "def FacilityLocation_AARC(n,m,D_bar,D_hat,r,P,c,d,Gamma):\n",
        "    model=ro.Model('AARC')\n",
        "\n",
        "    # Define uncertain factors\n",
        "    z = model.rvar(m)\n",
        "    budgetSet = (z<=1, z>=-1,  #each parameter is between [-1, 1] \n",
        "                      rso.norm(z,1)<=Gamma)   # Budget of uncertainty approach\n",
        "\n",
        "    x = model.dvar(n,vtype='B')\n",
        "    y = model.ldr((n,m)) \n",
        "\n",
        "    # Define decision rules dependance\n",
        "    y.adapt(z)\n",
        "\n",
        "    #List the objective and constraints\n",
        "    model.maxmin(-c@x + ((r-d)*y).sum(),budgetSet)\n",
        "    model.st((y.sum(axis=0) <= D_bar+D_hat*z).forall(budgetSet))       # Maximum demand at each retalier location\n",
        "    model.st((y.sum(axis=1) <= P*x).forall(budgetSet))      # Capacity of each facility location\n",
        "    model.st(y>=0)\n",
        "    \n",
        "    model.solve(my_solver)\n",
        "    opt_obj_AARC = model.get()  #in million of dollars\n",
        "    opt_x_AARC = x.get()\n",
        "    return (opt_obj_AARC, opt_x_AARC)\n",
        "\n",
        "#running an example\n",
        "(opt_obj_AARC, opt_x_AARC) = FacilityLocation_AARC(n,m,D_bar,D_hat,r,P,c,d,1)\n",
        "print('The objective is', opt_obj_AARC, 'and the optimal faciliy location is', opt_x_AARC)"
      ],
      "execution_count": null,
      "outputs": [
        {
          "output_type": "stream",
          "text": [
            "Being solved by Mosek...\n",
            "Solution status: integer_optimal\n",
            "Running time: 0.9449s\n",
            "The objective is 76.57000000000002 and the optimal faciliy location is [1. 1. 1. 1.]\n"
          ],
          "name": "stdout"
        }
      ]
    },
    {
      "cell_type": "markdown",
      "metadata": {
        "id": "8eyoHzjh7Ju_"
      },
      "source": [
        "# **Exercise 5.3 Implementing Lifted AARC**\n",
        "\n",
        "\n"
      ]
    },
    {
      "cell_type": "markdown",
      "metadata": {
        "id": "-uVVfCIlFz-8"
      },
      "source": [
        "\\begin{align}\n",
        "  \\max_{x,y,Y}\\min_{z} \\;\\;&  - \\sum_{i=1}^n c_i x_i + \\sum_{i=1}^n \\sum_{j=1}^m (r_{ij}-d_{ij})(y_{ij}+Y_{ij}^{+}z^{+}+Y_{ij}^{-}z^{-}) &&\\\\\n",
        "  \\text{s.t.} & \\sum_{i=1}^n (y_{ij}+Y_{ij}^{+}z^{+}+Y_{ij}^{-}z^{-}) \\leq \\bar{D}_j+\\hat{D}_j z_j &&\\forall\\,j \\in\\{1,\\cdots,m\\}, \\; \\forall \\, (z,z^{+}, z^{-}) \\in  \\mathcal{Z'}(\\Gamma)\\\\\n",
        "  & \\sum_{j=1}^m (y_{ij}+Y_{ij}^{+}z^{+}+Y_{ij}^{-}z^{-}) \\leq P_i x_i &&\\forall\\,\\;i \\in\\{1,\\cdots,n\\},  \\; \\forall \\, (z^{+}, z^{-}) \\in  \\mathcal{Z'}(\\Gamma) \\\\\n",
        "   & (y_{ij}+Y_{ij}^{+}z^{+}+Y_{ij}^{-}z^{-}) \\geq 0 && \\forall\\,i \\in\\{1,\\cdots,n\\}, j \\in\\{1,\\cdots,m\\},  \\; \\forall \\, (z^{+}, z^{-}) \\in  \\mathcal{Z'}(\\Gamma) \\\\\n",
        "  &  x \\in \\{0,1\\}^n, && \n",
        "\\end{align}\n",
        "\n",
        "where \\begin{align*}\n",
        "            \\mathcal{Z'}(\\Gamma):= \\left\\{ (z,z^{+}, z^{-}) \\in \\mathbb{R}^m  \\text{x} \\mathbb{R}^m \\text{x} \\mathbb{R}^m\\,\\middle|\\,z = z^{+} - z^{-}, \\, z^{+} \\ge 0, \\, z^{-} \\ge 0, \\, z^{+} + z^{-} \\leq 1 ,\\,  \\sum_i (z_{i}^{+} + z_{i}^{-}) \\leq \\Gamma\\right\\}\n",
        "        \\end{align*}"
      ]
    },
    {
      "cell_type": "code",
      "metadata": {
        "id": "D8-BR5OX7Ju_",
        "colab": {
          "base_uri": "https://localhost:8080/"
        },
        "outputId": "03c9c2d6-6020-44f6-e64b-66f06bf5938f"
      },
      "source": [
        "#Define the function of solving LAARC model\n",
        "def FacilityLocation_LAARC(n,m,D_bar,D_hat,r,P,c,d,Gamma):\n",
        "    model=ro.Model('LAARC')\n",
        "\n",
        "    z = model.rvar(m)\n",
        "    zplus = model.rvar(m)\n",
        "    zminus = model.rvar(m)\n",
        "    budgetSet = (z==zplus-zminus, zplus>=0, zminus>=0, zplus+zminus<=1,  #each parameter is between [-1, 1] \n",
        "                      sum(zplus)+sum(zminus)<=Gamma)   # Budget of uncertainty approach\n",
        "\n",
        "    x = model.dvar(n,vtype='B')\n",
        "    y = model.ldr((n,m)) \n",
        "\n",
        "    # Define decision rules dependance\n",
        "    y.adapt(zplus)\n",
        "    y.adapt(zminus)\n",
        "\n",
        "    #List the objective and constraints\n",
        "    model.maxmin(-c@x + ((r-d)*y).sum(),budgetSet)\n",
        "    model.st((y.sum(axis=0) <= D_bar+D_hat*z).forall(budgetSet))       # Maximum demand at each retalier location\n",
        "    model.st((y.sum(axis=1) <= P*x).forall(budgetSet))      # Capacity of each facility location\n",
        "    model.st(y>=0)\n",
        "\n",
        "    model.solve(my_solver)\n",
        "    opt_obj_LAARC = model.get()  #in million of dollars\n",
        "    opt_x_LAARC = x.get()\n",
        "    return (opt_obj_LAARC, opt_x_LAARC)\n",
        "\n",
        "#running an example\n",
        "(opt_obj_LAARC, opt_x_LAARC) = FacilityLocation_LAARC(n,m,D_bar,D_hat,r,P,c,d,1)\n",
        "print('The objective is', opt_obj_LAARC, 'and the optimal faciliy location is', opt_x_LAARC)"
      ],
      "execution_count": null,
      "outputs": [
        {
          "output_type": "stream",
          "text": [
            "Being solved by Mosek...\n",
            "Solution status: integer_optimal\n",
            "Running time: 0.8346s\n",
            "The objective is 76.57000000000002 and the optimal faciliy location is [1. 1. 1. 1.]\n"
          ],
          "name": "stdout"
        }
      ]
    },
    {
      "cell_type": "markdown",
      "metadata": {
        "id": "--hC_u4X7JvB"
      },
      "source": [
        "# **Exercise 5.4) Comparison of approximate worst-case bounds**\n",
        "\n",
        "We wish to compare the different optimal values obtained from the three approximation models (RC, AARC, and LAARC)  on the robust facility location-transportation problem to the true worst-case value that can be achieved under the budgets $\\Gamma\\in\\{0,\\,1,\\,4,\\,m-1\\}$."
      ]
    },
    {
      "cell_type": "markdown",
      "metadata": {
        "id": "CyzbOrt57JvB"
      },
      "source": [
        "### Prepare the exact solution scheme based on 4.3)"
      ]
    },
    {
      "cell_type": "code",
      "metadata": {
        "id": "RgcBNFXx7JvC",
        "colab": {
          "base_uri": "https://localhost:8080/"
        },
        "outputId": "a5edb9ed-8e9a-4619-e05e-2615598e4836"
      },
      "source": [
        "def FacilityLocation_ColumnConstGen(n,m,D_bar,D_hat,r,P,c,d,Gamma,big_M,tolerance):\n",
        "\n",
        "    # Define the MASTER model\n",
        "    def master(z_m):\n",
        "        master = ro.Model('master')\n",
        "\n",
        "        #Define variables\n",
        "        x_m = master.dvar(n, vtype='B')\n",
        "        s_m = master.dvar(1)\n",
        "\n",
        "        # Constraints\n",
        "        for i in range(z_m.shape[1]):\n",
        "          y_m = master.dvar((n, m))          #in million of units \n",
        "          master.st(s_m <= ((r-d)*y_m).sum())\n",
        "          master.st(y_m.sum(axis=0) <= D_bar + (np.diag(D_hat) @ z_m[:,i])) # Maximum demand at each retalier location, for each vertex\n",
        "          master.st(y_m.sum(axis=1) <= P * x_m)         # Capacity of each facility location\n",
        "          master.st(y_m >= 0) \n",
        "\n",
        "        # objective function\n",
        "        master.max(-c@x_m + s_m)                        \n",
        "\n",
        "        #Solve the model \n",
        "        master.solve(my_solver)\n",
        "\n",
        "        return master.get(), x_m.get()\n",
        "\n",
        "    def slave(x_s):\n",
        "        slave = ro.Model('slave')\n",
        "\n",
        "        # Define variables\n",
        "        z_s = slave.dvar(m)\n",
        "        y_s = slave.dvar((n, m))\n",
        "        lambda_s = slave.dvar(m)\n",
        "        u_s = slave.dvar(m, vtype='B')\n",
        "        gamma_s = slave.dvar(n)\n",
        "        v_s = slave.dvar(n, vtype='B')\n",
        "        theta_s = slave.dvar((n,m))\n",
        "        w_s = slave.dvar((n,m), vtype='B')\n",
        "\n",
        "        # objective function\n",
        "        slave.min(-c@x_s + ((r-d)*y_s).sum())\n",
        "\n",
        "        # Constraints\n",
        "        slave.st(y_s.sum(axis=0) <= D_bar + (np.diag(D_hat) @ z_s)) \n",
        "        slave.st(y_s.sum(axis=1) <= P * x_s)   \n",
        "        slave.st(-y_s <= 0)  \n",
        "        for j in range(y_s.shape[0]):\n",
        "          slave.st(lambda_s + (np.ones(m) * gamma_s[j]) - theta_s[j,:] == (r[j,:] - d[j,:]))\n",
        "        slave.st(lambda_s >= 0) \n",
        "        slave.st(gamma_s >= 0)\n",
        "        slave.st(theta_s >= 0)\n",
        "        slave.st(lambda_s <= big_M*u_s) \n",
        "        slave.st(gamma_s <= big_M*v_s)\n",
        "        slave.st(theta_s <= big_M*w_s)\n",
        "        slave.st(D_bar + (np.diag(D_hat) @ z_s) - y_s.sum(axis=0) <= big_M*(np.ones(m)-u_s)) \n",
        "        slave.st((P * x_s) - y_s.sum(axis=1) <= big_M*(np.ones(n)-v_s))   \n",
        "        slave.st(y_s <= big_M*(np.ones((n,m))-w_s)) \n",
        "        slave.st(abs(z_s) <= 1)\n",
        "        slave.st(rso.norm(z_s, 1) <= Gamma)\n",
        "\n",
        "        #Solve the model \n",
        "        slave.solve(my_solver)\n",
        "\n",
        "        return slave.get(), z_s.get()\n",
        "\n",
        "    # C&CG Algorithm\n",
        "    x0 = [0, 0, 0, 0]\n",
        "\n",
        "    _, z0 = slave(x0)\n",
        "\n",
        "    Z_prime = np.array([[i] for i in z0])\n",
        "\n",
        "    for iter in range(10):\n",
        "        s_hat, x_hat = master(Z_prime)\n",
        "\n",
        "        h_hat, z_hat = slave(x_hat)\n",
        "\n",
        "        if abs(h_hat - s_hat) <= tolerance:\n",
        "            opt_obj = h_hat \n",
        "            opt_x = x_hat \n",
        "            return (opt_obj, opt_x)\n",
        "            break\n",
        "        \n",
        "        else:\n",
        "            Z_prime = np.column_stack((Z_prime, np.array(z_hat)))\n",
        "\n",
        "\n",
        "#running an example\n",
        "(opt_obj_CCG, opt_x_CCG) = FacilityLocation_ColumnConstGen(n,m,D_bar,D_hat,r,P,c,d,1,big_M,tolerance)\n",
        "print('The objective is', opt_obj_CCG, 'and the optimal faciliy location is', opt_x_CCG)"
      ],
      "execution_count": null,
      "outputs": [
        {
          "output_type": "stream",
          "text": [
            "Being solved by Mosek...\n",
            "Solution status: integer_optimal\n",
            "Running time: 0.0099s\n",
            "Being solved by Mosek...\n",
            "Solution status: integer_optimal\n",
            "Running time: 0.0115s\n",
            "Being solved by Mosek...\n",
            "Solution status: integer_optimal\n",
            "Running time: 0.0119s\n",
            "Being solved by Mosek...\n",
            "Solution status: integer_optimal\n",
            "Running time: 0.0131s\n",
            "Being solved by Mosek...\n",
            "Solution status: integer_optimal\n",
            "Running time: 0.0123s\n",
            "The objective is 76.57000000000002 and the optimal faciliy location is [1. 1. 1. 1.]\n"
          ],
          "name": "stdout"
        }
      ]
    },
    {
      "cell_type": "markdown",
      "metadata": {
        "id": "vj2jqrG_bKIC"
      },
      "source": [
        "### Prepare a function evaluating the worst-case value for some x based on the slave problem in exercise 4.3)"
      ]
    },
    {
      "cell_type": "code",
      "metadata": {
        "id": "lDJ237QJbKUP"
      },
      "source": [
        "#solveWorstCaseProfitBudgetSet function\n",
        "def solveWorstCaseProfitBudgetSet(x,n,m,c,r,P,D_bar,D_hat,d,big_M,Gamma):\n",
        "\n",
        "    model = ro.Model('slave-problem')\n",
        "\n",
        "    # Define variables\n",
        "    z = model.dvar(m)\n",
        "    y_s = model.dvar((n, m))\n",
        "    lambda_s = model.dvar(m)\n",
        "    u_s = model.dvar(m, vtype='B')\n",
        "    gamma_s = model.dvar(n)\n",
        "    v_s = model.dvar(n, vtype='B')\n",
        "    theta_s = model.dvar((n,m))\n",
        "    w_s = model.dvar((n,m), vtype='B')\n",
        "\n",
        "    # objective function\n",
        "    model.min(-c@x + ((r-d)*y_s).sum())\n",
        "\n",
        "    # Constraints\n",
        "    model.st(y_s.sum(axis=0) <= D_bar + (np.diag(D_hat) @ z)) \n",
        "    model.st(y_s.sum(axis=1) <= P * x)   \n",
        "    model.st(-y_s <= 0)  \n",
        "    for j in range(y_s.shape[0]):\n",
        "      model.st(lambda_s + (np.ones(m) * gamma_s[j]) - theta_s[j,:] == (r[j,:] - d[j,:]))\n",
        "    model.st(lambda_s >= 0) \n",
        "    model.st(gamma_s >= 0)\n",
        "    model.st(theta_s >= 0)\n",
        "    model.st(lambda_s <= big_M*u_s) \n",
        "    model.st(gamma_s <= big_M*v_s)\n",
        "    model.st(theta_s <= big_M*w_s)\n",
        "    model.st(D_bar + (np.diag(D_hat) @ z) - y_s.sum(axis=0) <= big_M*(np.ones(m)-u_s)) \n",
        "    model.st((P * x) - y_s.sum(axis=1) <= big_M*(np.ones(n)-v_s))   \n",
        "    model.st(y_s <= big_M*(np.ones((n,m))-w_s)) \n",
        "    model.st(abs(z) <= 1)\n",
        "    model.st(rso.norm(z, 1) <= Gamma)\n",
        "\n",
        "    #Solve the model \n",
        "    model.solve(my_solver)\n",
        "\n",
        "    fval = model.get()\n",
        "    z = z.get()\n",
        "    return (fval, z)"
      ],
      "execution_count": null,
      "outputs": []
    },
    {
      "cell_type": "markdown",
      "metadata": {
        "id": "iGtRZd9XAzgl"
      },
      "source": [
        "### Results"
      ]
    },
    {
      "cell_type": "code",
      "metadata": {
        "id": "5juv98-v6bGZ",
        "colab": {
          "base_uri": "https://localhost:8080/"
        },
        "outputId": "baf01340-853b-49ff-d415-4ccc574b030b"
      },
      "source": [
        "#Solve the each type of conservative approximation model\n",
        "results = ''\n",
        "for Gamma in [0, 1, 4, m-1]:\n",
        "    (bound1, opt_x1) = FacilityLocation_SRC(n,m,D_bar,D_hat,r,P,c,d,Gamma)\n",
        "    (bound2, opt_x2) = FacilityLocation_AARC(n,m,D_bar,D_hat,r,P,c,d,Gamma)\n",
        "    (bound3, opt_x3) = FacilityLocation_LAARC(n,m,D_bar,D_hat,r,P,c,d,Gamma)\n",
        "    (bound4, opt_x4) = FacilityLocation_ColumnConstGen(n,m,D_bar,D_hat,r,P,c,d,Gamma,big_M,tolerance)\n",
        "    \n",
        "    (obj_RC, z_RC)= solveWorstCaseProfitBudgetSet(opt_x1,n,m,c,r,P,D_bar,D_hat,d,big_M,Gamma)\n",
        "    (obj_AARC,x_AARC)= solveWorstCaseProfitBudgetSet(opt_x2,n,m,c,r,P,D_bar,D_hat,d,big_M,Gamma)\n",
        "    (obj_LAARC,x_LAARC)= solveWorstCaseProfitBudgetSet(opt_x3,n,m,c,r,P,D_bar,D_hat,d,big_M,Gamma)\n",
        "    (obj_CCG,x_CCG)= solveWorstCaseProfitBudgetSet(opt_x4,n,m,c,r,P,D_bar,D_hat,d,big_M,Gamma)\n",
        "    \n",
        "    results += 'When Gamma='+str(Gamma)+' the objectives of the four models are '+str(np.round([bound1, bound2, bound3, bound4], decimals=4))+'\\n'\n",
        "    results += '    while the worst-case profits of the policies are '+str(np.round([obj_RC, obj_AARC, obj_LAARC, obj_CCG], decimals=4))+'.\\n'\n"
      ],
      "execution_count": null,
      "outputs": [
        {
          "output_type": "stream",
          "text": [
            "Being solved by Mosek...\n",
            "Solution status: integer_optimal\n",
            "Running time: 0.0306s\n",
            "Being solved by Mosek...\n",
            "Solution status: integer_optimal\n",
            "Running time: 1.0166s\n",
            "Being solved by Mosek...\n",
            "Solution status: integer_optimal\n",
            "Running time: 0.0851s\n",
            "Being solved by Mosek...\n",
            "Solution status: integer_optimal\n",
            "Running time: 0.0103s\n",
            "Being solved by Mosek...\n",
            "Solution status: integer_optimal\n",
            "Running time: 0.0166s\n",
            "Being solved by Mosek...\n",
            "Solution status: integer_optimal\n",
            "Running time: 0.0105s\n",
            "Being solved by Mosek...\n",
            "Solution status: integer_optimal\n",
            "Running time: 0.0105s\n",
            "Being solved by Mosek...\n",
            "Solution status: integer_optimal\n",
            "Running time: 0.0100s\n",
            "Being solved by Mosek...\n",
            "Solution status: integer_optimal\n",
            "Running time: 0.0101s\n",
            "Being solved by Mosek...\n",
            "Solution status: integer_optimal\n",
            "Running time: 0.0103s\n",
            "Being solved by Mosek...\n",
            "Solution status: integer_optimal\n",
            "Running time: 0.0326s\n",
            "Being solved by Mosek...\n",
            "Solution status: integer_optimal\n",
            "Running time: 0.9630s\n",
            "Being solved by Mosek...\n",
            "Solution status: integer_optimal\n",
            "Running time: 0.8313s\n",
            "Being solved by Mosek...\n",
            "Solution status: integer_optimal\n",
            "Running time: 0.0115s\n",
            "Being solved by Mosek...\n",
            "Solution status: integer_optimal\n",
            "Running time: 0.0121s\n",
            "Being solved by Mosek...\n",
            "Solution status: integer_optimal\n",
            "Running time: 0.0122s\n",
            "Being solved by Mosek...\n",
            "Solution status: integer_optimal\n",
            "Running time: 0.0128s\n",
            "Being solved by Mosek...\n",
            "Solution status: integer_optimal\n",
            "Running time: 0.0121s\n",
            "Being solved by Mosek...\n",
            "Solution status: integer_optimal\n",
            "Running time: 0.0110s\n",
            "Being solved by Mosek...\n",
            "Solution status: integer_optimal\n",
            "Running time: 0.0119s\n",
            "Being solved by Mosek...\n",
            "Solution status: integer_optimal\n",
            "Running time: 0.0138s\n",
            "Being solved by Mosek...\n",
            "Solution status: integer_optimal\n",
            "Running time: 0.0138s\n",
            "Being solved by Mosek...\n",
            "Solution status: integer_optimal\n",
            "Running time: 0.0307s\n",
            "Being solved by Mosek...\n",
            "Solution status: integer_optimal\n",
            "Running time: 4.1527s\n",
            "Being solved by Mosek...\n",
            "Solution status: integer_optimal\n",
            "Running time: 7.5084s\n",
            "Being solved by Mosek...\n",
            "Solution status: integer_optimal\n",
            "Running time: 0.0099s\n",
            "Being solved by Mosek...\n",
            "Solution status: integer_optimal\n",
            "Running time: 0.0116s\n",
            "Being solved by Mosek...\n",
            "Solution status: integer_optimal\n",
            "Running time: 0.0119s\n",
            "Being solved by Mosek...\n",
            "Solution status: integer_optimal\n",
            "Running time: 0.0129s\n",
            "Being solved by Mosek...\n",
            "Solution status: integer_optimal\n",
            "Running time: 0.0107s\n",
            "Being solved by Mosek...\n",
            "Solution status: integer_optimal\n",
            "Running time: 0.0153s\n",
            "Being solved by Mosek...\n",
            "Solution status: integer_optimal\n",
            "Running time: 0.0108s\n",
            "Being solved by Mosek...\n",
            "Solution status: integer_optimal\n",
            "Running time: 0.0225s\n",
            "Being solved by Mosek...\n",
            "Solution status: integer_optimal\n",
            "Running time: 0.0125s\n",
            "Being solved by Mosek...\n",
            "Solution status: integer_optimal\n",
            "Running time: 0.0211s\n",
            "Being solved by Mosek...\n",
            "Solution status: integer_optimal\n",
            "Running time: 0.0125s\n",
            "Being solved by Mosek...\n",
            "Solution status: integer_optimal\n",
            "Running time: 0.0107s\n",
            "Being solved by Mosek...\n",
            "Solution status: integer_optimal\n",
            "Running time: 0.0108s\n",
            "Being solved by Mosek...\n",
            "Solution status: integer_optimal\n",
            "Running time: 0.0122s\n",
            "Being solved by Mosek...\n",
            "Solution status: integer_optimal\n",
            "Running time: 0.0121s\n",
            "Being solved by Mosek...\n",
            "Solution status: integer_optimal\n",
            "Running time: 0.0307s\n",
            "Being solved by Mosek...\n",
            "Solution status: integer_optimal\n",
            "Running time: 2.6862s\n",
            "Being solved by Mosek...\n",
            "Solution status: integer_optimal\n",
            "Running time: 5.1957s\n",
            "Being solved by Mosek...\n",
            "Solution status: integer_optimal\n",
            "Running time: 0.0097s\n",
            "Being solved by Mosek...\n",
            "Solution status: integer_optimal\n",
            "Running time: 0.0116s\n",
            "Being solved by Mosek...\n",
            "Solution status: integer_optimal\n",
            "Running time: 0.0104s\n",
            "Being solved by Mosek...\n",
            "Solution status: integer_optimal\n",
            "Running time: 0.0125s\n",
            "Being solved by Mosek...\n",
            "Solution status: integer_optimal\n",
            "Running time: 0.0104s\n",
            "Being solved by Mosek...\n",
            "Solution status: integer_optimal\n",
            "Running time: 0.0101s\n",
            "Being solved by Mosek...\n",
            "Solution status: integer_optimal\n",
            "Running time: 0.0107s\n",
            "Being solved by Mosek...\n",
            "Solution status: integer_optimal\n",
            "Running time: 0.0103s\n",
            "Being solved by Mosek...\n",
            "Solution status: integer_optimal\n",
            "Running time: 0.0104s\n"
          ],
          "name": "stdout"
        }
      ]
    },
    {
      "cell_type": "code",
      "metadata": {
        "id": "5tzrmFcA7JvF",
        "colab": {
          "base_uri": "https://localhost:8080/"
        },
        "outputId": "d487df85-c0e8-46b5-9469-f7c4289887e5"
      },
      "source": [
        "print(results)"
      ],
      "execution_count": null,
      "outputs": [
        {
          "output_type": "stream",
          "text": [
            "When Gamma=0 the objectives of the four models are [89.05 89.05 89.05 89.05]\n",
            "    while the worst-case profits of the policies are [89.05 89.05 89.05 89.05].\n",
            "When Gamma=1 the objectives of the four models are [28.51 76.57 76.57 76.57]\n",
            "    while the worst-case profits of the policies are [69.14 76.57 76.57 76.57].\n",
            "When Gamma=4 the objectives of the four models are [28.51 44.31 45.05 45.05]\n",
            "    while the worst-case profits of the policies are [43.28 44.31 45.05 45.05].\n",
            "When Gamma=11 the objectives of the four models are [28.51 28.51 28.51 28.51]\n",
            "    while the worst-case profits of the policies are [28.51 28.51 28.51 28.51].\n",
            "\n"
          ],
          "name": "stdout"
        }
      ]
    },
    {
      "cell_type": "code",
      "metadata": {
        "collapsed": true,
        "id": "leFN9FgVz42m"
      },
      "source": [],
      "execution_count": null,
      "outputs": []
    }
  ]
}