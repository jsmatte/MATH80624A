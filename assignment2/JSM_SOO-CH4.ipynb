{
  "nbformat": 4,
  "nbformat_minor": 0,
  "metadata": {
    "colab": {
      "name": "Copy of Jean-Sébastien&Sena_Chapter_4.ipynb",
      "provenance": [],
      "collapsed_sections": []
    },
    "kernelspec": {
      "display_name": "Python 3",
      "language": "python",
      "name": "python3"
    },
    "language_info": {
      "codemirror_mode": {
        "name": "ipython",
        "version": 3
      },
      "file_extension": ".py",
      "mimetype": "text/x-python",
      "name": "python",
      "nbconvert_exporter": "python",
      "pygments_lexer": "ipython3",
      "version": "3.6.1"
    }
  },
  "cells": [
    {
      "cell_type": "markdown",
      "metadata": {
        "id": "5wwf1iX4JQhd"
      },
      "source": [
        "PYTHON NOTEBOOK USED TO ANSWER TO EXERCISES OF CHAPTER 4 OF MATH80624 LECTURE NOTES (Data)\n",
        "\n",
        "Modified by:\n",
        "1. Chun Peng (Created for RSOME January 2021)\n",
        "2. Erick Delage (January 2021)\n",
        "\n",
        "As discussed in Chapter 4 of the  [lecture notes](http://web.hec.ca/pages/erick.delage/MATH80624_LectureNotes.pdf) of MATH80624 at HEC Montréal. "
      ]
    },
    {
      "cell_type": "markdown",
      "metadata": {
        "id": "XIcOYtO_J1DO"
      },
      "source": [
        "WARNING!!!\n",
        "\n",
        "The following code exploits a free Mosek licence for the course MATH80624 at HEC Montréal (expiration June 1st 2021). If you have error messages informing you about licencing issues, you may try uncommenting the installation lines for Gurobi. Otherwise, we recommend that you obtain your own licence of either Mosek ([url](https://www.mosek.com/)) or Gurobi ([url](https://www.gurobi.com/))."
      ]
    },
    {
      "cell_type": "markdown",
      "metadata": {
        "id": "32LXIhJfSoau"
      },
      "source": [
        "**Jean-Sébastien Matte**\n",
        "\n",
        "**Sena Onen Oz**"
      ]
    },
    {
      "cell_type": "markdown",
      "metadata": {
        "id": "jlPPv8mEJw4l"
      },
      "source": [
        "# **Preliminaries**"
      ]
    },
    {
      "cell_type": "code",
      "metadata": {
        "id": "himE4iN5z72G",
        "colab": {
          "base_uri": "https://localhost:8080/"
        },
        "outputId": "503f074c-1050-4ac5-a910-1d87a507b18d"
      },
      "source": [
        "!pip install rsome\n",
        "!pip install mosek\n",
        "!rm mosek.lic\n",
        "!git clone https://github.com/erickdelage/80624\n",
        "!cp ./80624/mosek.lic .\n",
        "!rm -r ./80624\n",
        "!mkdir -p /root/mosek\n",
        "!cp ./mosek.lic /root/mosek\n",
        "#!pip install -i https://pypi.gurobi.com gurobipy"
      ],
      "execution_count": null,
      "outputs": [
        {
          "output_type": "stream",
          "text": [
            "Requirement already satisfied: rsome in /usr/local/lib/python3.7/dist-packages (0.1.1)\n",
            "Requirement already satisfied: mosek in /usr/local/lib/python3.7/dist-packages (9.2.40)\n",
            "Requirement already satisfied: numpy in /usr/local/lib/python3.7/dist-packages (from mosek) (1.19.5)\n",
            "Cloning into '80624'...\n",
            "remote: Enumerating objects: 12, done.\u001b[K\n",
            "remote: Counting objects: 100% (12/12), done.\u001b[K\n",
            "remote: Compressing objects: 100% (10/10), done.\u001b[K\n",
            "remote: Total 12 (delta 2), reused 11 (delta 1), pack-reused 0\u001b[K\n",
            "Unpacking objects: 100% (12/12), done.\n"
          ],
          "name": "stdout"
        }
      ]
    },
    {
      "cell_type": "code",
      "metadata": {
        "collapsed": true,
        "id": "drnG59cKzi8k"
      },
      "source": [
        "import rsome as rso\n",
        "import numpy as np\n",
        "from rsome import ro\n",
        "from rsome import msk_solver as my_solver  #Import Mosek solver interface\n",
        "#from rsome import grb_solver as my_solver  #Import Gurobi solver interface"
      ],
      "execution_count": null,
      "outputs": []
    },
    {
      "cell_type": "markdown",
      "metadata": {
        "id": "IJXbqKeQd-bw"
      },
      "source": [
        "### Load the data"
      ]
    },
    {
      "cell_type": "code",
      "metadata": {
        "collapsed": true,
        "id": "Ks3hKtfOeCH4"
      },
      "source": [
        "n=4    #The number of facility locations\n",
        "m=12   #The number of retailer locations\n",
        "c = np.array([9.1, 8.0, 4.5, 2.1])                                                        #Installation cost for each facility location\n",
        "r = 2*np.ones((n,m))                                                                      #Retalier price\n",
        "P = np.array([23, 168, 110, 295])                                                         #Capacity of each facility locations\n",
        "D_bar = np.array([24, 12, 18, 23, 24, 13, 11, 9, 18, 25, 25, 23])                         #Nominal demand of each retalier\n",
        "D_hat = np.array([18, 1, 14, 12, 13, 5, 6, 0, 4, 23, 21, 20])                             #Maximum deviation from the nominal demand\n",
        "d = np.array([[2.31, 2.37, 1.89, 1.92, 1.98, 1.69, 2.37, 2.14, 2.87, 2.16, 2.15, 1.52],   #Transportation cost from facility to retailers\n",
        "    [1.88, 2.36, 2.02, 2.77, 1.17, 1.45, 2.64, 1.45, 1.83, 1.80, 1.74, 2.42],\n",
        "    [2.51, 1.73, 3.50, 2.39, 2.51, 2.50, 3.08, 2.36, 2.35, 1.72, 1.47, 2.10],\n",
        "    [1.71, 2.99, 1.40, 0.96, 1.79, 1.81, 1.89, 2.01, 2.28, 1.71, 2.98, 2.66]])\n",
        "\n",
        "#Column constraint generation algorithm parameters\n",
        "big_M = 10000\n",
        "tolerance = 1e-6"
      ],
      "execution_count": null,
      "outputs": []
    },
    {
      "cell_type": "markdown",
      "metadata": {
        "id": "Uv1MVg5ydd-f"
      },
      "source": [
        "# **Nominal facility location model**\n",
        "\n",
        "We will study the following model:\n",
        "\\begin{align}\n",
        "\\max_{x,y} & - \\sum_{i=1}^n c_i x_i + \\sum_{i=1}^n \\sum_{j=1}^m (r_{ij}-d_{ij})y_{ij} &&\\\\\n",
        "\\text{s.t.} & \\sum_{i=1}^n y_{ij} \\leq D_j &&\\forall\\,j \\in\\{1,\\cdots,m\\}\\\\\n",
        "& \\sum_{j=1}^m y_{ij} \\leq P_i x_i &&\\forall\\,\\;i \\in\\{1,\\cdots,n\\}\\\\\n",
        "&  x \\in \\{0,1\\}^n,\\;y_{ij} \\geq 0 &&\\forall\\,i \\in\\{1,\\cdots,n\\}, j \\in\\{1,\\cdots,m\\}, \n",
        "\\end{align}\n"
      ]
    },
    {
      "cell_type": "code",
      "metadata": {
        "id": "llm4IL7-dfzP",
        "scrolled": true,
        "colab": {
          "base_uri": "https://localhost:8080/"
        },
        "outputId": "c5cf2272-3a39-4642-8adb-86b544c9e579"
      },
      "source": [
        "#Solve the nominal facility location model\n",
        "\n",
        "#Create model\n",
        "model=ro.Model('Nominal facility location problem')\n",
        "#Define variables\n",
        "x = model.dvar(n,vtype='B')\n",
        "y = model.dvar((n,m))          #in million of units\n",
        "\n",
        "#List the objective and constraints\n",
        "model.max(-c@x + ((r-d)*y).sum())\n",
        "model.st(y.sum(axis=0) <= D_bar)       # Maximum demand at each retalier location\n",
        "model.st(y.sum(axis=1) <= P*x)         # Capacity of each facility location\n",
        "model.st(y>=0)                         \n",
        "\n",
        "#Solve the model \n",
        "model.solve(my_solver)\n",
        "opt_obj = model.get()  #in million of dollars\n",
        "opt_x = x.get()\n",
        "\n",
        "print('The objective is', opt_obj, 'and the optimal faciliy location is', opt_x)"
      ],
      "execution_count": null,
      "outputs": [
        {
          "output_type": "stream",
          "text": [
            "Being solved by Mosek...\n",
            "Solution status: integer_optimal\n",
            "Running time: 0.0211s\n",
            "The objective is 89.05 and the optimal faciliy location is [1. 1. 1. 1.]\n"
          ],
          "name": "stdout"
        }
      ]
    },
    {
      "cell_type": "markdown",
      "metadata": {
        "id": "aIf0byD-eHa0"
      },
      "source": [
        "# **Exercise 4.1) Implementing vertex enumeration**\n",
        "\n",
        "We are interested in implementing vertex enumeration on the adjustable robust optimization problem:\n",
        "\\begin{align}\n",
        "\\max_{x,y(\\cdot)} \\;\\;& \\min_{z\\in\\mathcal{Z}(\\Gamma)}- \\sum_{i=1}^n c_i x_i + \\sum_{i=1}^n \\sum_{j=1}^m (r_{ij}-d_{ij})y_{ij}(z) &&\\\\\n",
        "\\text{s.t.}\\;\\; & \\sum_{i=1}^n y_{ij}(z) \\leq \\bar{D}_j+\\hat{D}_j z_j &&\\forall z\\in\\mathcal{Z}(\\Gamma),\\;\\forall z\\in\\mathcal{Z}(\\Gamma)\\,,\\;\\forall\\,j \\in\\{1,\\cdots,m\\}\\\\\n",
        "& \\sum_{j=1}^m y_{ij}(z) \\leq P_i x_i &&\\forall z\\in\\mathcal{Z}(\\Gamma),\\;\\forall\\,\\;i \\in\\{1,\\cdots,n\\}\\\\\n",
        "&  x \\in \\{0,1\\}^n,\\;y_{ij}(z) \\geq 0 &&\\forall z\\in\\mathcal{Z}(\\Gamma),\\;\\forall\\,i \\in\\{1,\\cdots,n\\}, j \\in\\{1,\\cdots,m\\}, \n",
        "\\end{align}\n",
        "where \n",
        "$$\\mathcal{Z}:= \\left\\{ z\\in \\mathbb{R}^m\\,\\middle|\\, -1 \\leq z \\leq 1,\\, \\sum_i |z_i| \\leq \\Gamma\\right\\}$$\n",
        "\n",
        "In the case of $\\Gamma=1$, there are $2m$ vertices to worry about. Specifically, $ \\mathcal{Z}(1) = \\text{ConvexHull}(\\mathcal{Z}_v(1))$ with $\\mathcal{Z}_v(1):=\\{-e_1,-e_2,\\dots,-e_m,e_1,e_2,\\dots,e_m\\}\\;$.\n",
        "\n",
        "In the case of $\\Gamma=m$, the situation is more complicated as there are now $2^m$ vertices to take care of. Specifically, $ \\mathcal{Z}(m) = \\text{ConvexHull}(\\mathcal{Z}_v(m))$ with $\\mathcal{Z}_v(m):=\\{-1,1\\}^m\\;$.\n",
        "\n",
        "### Useful functions"
      ]
    },
    {
      "cell_type": "code",
      "metadata": {
        "collapsed": true,
        "id": "XdQ-S6hqz42b"
      },
      "source": [
        "def dec2base(ns, b):   \n",
        "    #This function convert a list of numbers to a 2-d np.array containing the base b representation of each of them\n",
        "    def dec2base_int(n, b):    #This funcion is used to convert a digit number n to base b \n",
        "        results = []\n",
        "        while True:\n",
        "          if n < b:           \n",
        "            results.append(n)# = [n] + results\n",
        "            break\n",
        "          else:\n",
        "            results.append(n%b)# = [n%b] + results\n",
        "            n = n//b\n",
        "        results.reverse()\n",
        "        return np.array(results)\n",
        "\n",
        "    k = len(dec2base_int(max(ns),b))\n",
        "    result = np.zeros((len(ns),k))\n",
        "    for i in range(len(ns)):\n",
        "        x = ns[i]\n",
        "        tmp = dec2base_int(x, b)\n",
        "        if len(tmp) < k:\n",
        "            tmp = np.append(np.zeros(k-len(tmp)),tmp)\n",
        "        result[i,:] = tmp\n",
        "    return result\n",
        "\n",
        "def Vertex_generation(n,Gamma):\n",
        "    #This function creates an 2-d np.array containing all the vertices of an n dimensional budgeted set\n",
        "    #Inputs:\n",
        "    #  n: dimension of set\n",
        "    #  Gamma : budget\n",
        "    #Outputs:\n",
        "    #  z: n \\times N np.array containing N vectors representing each vertex\n",
        "    \n",
        "    tmp1 = dec2base(np.arange(3**n), 3)-1   #Create list of all combinations of {-1, 0, 1}^N                #convert digit to base 3 and convert a set of numbers' digit to array\n",
        "    tmp2=np.sum(np.abs(tmp1),axis=1)        #Calculate amount of perturbation in each exteme point\n",
        "    tsce=np.where(tmp2-Gamma==0)[0]      #find where is Gamma constraint active\n",
        "    Zs=tmp1[tsce,:]\n",
        "    Zs=np.transpose(Zs)\n",
        "    N =np.size(Zs,axis=1)\n",
        "    return (Zs, N) \n"
      ],
      "execution_count": null,
      "outputs": []
    },
    {
      "cell_type": "markdown",
      "metadata": {
        "id": "AF7Uwixgz42c"
      },
      "source": [
        "### Solution:\n",
        "\n"
      ]
    },
    {
      "cell_type": "markdown",
      "metadata": {
        "id": "cNKJtJJnnIn-"
      },
      "source": [
        "We reformulate the problem for vertex enumeration as \n",
        "\\begin{align}\n",
        "  \\max_{x,\\{y^k\\}_{k=1}^{K}} \\;\\;& - \\sum_{i=1}^n c_i x_i + s &&\\\\\n",
        "  \\text{s.t.}\\;\\; & s \\leq \\sum_{i=1}^n \\sum_{j=1}^m (r_{ij}-d_{ij})y_{ij}^{k} && \\forall \\, k \\in\\{1, \\cdots,K\\} \\\\\n",
        "  & \\sum_{i=1}^n y_{ij}^{k} \\leq \\bar{D}_j+\\hat{D}_j z_j^{k} &&\\forall\\,j \\in\\{1,\\cdots,m\\}, \\; \\forall \\, k \\in\\{1, \\cdots,K\\} \\\\\n",
        "  & \\sum_{j=1}^m y_{ij}^{k} \\leq P_i x_i &&\\forall\\,\\;i \\in\\{1,\\cdots,n\\}, \\; \\forall \\, k \\in\\{1, \\cdots,K\\}\\\\\n",
        "  & y_{ij}^{k} \\geq 0 && \\forall\\,i \\in\\{1,\\cdots,n\\}, j \\in\\{1,\\cdots,m\\}, \\; \\forall \\, k \\in\\{1, \\cdots,K\\} \\\\\n",
        "  &  x \\in \\{0,1\\}^n, \n",
        "\\end{align}\n",
        "where the $z^{k}$ correspond to each of the vertices generated from function Vexter_generation."
      ]
    },
    {
      "cell_type": "markdown",
      "metadata": {
        "id": "4akNS-NX6aO5"
      },
      "source": [
        "$\\Gamma=1$"
      ]
    },
    {
      "cell_type": "code",
      "metadata": {
        "id": "m-XFbJm-14jp",
        "colab": {
          "base_uri": "https://localhost:8080/"
        },
        "outputId": "154bb177-1f71-48cc-9781-e72d78d826d3"
      },
      "source": [
        "#Budget of uncertainty\n",
        "Gamma = 1\n",
        "(zbar,size_z) = Vertex_generation(m,Gamma)\n",
        "\n",
        "#Create model\n",
        "model_v=ro.Model('Vertex Enumeration-Gamma1')\n",
        "#Define variables\n",
        "x = model_v.dvar(n,vtype='B')\n",
        "s = model_v.dvar()\n",
        "#List the objective and constraints\n",
        "for i in range(size_z):\n",
        "  y = model_v.dvar((n,m))          #in million of units\n",
        "  model_v.st(y.sum(axis=0) <= D_bar+D_hat*zbar[:,i])       # Maximum demand at each retalier location\n",
        "  model_v.st(s<=((r-d)*y).sum())\n",
        "  model_v.st(y.sum(axis=1) <= P*x)         # Capacity of each facility location\n",
        "  model_v.st(y>=0)\n",
        "\n",
        "model_v.max(-c@x + s)\n",
        "#Solve the model \n",
        "model_v.solve(my_solver)\n",
        "\n",
        "\n",
        "opt_obj_41_G1 = model_v.get()  # include optimal value here\n",
        "opt_x_41_G1 = x.get()\n",
        " # include solution here\n",
        "print('when Gamma=', Gamma, 'the objective is', np.round(opt_obj_41_G1,decimals=4), 'and the optimal facility locations are',opt_x_41_G1)"
      ],
      "execution_count": null,
      "outputs": [
        {
          "output_type": "stream",
          "text": [
            "Being solved by Mosek...\n",
            "Solution status: integer_optimal\n",
            "Running time: 0.0443s\n",
            "when Gamma= 1 the objective is 76.57 and the optimal facility locations are [1. 1. 1. 1.]\n"
          ],
          "name": "stdout"
        }
      ]
    },
    {
      "cell_type": "markdown",
      "metadata": {
        "id": "-8PKhYUe6VFb"
      },
      "source": [
        "$\\Gamma=m$\n"
      ]
    },
    {
      "cell_type": "code",
      "metadata": {
        "id": "sBSLaYQpFLEa"
      },
      "source": [
        "#Budget of uncertainty\n",
        "Gamma = m\n",
        "(zbar,size_z) = Vertex_generation(m,Gamma)"
      ],
      "execution_count": null,
      "outputs": []
    },
    {
      "cell_type": "code",
      "metadata": {
        "id": "g6ifzeYdenqH",
        "colab": {
          "base_uri": "https://localhost:8080/"
        },
        "outputId": "548081d9-4449-403a-9159-c61e05a3991b"
      },
      "source": [
        "\n",
        "\n",
        "#Create model\n",
        "model_vm=ro.Model('Vertex Enumeration-Gamma1')\n",
        "#Define variables\n",
        "x = model_vm.dvar(n,vtype='B')\n",
        "s = model_vm.dvar()\n",
        "#List the objective and constraints\n",
        "y = model_vm.dvar((n,m,size_z))          #in million of units\n",
        "for i in range(size_z):\n",
        "\n",
        "  model_vm.st(y[:,:,i].sum(axis=0) <= D_bar+D_hat*zbar[:,i])       # Maximum demand at each retalier location\n",
        "  model_vm.st(s<=((r-d)*y[:,:,i]).sum())\n",
        "  model_vm.st(y[:,:,i].sum(axis=1) <= P*x)         # Capacity of each facility location\n",
        "model_vm.st(y>=0)\n",
        "\n",
        "model_vm.max(-c@x + s)\n",
        "#Solve the model \n",
        "model_vm.solve(my_solver)\n",
        "\n",
        "opt_obj_41_Gm = model_vm.get()  # include optimal value here\n",
        "opt_x_41_Gm = x.get() # include solution here\n",
        "print('when Gamma=', Gamma, 'the objective is', np.round(opt_obj_41_Gm,decimals=4), 'and the optimal facility locations are',opt_x_41_Gm)"
      ],
      "execution_count": null,
      "outputs": [
        {
          "output_type": "stream",
          "text": [
            "Being solved by Mosek...\n",
            "Solution status: integer_optimal\n",
            "Running time: 15.7944s\n",
            "when Gamma= 12 the objective is 28.51 and the optimal facility locations are [0. 1. 0. 1.]\n"
          ],
          "name": "stdout"
        }
      ]
    },
    {
      "cell_type": "markdown",
      "metadata": {
        "id": "LxkMQUIXfKQi"
      },
      "source": [
        "# **Exercise 4.3) Implementing column-and-constraint generation**\n",
        "\n",
        "Solve the robust two-stage optimization problem presented in problem (4.18) using column-and-constraint generation for the budgeted uncertainty set when $\\Gamma=4$. "
      ]
    },
    {
      "cell_type": "markdown",
      "metadata": {
        "id": "5OEHonEefOwy"
      },
      "source": [
        "### Solution:\n"
      ]
    },
    {
      "cell_type": "markdown",
      "metadata": {
        "id": "Q8l-NrA_nlla"
      },
      "source": [
        "We reformulate the problem as a master and a slave problem to implement column&constraint generation. \n",
        "\n",
        "The master problem is:\n",
        "\\begin{align}\n",
        "  \\max_{x,\\{y^k\\}_{k=1}^{K'}} \\;\\;& - \\sum_{i=1}^n c_i x_i + s &&\\\\\n",
        "  \\text{s.t.}\\;\\; & s \\leq \\sum_{i=1}^n \\sum_{j=1}^m (r_{ij}-d_{ij})y_{ij}^{k} && \\forall \\, k \\in\\{1, \\cdots,K'\\} \\\\\n",
        "  & \\sum_{i=1}^n y_{ij}^{k} \\leq \\bar{D}_j+\\hat{D}_j z_j^{k} &&\\forall\\,j \\in\\{1,\\cdots,m\\}, \\; \\forall \\, k \\in\\{1, \\cdots,K'\\} \\\\\n",
        "  & \\sum_{j=1}^m y_{ij}^{k} \\leq P_i x_i &&\\forall\\,\\;i \\in\\{1,\\cdots,n\\}, \\; \\forall \\, k \\in\\{1, \\cdots,K'\\}\\\\\n",
        "  & y_{ij}^{k} \\geq 0 && \\forall\\,i \\in\\{1,\\cdots,n\\}, j \\in\\{1,\\cdots,m\\}, \\; \\forall \\, k \\in\\{1, \\cdots,K'\\} \\\\\n",
        "  &  x \\in \\{0,1\\}^n, \n",
        "\\end{align}\n",
        "\n",
        "where $z^{k}$ are a subset of $K' < K$ vertices generated by the Vertex_generation function. \n",
        "\n",
        "The slave problem is: \n",
        "\\begin{align}\n",
        "  \\min_{x, y, \\lambda, \\gamma, \\theta, u, v, w, z} & \\; -\\sum_{i=1}^n c_i x_i + \\sum_{i=1}^n \\sum_{j=1}^m (r_{ij}-d_{ij})y_{ij} & \\\\\n",
        "  \\text{s.t.}\\;\\; & \\sum_{i=1}^n y_{ij} \\leq \\bar{D}_j+\\hat{D}_j z_j & \\forall\\,j \\in\\{1,\\cdots,m\\} \\\\\n",
        "  & \\sum_{j=1}^m y_{ij} \\leq P_i x_i &\\forall\\,\\;i \\in\\{1,\\cdots,n\\} \\\\\n",
        "  & -y_{ij} \\leq 0 & \\forall\\,i \\in\\{1,\\cdots,n\\}, j \\in\\{1,\\cdots,m\\} \\\\\n",
        "  & x \\in \\{0,1\\}^n \\\\\n",
        "  & \\lambda_{j} + \\gamma_{i} - \\theta_{ij} = r_{ij}-d_{ij} & \\forall i \\in\\{1,\\cdots,n\\}, \\; \\forall j \\in\\{1,\\cdots,m\\} \\\\\n",
        "  & \\lambda, \\gamma, \\theta \\geq 0 \\\\\n",
        "  & \\lambda_{j} \\leq Mu_{j} & \\forall j \\in\\{1,\\cdots,m\\} \\\\\n",
        "  & \\gamma_{i} \\leq Mv_{i} & \\forall i \\in\\{1,\\cdots,n\\} \\\\\n",
        "  & \\theta_{ij} \\leq Mw_{ij} & \\forall i \\in\\{1,\\cdots,n\\}, \\; \\forall j \\in\\{1,\\cdots,m\\} \\\\\n",
        "  & \\bar{D}_j+\\hat{D}_j z_j - \\sum_{i=1}^n y_{ij} \\leq M(1-u_{j}) & \\forall j \\in\\{1,\\cdots,m\\} \\\\\n",
        "  & P_i x_i - \\sum_{j=1}^m y_{ij} \\leq M(1-v_{i}) & \\forall i \\in\\{1,\\cdots,n\\} \\\\\n",
        "  & y_{ij} \\leq M(1-w_{ij}) & \\forall i \\in\\{1,\\cdots,n\\}, \\; \\forall j \\in\\{1,\\cdots,m\\} \\\\\n",
        "  & |z| \\leq 1 \\\\\n",
        "  & \\sum_i |z_i| \\leq \\Gamma\n",
        "\\end{align}\n",
        "\n"
      ]
    },
    {
      "cell_type": "code",
      "metadata": {
        "id": "Q2kFzZTk5gfB",
        "colab": {
          "base_uri": "https://localhost:8080/"
        },
        "outputId": "be3e5130-cac0-445a-8b47-78a09a923142"
      },
      "source": [
        "#Budget of uncertainty\n",
        "Gamma_4 = 4\n",
        "(zbar_4,size_z_4) = Vertex_generation(m,Gamma_4)\n",
        "# print(zbar.size)  # 95,040\n",
        "\n",
        "# Define the MASTER model\n",
        "def master(m_z):\n",
        "  master_G4 = ro.Model('master_G4')\n",
        "\n",
        "  #Define variables\n",
        "  x_mG4 = master_G4.dvar(n, vtype='B')\n",
        "  s_mG4 = master_G4.dvar(1)\n",
        "\n",
        "  # Constraints\n",
        "  for i in range(m_z.shape[1]):\n",
        "    y_mG4 = master_G4.dvar((n, m))          #in million of units \n",
        "    master_G4.st(s_mG4 <= ((r-d)*y_mG4).sum())\n",
        "    master_G4.st(y_mG4.sum(axis=0) <= D_bar + (np.diag(D_hat) @ m_z[:,i])) # Maximum demand at each retalier location, for each vertex\n",
        "    master_G4.st(y_mG4.sum(axis=1) <= P * x_mG4)         # Capacity of each facility location\n",
        "    master_G4.st(y_mG4 >= 0) \n",
        "\n",
        "  # objective function\n",
        "  master_G4.max(-c@x_mG4 + s_mG4)                        \n",
        "\n",
        "  #Solve the model \n",
        "  master_G4.solve(my_solver)\n",
        "\n",
        "  return master_G4.get(), x_mG4.get()\n",
        "\n",
        "def slave(s_x):\n",
        "  slave_G4 = ro.Model('slave_G4')\n",
        "\n",
        "  # Define variables\n",
        "  z_sG4 = slave_G4.dvar(m)\n",
        "  y_sG4 = slave_G4.dvar((n, m))\n",
        "  lambda_sG4 = slave_G4.dvar(m)\n",
        "  u_sG4 = slave_G4.dvar(m, vtype='B')\n",
        "  gamma_sG4 = slave_G4.dvar(n)\n",
        "  v_sG4 = slave_G4.dvar(n, vtype='B')\n",
        "  theta_sG4 = slave_G4.dvar((n,m))\n",
        "  w_sG4 = slave_G4.dvar((n,m), vtype='B')\n",
        "\n",
        "  # objective function\n",
        "  slave_G4.min(-c@s_x + ((r-d)*y_sG4).sum())\n",
        "\n",
        "  # Constraints\n",
        "  slave_G4.st(y_sG4.sum(axis=0) <= D_bar + (np.diag(D_hat) @ z_sG4)) \n",
        "  slave_G4.st(y_sG4.sum(axis=1) <= P * s_x)   \n",
        "  slave_G4.st(-y_sG4 <= 0)  \n",
        "  for j in range(y_sG4.shape[0]):\n",
        "    slave_G4.st(lambda_sG4 + (np.ones(m) * gamma_sG4[j]) - theta_sG4[j,:] == (r[j,:] - d[j,:]))\n",
        "  slave_G4.st(lambda_sG4 >= 0) \n",
        "  slave_G4.st(gamma_sG4 >= 0)\n",
        "  slave_G4.st(theta_sG4 >= 0)\n",
        "  slave_G4.st(lambda_sG4 <= big_M*u_sG4) \n",
        "  slave_G4.st(gamma_sG4 <= big_M*v_sG4)\n",
        "  slave_G4.st(theta_sG4 <= big_M*w_sG4)\n",
        "  slave_G4.st(D_bar + (np.diag(D_hat) @ z_sG4) - y_sG4.sum(axis=0) <= big_M*(np.ones(m)-u_sG4)) \n",
        "  slave_G4.st((P * s_x) - y_sG4.sum(axis=1) <= big_M*(np.ones(n)-v_sG4))   \n",
        "  slave_G4.st(y_sG4 <= big_M*(np.ones((n,m))-w_sG4)) \n",
        "  slave_G4.st(abs(z_sG4) <= 1)\n",
        "  slave_G4.st(rso.norm(z_sG4, 1) <= Gamma_4)\n",
        "\n",
        "  #Solve the model \n",
        "  slave_G4.solve(my_solver)\n",
        "\n",
        "  return slave_G4.get(), z_sG4.get()\n",
        "\n",
        "\n",
        "# C&CG Algorithm\n",
        "x0 = [0, 0, 0, 0]\n",
        "\n",
        "print('Solving the slave problem for x0')\n",
        "print('')\n",
        "_, z0 = slave(x0)\n",
        "\n",
        "Z_prime = np.array([[i] for i in z0])\n",
        "\n",
        "print('Iterating over the Constraint&Column Generation Algorithm')\n",
        "print('')\n",
        "for iter in range(10):\n",
        "  print('iteration ', iter)\n",
        "  s_hat, x_hat = master(Z_prime)\n",
        "\n",
        "  h_hat, z_hat = slave(x_hat)\n",
        "\n",
        "  if abs(h_hat - s_hat) <= tolerance:\n",
        "    opt_obj_43 = h_hat \n",
        "    opt_x_43 = x_hat \n",
        "    print('when Gamma=', Gamma_4, 'the objective is', np.round(opt_obj_43,decimals=4), 'and the optimal facility locations are',opt_x_43)\n",
        "    break\n",
        "  \n",
        "  else:\n",
        "    Z_prime = np.column_stack((Z_prime, np.array(z_hat)))\n",
        "    print('')"
      ],
      "execution_count": null,
      "outputs": [
        {
          "output_type": "stream",
          "text": [
            "Solving the slave problem for x0\n",
            "\n",
            "Being solved by Mosek...\n",
            "Solution status: integer_optimal\n",
            "Running time: 0.0093s\n",
            "Iterating over the Constraint&Column Generation Algorithm\n",
            "\n",
            "iteration  0\n",
            "Being solved by Mosek...\n",
            "Solution status: integer_optimal\n",
            "Running time: 0.0122s\n",
            "Being solved by Mosek...\n",
            "Solution status: integer_optimal\n",
            "Running time: 0.0113s\n",
            "\n",
            "iteration  1\n",
            "Being solved by Mosek...\n",
            "Solution status: integer_optimal\n",
            "Running time: 0.0127s\n",
            "Being solved by Mosek...\n",
            "Solution status: integer_optimal\n",
            "Running time: 0.0097s\n",
            "\n",
            "iteration  2\n",
            "Being solved by Mosek...\n",
            "Solution status: integer_optimal\n",
            "Running time: 0.0154s\n",
            "Being solved by Mosek...\n",
            "Solution status: integer_optimal\n",
            "Running time: 0.0100s\n",
            "\n",
            "iteration  3\n",
            "Being solved by Mosek...\n",
            "Solution status: integer_optimal\n",
            "Running time: 0.0238s\n",
            "Being solved by Mosek...\n",
            "Solution status: integer_optimal\n",
            "Running time: 0.0120s\n",
            "\n",
            "iteration  4\n",
            "Being solved by Mosek...\n",
            "Solution status: integer_optimal\n",
            "Running time: 0.0206s\n",
            "Being solved by Mosek...\n",
            "Solution status: integer_optimal\n",
            "Running time: 0.0163s\n",
            "when Gamma= 4 the objective is 45.05 and the optimal facility locations are [1. 1. 1. 1.]\n"
          ],
          "name": "stdout"
        }
      ]
    },
    {
      "cell_type": "code",
      "metadata": {
        "id": "Zp9aFpXEj0WL",
        "colab": {
          "base_uri": "https://localhost:8080/",
          "height": 380
        },
        "outputId": "a00c4b35-bb32-49d1-a0c9-e099f80edd90"
      },
      "source": [
        "# As a comparison, we run the vertex enumeration algorithm on Gamma = 4 problem\n",
        "#Budget of uncertainty\n",
        "Gamma = 4\n",
        "(zbar,size_z) = Vertex_generation(m,Gamma)\n",
        "\n",
        "#Create model\n",
        "model_vm=ro.Model('Vertex Enumeration-Gamma1')\n",
        "#Define variables\n",
        "x = model_vm.dvar(n,vtype='B')\n",
        "s = model_vm.dvar()\n",
        "#List the objective and constraints\n",
        "for i in range(size_z):\n",
        "  y = model_vm.dvar((n,m))          #in million of units\n",
        "  model_vm.st(y.sum(axis=0) <= D_bar+D_hat*zbar[:,i])       # Maximum demand at each retalier location\n",
        "  model_vm.st(s<=((r-d)*y).sum())\n",
        "  model_vm.st(y.sum(axis=1) <= P*x)         # Capacity of each facility location\n",
        "  model_vm.st(y>=0)\n",
        "\n",
        "model_vm.max(-c@x + s)\n",
        "#Solve the model \n",
        "model_vm.solve(my_solver)\n",
        "\n",
        "opt_obj_43_4 = model_vm.get()  # include optimal value here\n",
        "opt_x_43_4 = x.get() # include solution here\n",
        "print('when Gamma=', Gamma, 'the objective is', np.round(opt_obj_43_4,decimals=4), 'and the optimal facility locations are',opt_x_43_4)"
      ],
      "execution_count": null,
      "outputs": [
        {
          "output_type": "error",
          "ename": "KeyboardInterrupt",
          "evalue": "ignored",
          "traceback": [
            "\u001b[0;31m---------------------------------------------------------------------------\u001b[0m",
            "\u001b[0;31mKeyboardInterrupt\u001b[0m                         Traceback (most recent call last)",
            "\u001b[0;32m<ipython-input-10-593a5e7a0814>\u001b[0m in \u001b[0;36m<module>\u001b[0;34m()\u001b[0m\n\u001b[1;32m     13\u001b[0m   \u001b[0my\u001b[0m \u001b[0;34m=\u001b[0m \u001b[0mmodel_vm\u001b[0m\u001b[0;34m.\u001b[0m\u001b[0mdvar\u001b[0m\u001b[0;34m(\u001b[0m\u001b[0;34m(\u001b[0m\u001b[0mn\u001b[0m\u001b[0;34m,\u001b[0m\u001b[0mm\u001b[0m\u001b[0;34m)\u001b[0m\u001b[0;34m)\u001b[0m          \u001b[0;31m#in million of units\u001b[0m\u001b[0;34m\u001b[0m\u001b[0;34m\u001b[0m\u001b[0m\n\u001b[1;32m     14\u001b[0m   \u001b[0mmodel_vm\u001b[0m\u001b[0;34m.\u001b[0m\u001b[0mst\u001b[0m\u001b[0;34m(\u001b[0m\u001b[0my\u001b[0m\u001b[0;34m.\u001b[0m\u001b[0msum\u001b[0m\u001b[0;34m(\u001b[0m\u001b[0maxis\u001b[0m\u001b[0;34m=\u001b[0m\u001b[0;36m0\u001b[0m\u001b[0;34m)\u001b[0m \u001b[0;34m<=\u001b[0m \u001b[0mD_bar\u001b[0m\u001b[0;34m+\u001b[0m\u001b[0mD_hat\u001b[0m\u001b[0;34m*\u001b[0m\u001b[0mzbar\u001b[0m\u001b[0;34m[\u001b[0m\u001b[0;34m:\u001b[0m\u001b[0;34m,\u001b[0m\u001b[0mi\u001b[0m\u001b[0;34m]\u001b[0m\u001b[0;34m)\u001b[0m       \u001b[0;31m# Maximum demand at each retalier location\u001b[0m\u001b[0;34m\u001b[0m\u001b[0;34m\u001b[0m\u001b[0m\n\u001b[0;32m---> 15\u001b[0;31m   \u001b[0mmodel_vm\u001b[0m\u001b[0;34m.\u001b[0m\u001b[0mst\u001b[0m\u001b[0;34m(\u001b[0m\u001b[0ms\u001b[0m\u001b[0;34m<=\u001b[0m\u001b[0;34m(\u001b[0m\u001b[0;34m(\u001b[0m\u001b[0mr\u001b[0m\u001b[0;34m-\u001b[0m\u001b[0md\u001b[0m\u001b[0;34m)\u001b[0m\u001b[0;34m*\u001b[0m\u001b[0my\u001b[0m\u001b[0;34m)\u001b[0m\u001b[0;34m.\u001b[0m\u001b[0msum\u001b[0m\u001b[0;34m(\u001b[0m\u001b[0;34m)\u001b[0m\u001b[0;34m)\u001b[0m\u001b[0;34m\u001b[0m\u001b[0;34m\u001b[0m\u001b[0m\n\u001b[0m\u001b[1;32m     16\u001b[0m   \u001b[0mmodel_vm\u001b[0m\u001b[0;34m.\u001b[0m\u001b[0mst\u001b[0m\u001b[0;34m(\u001b[0m\u001b[0my\u001b[0m\u001b[0;34m.\u001b[0m\u001b[0msum\u001b[0m\u001b[0;34m(\u001b[0m\u001b[0maxis\u001b[0m\u001b[0;34m=\u001b[0m\u001b[0;36m1\u001b[0m\u001b[0;34m)\u001b[0m \u001b[0;34m<=\u001b[0m \u001b[0mP\u001b[0m\u001b[0;34m*\u001b[0m\u001b[0mx\u001b[0m\u001b[0;34m)\u001b[0m         \u001b[0;31m# Capacity of each facility location\u001b[0m\u001b[0;34m\u001b[0m\u001b[0;34m\u001b[0m\u001b[0m\n\u001b[1;32m     17\u001b[0m   \u001b[0mmodel_vm\u001b[0m\u001b[0;34m.\u001b[0m\u001b[0mst\u001b[0m\u001b[0;34m(\u001b[0m\u001b[0my\u001b[0m\u001b[0;34m>=\u001b[0m\u001b[0;36m0\u001b[0m\u001b[0;34m)\u001b[0m\u001b[0;34m\u001b[0m\u001b[0;34m\u001b[0m\u001b[0m\n",
            "\u001b[0;32m/usr/local/lib/python3.7/dist-packages/rsome/lp.py\u001b[0m in \u001b[0;36m__le__\u001b[0;34m(self, other)\u001b[0m\n\u001b[1;32m    532\u001b[0m             \u001b[0;32mreturn\u001b[0m \u001b[0mBounds\u001b[0m\u001b[0;34m(\u001b[0m\u001b[0mself\u001b[0m\u001b[0;34m.\u001b[0m\u001b[0mmodel\u001b[0m\u001b[0;34m,\u001b[0m \u001b[0mindices\u001b[0m\u001b[0;34m,\u001b[0m \u001b[0mupper\u001b[0m\u001b[0;34m,\u001b[0m \u001b[0;34m'U'\u001b[0m\u001b[0;34m)\u001b[0m\u001b[0;34m\u001b[0m\u001b[0;34m\u001b[0m\u001b[0m\n\u001b[1;32m    533\u001b[0m         \u001b[0;32melse\u001b[0m\u001b[0;34m:\u001b[0m\u001b[0;34m\u001b[0m\u001b[0;34m\u001b[0m\u001b[0m\n\u001b[0;32m--> 534\u001b[0;31m             \u001b[0;32mreturn\u001b[0m \u001b[0mself\u001b[0m\u001b[0;34m.\u001b[0m\u001b[0mto_affine\u001b[0m\u001b[0;34m(\u001b[0m\u001b[0;34m)\u001b[0m \u001b[0;34m<=\u001b[0m \u001b[0mother\u001b[0m\u001b[0;34m\u001b[0m\u001b[0;34m\u001b[0m\u001b[0m\n\u001b[0m\u001b[1;32m    535\u001b[0m \u001b[0;34m\u001b[0m\u001b[0m\n\u001b[1;32m    536\u001b[0m     \u001b[0;32mdef\u001b[0m \u001b[0m__ge__\u001b[0m\u001b[0;34m(\u001b[0m\u001b[0mself\u001b[0m\u001b[0;34m,\u001b[0m \u001b[0mother\u001b[0m\u001b[0;34m)\u001b[0m\u001b[0;34m:\u001b[0m\u001b[0;34m\u001b[0m\u001b[0;34m\u001b[0m\u001b[0m\n",
            "\u001b[0;32m/usr/local/lib/python3.7/dist-packages/rsome/lp.py\u001b[0m in \u001b[0;36m__le__\u001b[0;34m(self, other)\u001b[0m\n\u001b[1;32m   1070\u001b[0m     \u001b[0;32mdef\u001b[0m \u001b[0m__le__\u001b[0m\u001b[0;34m(\u001b[0m\u001b[0mself\u001b[0m\u001b[0;34m,\u001b[0m \u001b[0mother\u001b[0m\u001b[0;34m)\u001b[0m\u001b[0;34m:\u001b[0m\u001b[0;34m\u001b[0m\u001b[0;34m\u001b[0m\u001b[0m\n\u001b[1;32m   1071\u001b[0m \u001b[0;34m\u001b[0m\u001b[0m\n\u001b[0;32m-> 1072\u001b[0;31m         \u001b[0mleft\u001b[0m \u001b[0;34m=\u001b[0m \u001b[0mself\u001b[0m \u001b[0;34m-\u001b[0m \u001b[0mother\u001b[0m\u001b[0;34m\u001b[0m\u001b[0;34m\u001b[0m\u001b[0m\n\u001b[0m\u001b[1;32m   1073\u001b[0m         \u001b[0;32mif\u001b[0m \u001b[0misinstance\u001b[0m\u001b[0;34m(\u001b[0m\u001b[0mleft\u001b[0m\u001b[0;34m,\u001b[0m \u001b[0mAffine\u001b[0m\u001b[0;34m)\u001b[0m \u001b[0;32mand\u001b[0m \u001b[0;32mnot\u001b[0m \u001b[0misinstance\u001b[0m\u001b[0;34m(\u001b[0m\u001b[0mleft\u001b[0m\u001b[0;34m,\u001b[0m \u001b[0mDecAffine\u001b[0m\u001b[0;34m)\u001b[0m\u001b[0;34m:\u001b[0m\u001b[0;34m\u001b[0m\u001b[0;34m\u001b[0m\u001b[0m\n\u001b[1;32m   1074\u001b[0m             return LinConstr(left.model, left.linear,\n",
            "\u001b[0;32m/usr/local/lib/python3.7/dist-packages/rsome/lp.py\u001b[0m in \u001b[0;36m__sub__\u001b[0;34m(self, other)\u001b[0m\n\u001b[1;32m   1062\u001b[0m     \u001b[0;32mdef\u001b[0m \u001b[0m__sub__\u001b[0m\u001b[0;34m(\u001b[0m\u001b[0mself\u001b[0m\u001b[0;34m,\u001b[0m \u001b[0mother\u001b[0m\u001b[0;34m)\u001b[0m\u001b[0;34m:\u001b[0m\u001b[0;34m\u001b[0m\u001b[0;34m\u001b[0m\u001b[0m\n\u001b[1;32m   1063\u001b[0m \u001b[0;34m\u001b[0m\u001b[0m\n\u001b[0;32m-> 1064\u001b[0;31m         \u001b[0;32mreturn\u001b[0m \u001b[0mself\u001b[0m \u001b[0;34m+\u001b[0m \u001b[0;34m(\u001b[0m\u001b[0;34m-\u001b[0m\u001b[0mother\u001b[0m\u001b[0;34m)\u001b[0m\u001b[0;34m\u001b[0m\u001b[0;34m\u001b[0m\u001b[0m\n\u001b[0m\u001b[1;32m   1065\u001b[0m \u001b[0;34m\u001b[0m\u001b[0m\n\u001b[1;32m   1066\u001b[0m     \u001b[0;32mdef\u001b[0m \u001b[0m__rsub__\u001b[0m\u001b[0;34m(\u001b[0m\u001b[0mself\u001b[0m\u001b[0;34m,\u001b[0m \u001b[0mother\u001b[0m\u001b[0;34m)\u001b[0m\u001b[0;34m:\u001b[0m\u001b[0;34m\u001b[0m\u001b[0;34m\u001b[0m\u001b[0m\n",
            "\u001b[0;32m/usr/local/lib/python3.7/dist-packages/rsome/lp.py\u001b[0m in \u001b[0;36m__add__\u001b[0;34m(self, other)\u001b[0m\n\u001b[1;32m   1020\u001b[0m \u001b[0;34m\u001b[0m\u001b[0m\n\u001b[1;32m   1021\u001b[0m             \u001b[0;32mif\u001b[0m \u001b[0mself\u001b[0m\u001b[0;34m.\u001b[0m\u001b[0mshape\u001b[0m \u001b[0;34m==\u001b[0m \u001b[0mother\u001b[0m\u001b[0;34m.\u001b[0m\u001b[0mshape\u001b[0m\u001b[0;34m:\u001b[0m\u001b[0;34m\u001b[0m\u001b[0;34m\u001b[0m\u001b[0m\n\u001b[0;32m-> 1022\u001b[0;31m                 \u001b[0mnew_linear\u001b[0m \u001b[0;34m=\u001b[0m \u001b[0madd_linear\u001b[0m\u001b[0;34m(\u001b[0m\u001b[0mself\u001b[0m\u001b[0;34m.\u001b[0m\u001b[0mlinear\u001b[0m\u001b[0;34m,\u001b[0m \u001b[0mother\u001b[0m\u001b[0;34m.\u001b[0m\u001b[0mlinear\u001b[0m\u001b[0;34m)\u001b[0m\u001b[0;34m\u001b[0m\u001b[0;34m\u001b[0m\u001b[0m\n\u001b[0m\u001b[1;32m   1023\u001b[0m             \u001b[0;32melse\u001b[0m\u001b[0;34m:\u001b[0m\u001b[0;34m\u001b[0m\u001b[0;34m\u001b[0m\u001b[0m\n\u001b[1;32m   1024\u001b[0m \u001b[0;34m\u001b[0m\u001b[0m\n",
            "\u001b[0;32m/usr/local/lib/python3.7/dist-packages/rsome/subroutines.py\u001b[0m in \u001b[0;36madd_linear\u001b[0;34m(left, right)\u001b[0m\n\u001b[1;32m    174\u001b[0m         \u001b[0mleft\u001b[0m\u001b[0;34m.\u001b[0m\u001b[0mresize\u001b[0m\u001b[0;34m(\u001b[0m\u001b[0;34m(\u001b[0m\u001b[0mleft\u001b[0m\u001b[0;34m.\u001b[0m\u001b[0mshape\u001b[0m\u001b[0;34m[\u001b[0m\u001b[0;36m0\u001b[0m\u001b[0;34m]\u001b[0m\u001b[0;34m,\u001b[0m \u001b[0mright\u001b[0m\u001b[0;34m.\u001b[0m\u001b[0mshape\u001b[0m\u001b[0;34m[\u001b[0m\u001b[0;36m1\u001b[0m\u001b[0;34m]\u001b[0m\u001b[0;34m)\u001b[0m\u001b[0;34m)\u001b[0m\u001b[0;34m\u001b[0m\u001b[0;34m\u001b[0m\u001b[0m\n\u001b[1;32m    175\u001b[0m \u001b[0;34m\u001b[0m\u001b[0m\n\u001b[0;32m--> 176\u001b[0;31m     \u001b[0;32mreturn\u001b[0m \u001b[0mleft\u001b[0m \u001b[0;34m+\u001b[0m \u001b[0mright\u001b[0m\u001b[0;34m\u001b[0m\u001b[0;34m\u001b[0m\u001b[0m\n\u001b[0m\u001b[1;32m    177\u001b[0m \u001b[0;34m\u001b[0m\u001b[0m\n\u001b[1;32m    178\u001b[0m \u001b[0;34m\u001b[0m\u001b[0m\n",
            "\u001b[0;32m/usr/local/lib/python3.7/dist-packages/scipy/sparse/base.py\u001b[0m in \u001b[0;36m__add__\u001b[0;34m(self, other)\u001b[0m\n\u001b[1;32m    417\u001b[0m             \u001b[0;32mif\u001b[0m \u001b[0mother\u001b[0m\u001b[0;34m.\u001b[0m\u001b[0mshape\u001b[0m \u001b[0;34m!=\u001b[0m \u001b[0mself\u001b[0m\u001b[0;34m.\u001b[0m\u001b[0mshape\u001b[0m\u001b[0;34m:\u001b[0m\u001b[0;34m\u001b[0m\u001b[0;34m\u001b[0m\u001b[0m\n\u001b[1;32m    418\u001b[0m                 \u001b[0;32mraise\u001b[0m \u001b[0mValueError\u001b[0m\u001b[0;34m(\u001b[0m\u001b[0;34m\"inconsistent shapes\"\u001b[0m\u001b[0;34m)\u001b[0m\u001b[0;34m\u001b[0m\u001b[0;34m\u001b[0m\u001b[0m\n\u001b[0;32m--> 419\u001b[0;31m             \u001b[0;32mreturn\u001b[0m \u001b[0mself\u001b[0m\u001b[0;34m.\u001b[0m\u001b[0m_add_sparse\u001b[0m\u001b[0;34m(\u001b[0m\u001b[0mother\u001b[0m\u001b[0;34m)\u001b[0m\u001b[0;34m\u001b[0m\u001b[0;34m\u001b[0m\u001b[0m\n\u001b[0m\u001b[1;32m    420\u001b[0m         \u001b[0;32melif\u001b[0m \u001b[0misdense\u001b[0m\u001b[0;34m(\u001b[0m\u001b[0mother\u001b[0m\u001b[0;34m)\u001b[0m\u001b[0;34m:\u001b[0m\u001b[0;34m\u001b[0m\u001b[0;34m\u001b[0m\u001b[0m\n\u001b[1;32m    421\u001b[0m             \u001b[0mother\u001b[0m \u001b[0;34m=\u001b[0m \u001b[0mbroadcast_to\u001b[0m\u001b[0;34m(\u001b[0m\u001b[0mother\u001b[0m\u001b[0;34m,\u001b[0m \u001b[0mself\u001b[0m\u001b[0;34m.\u001b[0m\u001b[0mshape\u001b[0m\u001b[0;34m)\u001b[0m\u001b[0;34m\u001b[0m\u001b[0;34m\u001b[0m\u001b[0m\n",
            "\u001b[0;32m/usr/local/lib/python3.7/dist-packages/scipy/sparse/compressed.py\u001b[0m in \u001b[0;36m_add_sparse\u001b[0;34m(self, other)\u001b[0m\n\u001b[1;32m    353\u001b[0m \u001b[0;34m\u001b[0m\u001b[0m\n\u001b[1;32m    354\u001b[0m     \u001b[0;32mdef\u001b[0m \u001b[0m_add_sparse\u001b[0m\u001b[0;34m(\u001b[0m\u001b[0mself\u001b[0m\u001b[0;34m,\u001b[0m \u001b[0mother\u001b[0m\u001b[0;34m)\u001b[0m\u001b[0;34m:\u001b[0m\u001b[0;34m\u001b[0m\u001b[0;34m\u001b[0m\u001b[0m\n\u001b[0;32m--> 355\u001b[0;31m         \u001b[0;32mreturn\u001b[0m \u001b[0mself\u001b[0m\u001b[0;34m.\u001b[0m\u001b[0m_binopt\u001b[0m\u001b[0;34m(\u001b[0m\u001b[0mother\u001b[0m\u001b[0;34m,\u001b[0m \u001b[0;34m'_plus_'\u001b[0m\u001b[0;34m)\u001b[0m\u001b[0;34m\u001b[0m\u001b[0;34m\u001b[0m\u001b[0m\n\u001b[0m\u001b[1;32m    356\u001b[0m \u001b[0;34m\u001b[0m\u001b[0m\n\u001b[1;32m    357\u001b[0m     \u001b[0;32mdef\u001b[0m \u001b[0m_sub_sparse\u001b[0m\u001b[0;34m(\u001b[0m\u001b[0mself\u001b[0m\u001b[0;34m,\u001b[0m \u001b[0mother\u001b[0m\u001b[0;34m)\u001b[0m\u001b[0;34m:\u001b[0m\u001b[0;34m\u001b[0m\u001b[0;34m\u001b[0m\u001b[0m\n",
            "\u001b[0;32m/usr/local/lib/python3.7/dist-packages/scipy/sparse/compressed.py\u001b[0m in \u001b[0;36m_binopt\u001b[0;34m(self, other, op)\u001b[0m\n\u001b[1;32m   1235\u001b[0m            \u001b[0mnp\u001b[0m\u001b[0;34m.\u001b[0m\u001b[0masarray\u001b[0m\u001b[0;34m(\u001b[0m\u001b[0mother\u001b[0m\u001b[0;34m.\u001b[0m\u001b[0mindices\u001b[0m\u001b[0;34m,\u001b[0m \u001b[0mdtype\u001b[0m\u001b[0;34m=\u001b[0m\u001b[0midx_dtype\u001b[0m\u001b[0;34m)\u001b[0m\u001b[0;34m,\u001b[0m\u001b[0;34m\u001b[0m\u001b[0;34m\u001b[0m\u001b[0m\n\u001b[1;32m   1236\u001b[0m            \u001b[0mother\u001b[0m\u001b[0;34m.\u001b[0m\u001b[0mdata\u001b[0m\u001b[0;34m,\u001b[0m\u001b[0;34m\u001b[0m\u001b[0;34m\u001b[0m\u001b[0m\n\u001b[0;32m-> 1237\u001b[0;31m            indptr, indices, data)\n\u001b[0m\u001b[1;32m   1238\u001b[0m \u001b[0;34m\u001b[0m\u001b[0m\n\u001b[1;32m   1239\u001b[0m         \u001b[0mA\u001b[0m \u001b[0;34m=\u001b[0m \u001b[0mself\u001b[0m\u001b[0;34m.\u001b[0m\u001b[0m__class__\u001b[0m\u001b[0;34m(\u001b[0m\u001b[0;34m(\u001b[0m\u001b[0mdata\u001b[0m\u001b[0;34m,\u001b[0m \u001b[0mindices\u001b[0m\u001b[0;34m,\u001b[0m \u001b[0mindptr\u001b[0m\u001b[0;34m)\u001b[0m\u001b[0;34m,\u001b[0m \u001b[0mshape\u001b[0m\u001b[0;34m=\u001b[0m\u001b[0mself\u001b[0m\u001b[0;34m.\u001b[0m\u001b[0mshape\u001b[0m\u001b[0;34m)\u001b[0m\u001b[0;34m\u001b[0m\u001b[0;34m\u001b[0m\u001b[0m\n",
            "\u001b[0;31mKeyboardInterrupt\u001b[0m: "
          ]
        }
      ]
    }
  ]
}