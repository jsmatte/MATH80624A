{
  "nbformat": 4,
  "nbformat_minor": 0,
  "metadata": {
    "colab": {
      "name": "Copy of Jean-Sébastien&Sena-Chapter_2.ipynb",
      "provenance": [],
      "collapsed_sections": []
    },
    "kernelspec": {
      "display_name": "python3",
      "language": "python",
      "name": "python3"
    },
    "language_info": {
      "codemirror_mode": {
        "name": "ipython",
        "version": 3
      },
      "file_extension": ".py",
      "mimetype": "text/x-python",
      "name": "python",
      "nbconvert_exporter": "python",
      "pygments_lexer": "ipython3",
      "version": "3.6.1"
    },
    "accelerator": "GPU"
  },
  "cells": [
    {
      "cell_type": "markdown",
      "metadata": {
        "id": "sIQaVQxoLMdL"
      },
      "source": [
        "PYTHON NOTEBOOK USED TO ANSWER TO EXERCISES OF CHAPTER 2 OF MATH80624 LECTURE NOTES\n",
        "\n",
        "Modified by:\n",
        "1. Chun Peng (Created for RSOME January 2021)\n",
        "2. Erick Delage (January 2021)\n",
        "\n",
        "As discussed in Chapter 2 of the  [lecture notes](http://web.hec.ca/pages/erick.delage/MATH80624_LectureNotes.pdf) of MATH80624 at HEC Montréal. "
      ]
    },
    {
      "cell_type": "markdown",
      "metadata": {
        "id": "Gu4_wkeoLUUI"
      },
      "source": [
        "WARNING!!!\n",
        "\n",
        "The following code exploits a free Mosek licence for the course MATH80624 at HEC Montréal (expiration June 1st 2021). If you have error messages informing you about licencing issues, you may try uncommenting the installation lines for Gurobi. Otherwise, we recommend that you obtain your own licence of either Mosek ([url](https://www.mosek.com/)) or Gurobi ([url](https://www.gurobi.com/))."
      ]
    },
    {
      "cell_type": "markdown",
      "metadata": {
        "id": "32LXIhJfSoau"
      },
      "source": [
        "**Jean-Sébastien Matte**\n",
        "\n",
        "**Sena Onen Oz**"
      ]
    },
    {
      "cell_type": "markdown",
      "metadata": {
        "id": "sZWk3Jp41Wyb"
      },
      "source": [
        "# **Preliminaries**"
      ]
    },
    {
      "cell_type": "code",
      "metadata": {
        "id": "-_Yuh15izxio",
        "colab": {
          "base_uri": "https://localhost:8080/"
        },
        "outputId": "37ef1030-e2a8-40fe-ffc6-a1a3e7d2fe93"
      },
      "source": [
        "!pip install rsome\n",
        "!pip install mosek\n",
        "!rm mosek.lic\n",
        "!git clone https://github.com/erickdelage/80624\n",
        "!cp ./80624/mosek.lic .\n",
        "!rm -r ./80624\n",
        "!mkdir -p /root/mosek\n",
        "!cp ./mosek.lic /root/mosek\n",
        "#!pip install -i https://pypi.gurobi.com gurobipy"
      ],
      "execution_count": null,
      "outputs": [
        {
          "output_type": "stream",
          "text": [
            "Collecting rsome\n",
            "  Downloading https://files.pythonhosted.org/packages/a2/2f/c919d3c0ad264b35bec414681e5da42fe3f39d0adea3ae14552a80e499ee/rsome-0.0.9-py3-none-any.whl\n",
            "Installing collected packages: rsome\n",
            "Successfully installed rsome-0.0.9\n",
            "Collecting mosek\n",
            "\u001b[?25l  Downloading https://files.pythonhosted.org/packages/6a/a9/88dda369717acd08523b07a421fc7145e780e72b07f36727ae63b7025a0d/Mosek-9.2.36-cp36-cp36m-manylinux1_x86_64.whl (10.1MB)\n",
            "\u001b[K     |████████████████████████████████| 10.1MB 1.1MB/s \n",
            "\u001b[?25hRequirement already satisfied: numpy in /usr/local/lib/python3.6/dist-packages (from mosek) (1.19.5)\n",
            "Installing collected packages: mosek\n",
            "Successfully installed mosek-9.2.36\n",
            "rm: cannot remove 'mosek.lic': No such file or directory\n",
            "Cloning into '80624'...\n",
            "remote: Enumerating objects: 12, done.\u001b[K\n",
            "remote: Counting objects: 100% (12/12), done.\u001b[K\n",
            "remote: Compressing objects: 100% (10/10), done.\u001b[K\n",
            "remote: Total 12 (delta 2), reused 11 (delta 1), pack-reused 0\u001b[K\n",
            "Unpacking objects: 100% (12/12), done.\n"
          ],
          "name": "stdout"
        }
      ]
    },
    {
      "cell_type": "code",
      "metadata": {
        "collapsed": true,
        "id": "drnG59cKzi8k"
      },
      "source": [
        "import rsome as rso\n",
        "import numpy as np\n",
        "from rsome import ro\n",
        "from rsome import msk_solver as my_solver  #Import Mosek solver interface\n",
        "#from rsome import grb_solver as my_solver  #Import Gurobi solver interface\n"
      ],
      "execution_count": null,
      "outputs": []
    },
    {
      "cell_type": "markdown",
      "metadata": {
        "id": "S8gdltYr1Wyd"
      },
      "source": [
        "### Load the data\n",
        "\n",
        "For each of the robust counterparts models presented below, derive a tractable linear programming reformulation and implement in RSOME using Python both in its reduced and unreduced form. In your implementations, assume that $n=150$ and that\n",
        "\\begin{align*}\n",
        "&c_i := 0.15+i\\frac{0.05}{150} &&a_i := 0\\,, && A_{ij}:= \\left\\{\\begin{array}{cl} \\frac{0.05}{450}\\sqrt{2in(n+1)} & \\mbox{if i=j}\\\\ 0 & \\mbox{otherwise} \\end{array}\\right.&& b := 0.02\\;.\n",
        "\\end{align*}\n",
        "Also, for exercises 2.1 and 2.3 consider that each $\\bar{z}_i\\in\\mathbb{R}^n$, $i=1,\\dots,150$ is composed as follows:\n",
        "$$ \\bar{z}_i = \\frac{0.05}{450}\\sqrt{2in(n+1)} e_i\\,,$$\n",
        "where each $e_i$ refers to the $i$-th column of the identity matrix, \n",
        "and that $\\Gamma=4$ in exercise 2.2 while $\\alpha= 0.5$ in exercise 2.3.\n",
        "\n",
        "Note that the $\\bar{z}_i$'s are loaded in the matrix form:\n",
        "$$ \\bar{\\textbf{Z}}:=[\\bar{z}_1\\;\\bar{z}_2\\;\\dots\\;\\bar{z}_K].$$"
      ]
    },
    {
      "cell_type": "code",
      "metadata": {
        "collapsed": true,
        "id": "Xf9v4zjm1Wye"
      },
      "source": [
        "n = 150\n",
        "m = n\n",
        "c = 0.15+(0.05/150)*np.arange(1,n+1)\n",
        "a = np.zeros(n) \n",
        "b = 0.02\n",
        "maxDev = (0.05/450)*np.sqrt(2*n*(n+1)*np.arange(1,n+1))\n",
        "\n",
        "#For Convex Hull uncertainty set\n",
        "Zbars = np.diag(maxDev) #[zbar_1 zbar_2 zbar_3 ... zbar_K]\n",
        "K = Zbars.shape[1]\n",
        "\n",
        "#For budgeted uncertainty set\n",
        "Gamma = 4\n",
        "\n",
        "#For CVaR uncertainty set\n",
        "CVaR_alpha = 0.5"
      ],
      "execution_count": null,
      "outputs": []
    },
    {
      "cell_type": "markdown",
      "metadata": {
        "id": "PNuiS7xc7VYQ"
      },
      "source": [
        "# **Exercise 2.1)**\n",
        "\n",
        "We are interested in the convex hull uncertainty set\n",
        "\\begin{align}\n",
        "\\max_{x}\\;\\; & c^T x\\\\\n",
        "\\text{subject to}\\;\\; & (a+z)^Tx \\leq b \\,,\\,\\forall z\\in\\mathcal{Z}\\\\\n",
        "& 0 \\leq x \\leq 1\\;,\n",
        "\\end{align}\n",
        "where\n",
        "$$\\mathcal{Z}:= \\left\\{ z\\in \\mathbb{R}^n\\,\\middle|\\, \\exists \\theta\\in\\mathbb{R}^K,\\, z = \\sum_{i=1}^K \\theta_i \\bar{z}_i,\\, \\theta\\geq 0, \\, \\sum_{i=1}^K \\theta_i = 1\\right\\}$$\n"
      ]
    },
    {
      "cell_type": "code",
      "metadata": {
        "id": "eHo5ie90fak9",
        "colab": {
          "base_uri": "https://localhost:8080/"
        },
        "outputId": "d48aefb4-f662-4e5f-9269-b38a305cc99b"
      },
      "source": [
        "model1_raw = ro.Model('Raw_RobustCounterpart_ConvexHull')  \n",
        "\n",
        "# Define decision variable(s)\n",
        "x1_raw = model1_raw.dvar(n)\n",
        "\n",
        "# Define uncertain variable\n",
        "z1_raw = model1_raw.rvar(n)\n",
        "t1_raw = model1_raw.rvar(K)\n",
        "\n",
        "# Define uncertainty set\n",
        "Z1_raw = (z1_raw == (Zbars @ t1_raw), t1_raw >= 0, sum(t1_raw) == 1) \n",
        "\n",
        "# Objective function\n",
        "model1_raw.max(c @ x1_raw)\n",
        "\n",
        "# Constraints\n",
        "model1_raw.st(((a + z1_raw) @ x1_raw <= b).forall(Z1_raw))\n",
        "model1_raw.st(x1_raw >= 0)\n",
        "model1_raw.st(x1_raw <= 1)\n",
        "\n",
        "# Solve mdoel\n",
        "model1_raw.solve(my_solver)\n",
        "\n",
        "print('The objective of Raw Robust Counterpart is {0:0.4f}'.format(model1_raw.get()))"
      ],
      "execution_count": null,
      "outputs": [
        {
          "output_type": "stream",
          "text": [
            "Being solved by Mosek...\n",
            "Solution status: optimal\n",
            "Running time: 0.0200s\n",
            "The objective of Raw Robust Counterpart is 3.2742\n"
          ],
          "name": "stdout"
        }
      ]
    },
    {
      "cell_type": "markdown",
      "metadata": {
        "id": "wGAGvR6RbYl9"
      },
      "source": [
        "We reformulate the above problem into a reduced tractable linear reformulation as follows:\n",
        "\n",
        "First rewrite the uncertainty set as \n",
        "\\begin{equation*}\n",
        "  \\mathcal{Z}_{1} := \\left\\{ z = \\sum_{i = 1}^{K} \\theta_{i} \\bar{z}_{i} \\in \\mathbb{R}^n \\middle|\\, \\theta \\geq 0, \\sum_{i = 1}^{K} \\theta_{i} = 1 \\right\\}\n",
        "\\end{equation*}\n",
        "\n",
        "which we rewrite in the familiar form of $Wz \\leq v$ giving\n",
        "\\begin{equation*}\n",
        "  \\mathcal{Z}_{1} := \\left\\{ \\sum_{i = 1}^{K} \\theta_{i} \\bar{z}_{i} \\in \\mathbb{R}^n \\middle|\\, \\begin{bmatrix} -I \\in \\mathbb{R}^{KxK} \\\\ 1^{T} \\\\ -1^{T} \\end{bmatrix} \\begin{bmatrix} \\theta \\end{bmatrix} \\leq \\begin{bmatrix} 0 \\\\ 1 \\\\ -1 \\end{bmatrix} \\right\\}\n",
        "\\end{equation*}\n",
        "where $0$ is a K-vector of zeros, and $1^{T}$ is an K-vector of ones. Note that we replaced the equality constraint \n",
        "\\begin{equation*}\n",
        "  \\sum_{i = 1}^{K} \\theta_{i} = 1 \n",
        "\\end{equation*}\n",
        "by \n",
        "\\begin{align}\n",
        "  \\sum_{i = 1}^{K} \\theta_{i} \\leq 1, \\sum_{i = 1}^{K} \\theta_{i} \\geq 1\n",
        "\\end{align}\n",
        "\n",
        "We can then rewrite the first constraint of the main program such that \n",
        "\\begin{equation*}\n",
        "  z^{T} x \\leq b - a^{T}x \\Leftrightarrow \\left( \\sum_{i = 1}^{K} \\theta_{i} \\bar{z}_{i} \\right)^{T} x \\leq b - a^{T}x\n",
        "\\end{equation*}\n",
        "\n",
        "Our robustness linear problem on the uncertain variable $z$ can be written as\n",
        "\\begin{align}\n",
        "\\max_{\\theta}\\;\\; & \\left( \\sum_{i = 1}^{K} \\theta_{i} \\bar{z}_{i} \\right)^T x\\\\\n",
        "\\text{s. t.}\\;\\; & \\begin{bmatrix} -I \\\\ 1^T \\\\ -1^T \\end{bmatrix} \\begin{bmatrix} \\theta \\end{bmatrix} \\leq \\begin{bmatrix} 0 \\\\ 1 \\\\ -1 \\end{bmatrix} \\;\n",
        "\\end{align}\n",
        "\n",
        "with dual problem\n",
        "\\begin{align}\n",
        "\\min_{\\lambda}\\;\\; & \\begin{bmatrix} 0 & 1 & -1 \\end{bmatrix} \\begin{bmatrix} \\lambda \\end{bmatrix}\\\\\n",
        "\\text{s. t.}\\;\\; & - \\lambda_{i} + \\lambda_{K+1} - \\lambda_{K+2} = \\bar{z}_{i}^T x, \\forall i = 1, ..., K \\\\\n",
        "& \\lambda \\geq 0 \\\\\n",
        "\\end{align}\n",
        "where $\\lambda \\in \\mathbb{R}^{K+2}$\n",
        "\n",
        "Thus, our reduced reformulation can be written as\n",
        "\\begin{align}\n",
        "\\max_{x, \\lambda}\\;\\; & c^T x\\\\\n",
        "\\text{s. t.}\\;\\; & \\lambda_{K+1} - \\lambda_{K+2} \\leq b - a^T x \\\\\n",
        "& - \\lambda_{i} + \\lambda_{K+1} - \\lambda_{K+2} = \\bar{z}_{i}^T x, \\forall i = 1, ..., K \\\\\n",
        "& \\lambda \\geq 0 \\\\\n",
        "& 0 \\leq x \\leq 1 \\\\\n",
        "\\end{align}\n",
        "\n",
        "After reformulation, we obtain:"
      ]
    },
    {
      "cell_type": "code",
      "metadata": {
        "id": "HDWtQJB87X1v",
        "colab": {
          "base_uri": "https://localhost:8080/"
        },
        "outputId": "04d6b40b-a716-47fe-ed35-7df6632c4de9"
      },
      "source": [
        "model1_red = ro.Model('Reduced_RobustCounterpart_ConvexHull')\n",
        "\n",
        "# Define decision variable(s)\n",
        "x1_red = model1_red.dvar(n)\n",
        "lambda1_red = model1_red.dvar(K+2)\n",
        "\n",
        "# Objective function\n",
        "model1_red.max(c @ x1_red)\n",
        "\n",
        "# Constraints\n",
        "v = np.append(np.zeros(K), [1, -1])\n",
        "WT = np.hstack(((-1)*np.eye(K,K), np.ones((K,1)), (-1)*np.ones((K,1))))\n",
        "model1_red.st(v @ lambda1_red <= b - a @ x1_red)\n",
        "model1_red.st(WT @ lambda1_red == Zbars.T @ x1_red)\n",
        "model1_red.st(lambda1_red >= 0)\n",
        "model1_red.st(x1_red >= 0)\n",
        "model1_red.st(x1_red <= 1)\n",
        "\n",
        "# Solve mdoel\n",
        "model1_red.solve(my_solver)\n",
        "\n",
        "print('The objective of Reduced Robust Counterpart is {0:0.4f}'.format(model1_red.get()))"
      ],
      "execution_count": null,
      "outputs": [
        {
          "output_type": "stream",
          "text": [
            "Being solved by Mosek...\n",
            "Solution status: optimal\n",
            "Running time: 0.0199s\n",
            "The objective of Reduced Robust Counterpart is 3.2742\n"
          ],
          "name": "stdout"
        }
      ]
    },
    {
      "cell_type": "markdown",
      "metadata": {
        "id": "DWrjr7Vg8oDR"
      },
      "source": [
        "# **Exercise 2.2)**\n",
        "\n",
        "We are interested in the budgeted uncertainty set\n",
        "\\begin{align}\n",
        "\\max_{x}\\;\\; & c^T x\\\\\n",
        "\\text{subject to}\\;\\; & (a+z)^Tx \\leq b \\,,\\,\\forall z\\in\\mathcal{Z}\\\\\n",
        "& 0 \\leq x \\leq 1\\;,\n",
        "\\end{align}\n",
        "where\n",
        "$$\\mathcal{Z}:= \\left\\{ z\\in \\mathbb{R}^m\\,\\middle|\\, -1 \\leq z \\leq 1,\\, \\sum_i |z_i| \\leq \\Gamma\\right\\}$$"
      ]
    },
    {
      "cell_type": "code",
      "metadata": {
        "id": "hyYeOF1N53np",
        "colab": {
          "base_uri": "https://localhost:8080/"
        },
        "outputId": "00c70c0f-1297-4ff2-b89c-17037170fb5f"
      },
      "source": [
        "model2_raw = ro.Model('Raw_RobustCounterpart_Budgeted') \n",
        "\n",
        "x=model2_raw.dvar(m) \n",
        "\n",
        "#Create uncertain vector\n",
        "z= model2_raw.rvar(m) \n",
        "#Create uncertainty set\n",
        "Z2_raw = (z<=1, z>=-1,  #each parameter is between [-1, 1] \n",
        "                  rso.norm(z,1)<=Gamma);   # Budget of uncertainty approach\n",
        "\n",
        "model2_raw.max(c@x)\n",
        "#Robustify the constraint\n",
        "model2_raw.st(((a+z)@x<=b).forall(Z2_raw))\n",
        "model2_raw.st(x>=0)\n",
        "model2_raw.st(x<=1)\n",
        "model2_raw.solve(my_solver)\n",
        "\n",
        "optobj_raw = model2_raw.get() \n",
        "xx_raw   = x.get()\n",
        "\n",
        "print('The objective of Raw Robust Counterpart is {0:0.4f}'.format(model2_raw.get()))\n"
      ],
      "execution_count": null,
      "outputs": [
        {
          "output_type": "stream",
          "text": [
            "Being solved by Mosek...\n",
            "Solution status: optimal\n",
            "Running time: 0.0357s\n",
            "The objective of Raw Robust Counterpart is 0.1314\n"
          ],
          "name": "stdout"
        }
      ]
    },
    {
      "cell_type": "markdown",
      "metadata": {
        "id": "YJ6QLIDno79Q"
      },
      "source": [
        "We reformulate the above problem into a reduced tractable linear reformulation as follows:\n",
        "\n",
        "First rewrite the uncertainty set as given in below to be able to use the equivalence idea that we discussed in class\n",
        "\\begin{equation*}\n",
        " \\mathcal{Z}:= \\left\\{ z\\in \\mathbb{R}^m\\,\\middle|\\, \\exists \\Delta^+\\ge 0, \\exists \\Delta^-\\ge 0,z= \\Delta^+- \\Delta^-,   \\Delta^++ \\Delta^- \\leq 1,\\, \\sum_i  (\\Delta_i^++ \\Delta_i^-) \\leq \\Gamma\\right\\}\n",
        " \\end{equation*}\n",
        " \\begin{equation*}\n",
        " \\mathcal{Z}:= \\left\\{ \\begin{bmatrix} \\Delta^+ \\in \\mathbb{R}^{m} \\\\\\Delta^-\\in \\mathbb{R}^{m} \\end{bmatrix}  \\middle|\\, \\begin{bmatrix} -I & 0 \\\\ 0 & -I \\\\ I & I \\\\ 1 & 1 \\end{bmatrix}\\begin{bmatrix} \\Delta^+ \\\\\\Delta^- \\end{bmatrix} \\leq \\begin{bmatrix} 0 \\\\0 \\\\1 \\\\ \\Gamma \\end{bmatrix} \\right\\}\n",
        "\\end{equation*}\n",
        "\n",
        "\n",
        "We can then rewrite the first constraint of the main program such that \n",
        "\\begin{equation*}\n",
        "  z^{T} x \\leq b - a^{T}x \\Leftrightarrow \\left( \\Delta^+- \\Delta^- \\right)^{T} x \\leq b - a^{T}x\n",
        "\\end{equation*}\n",
        "\n",
        "Our robustness linear problem on the uncertain variable $z$ can be written as\n",
        "\\begin{align}\n",
        "\\max_{\\Delta^+,\\Delta^-}\\;\\; & \\begin{bmatrix} \\Delta^+ \\\\\\Delta^- \\end{bmatrix}^T \\begin{bmatrix} x \\\\ -x \\end{bmatrix}\\\\\n",
        "\\text{s. t.}\\;\\; & \\begin{bmatrix} -I & 0 \\\\ 0 & -I \\\\ I & I \\\\ 1 & 1 \\end{bmatrix}\\begin{bmatrix} \\Delta^+ \\\\\\Delta^- \\end{bmatrix} \\leq \\begin{bmatrix} 0 \\\\0 \\\\1 \\\\ \\Gamma \\end{bmatrix} \\;\n",
        "\\end{align}\n",
        "\n",
        "with dual problem\n",
        "\\begin{align}\n",
        "\\min_{\\alpha^+,\\alpha^-,\\gamma,\\lambda}\\;\\; & \\begin{bmatrix} 0 & 0 & 1 & \\Gamma \\end{bmatrix} \\begin{bmatrix} \\alpha^+ \\\\ \\alpha^-\\\\ \\gamma\\\\ \\lambda\\end{bmatrix}\\\\\n",
        "\\text{s. t.}\\;\\; & \\begin{bmatrix} -I & 0 & I &1 \\\\ 0 & -I & I &1 \\end{bmatrix}\\begin{bmatrix} \\alpha^+ \\\\ \\alpha^-\\\\ \\gamma\\\\ \\lambda\\end{bmatrix}=\\begin{bmatrix} x \\\\ -x \\end{bmatrix}\\\\\n",
        "& \\begin{bmatrix} \\alpha^+ & \\alpha^- & \\gamma & \\lambda \\end{bmatrix}^T \\geq 0 \n",
        "\\end{align}\n",
        "where $\\alpha^+,\\alpha^-,\\gamma \\in \\mathbb{R}^{m}$.\n",
        "\n",
        "Thus, our reduced reformulation can be written as\n",
        "\\begin{align}\n",
        "\\max_{x, \\gamma, \\lambda}\\;\\; & c^T x\\\\\n",
        "\\text{s. t.}\\;\\; & \\sum_{i = 1}^{m} \\gamma_{i} + \\lambda \\Gamma \\leq b - a^T x \\\\\n",
        "& x_{i} \\geq - \\gamma_{i} - \\lambda, \\forall i = 1, ..., m \\\\\n",
        "& x_{i} \\leq \\gamma_{i} + \\lambda, \\forall i = 1, ..., m \\\\\n",
        "& 0 \\leq x \\leq 1 \\\\\n",
        "& \\gamma, \\lambda \\geq 0 \n",
        "\\end{align}\n"
      ]
    },
    {
      "cell_type": "code",
      "metadata": {
        "id": "Tclvz6kL9b3Y",
        "colab": {
          "base_uri": "https://localhost:8080/"
        },
        "outputId": "df29eda8-fa9c-480e-c7f5-b4f15a3bf52f"
      },
      "source": [
        "model2_red = ro.Model('Reduced_RobustCounterpart_Budgeted')   \n",
        "\n",
        "# Define decision variable(s)\n",
        "x2_red = model2_red.dvar(n)\n",
        "gamma2_red = model2_red.dvar(n)\n",
        "lambda2_red = model2_red.dvar(1)\n",
        "\n",
        "# Objective function\n",
        "model2_red.max(c @ x2_red)\n",
        "\n",
        "# Constraints\n",
        "model2_red.st(sum(gamma2_red) + (lambda2_red * Gamma) <= (b - (a @ x2_red)))\n",
        "model2_red.st(x2_red <= (gamma2_red + (lambda2_red * np.ones((n,1)))))\n",
        "model2_red.st(x2_red >= ((-1) * gamma2_red - (lambda2_red * np.ones((n,1)))))\n",
        "model2_red.st(x2_red >= 0)\n",
        "model2_red.st(x2_red <= 1)\n",
        "model2_red.st(gamma2_red >= 0)\n",
        "model2_red.st(lambda2_red >= 0)\n",
        "\n",
        "# Solve model\n",
        "model2_red.solve(my_solver)\n",
        "\n",
        "print('The objective of Reduced Robust Counterpart is {0:0.4f}'.format(model2_red.get()))\n"
      ],
      "execution_count": null,
      "outputs": [
        {
          "output_type": "stream",
          "text": [
            "Being solved by Mosek...\n",
            "Solution status: optimal\n",
            "Running time: 0.0593s\n",
            "The objective of Reduced Robust Counterpart is 0.1314\n"
          ],
          "name": "stdout"
        }
      ]
    },
    {
      "cell_type": "markdown",
      "metadata": {
        "id": "1_WV-TXA9ksK"
      },
      "source": [
        "# **Exercise 2.3)**\n",
        "\n",
        "We are interested in the CVaR uncertainty set\n",
        "\\begin{align}\n",
        "\\max_{x}\\;\\; & c^T x\\\\\n",
        "\\text{subject to}\\;\\; & (a+z)^Tx \\leq b \\,,\\,\\forall z\\in\\mathcal{Z}\\\\\n",
        "& 0 \\leq x \\leq 1\\;,\n",
        "\\end{align}\n",
        "where\n",
        "$$\\mathcal{Z}:= \\left\\{ z\\in \\mathbb{R}^n\\,\\middle|\\, \\exists \\theta\\in\\mathbb{R}^K,\\, z = \\sum_{i=1}^K \\theta_i \\bar{z}_i,\\, \\theta\\geq 0, \\, \\sum_{i=1}^K \\theta_i = 1,\\, \\theta\\leq \\frac{1}{K\\alpha}\\right\\}$$\n"
      ]
    },
    {
      "cell_type": "code",
      "metadata": {
        "id": "4Md7M0jV9h4x",
        "colab": {
          "base_uri": "https://localhost:8080/"
        },
        "outputId": "46d700b3-3a1d-43eb-fa4e-b75e11a18f72"
      },
      "source": [
        "model3_raw = ro.Model('Raw_RobustCounterpart_CVaR')  \n",
        "\n",
        "# Define decision variable(s)\n",
        "x3_raw = model3_raw.dvar(n)\n",
        "\n",
        "# Define uncertain variable\n",
        "z3_raw = model3_raw.rvar(n)\n",
        "t3_raw = model3_raw.rvar(K)\n",
        "\n",
        "# Define uncertainty set\n",
        "Z3_raw = (z3_raw == (Zbars @t3_raw), t3_raw >= 0, sum(t3_raw) == 1, t3_raw <= (1/(K*CVaR_alpha))) \n",
        "\n",
        "# Objective function\n",
        "model3_raw.max(c @ x3_raw)\n",
        "\n",
        "# Constraints\n",
        "model3_raw.st(((a + z3_raw) @ x3_raw <= b).forall(Z3_raw))\n",
        "model3_raw.st(x3_raw >= 0)\n",
        "model3_raw.st(x3_raw <= 1)\n",
        "\n",
        "# Solve mdoel\n",
        "model3_raw.solve(my_solver)\n",
        "\n",
        "print('The objective of Raw Robust Counterpart is {0:0.4f}'.format(model3_raw.get()))"
      ],
      "execution_count": null,
      "outputs": [
        {
          "output_type": "stream",
          "text": [
            "Being solved by Mosek...\n",
            "Solution status: optimal\n",
            "Running time: 0.0329s\n",
            "The objective of Raw Robust Counterpart is 3.4787\n"
          ],
          "name": "stdout"
        }
      ]
    },
    {
      "cell_type": "markdown",
      "metadata": {
        "id": "H2CNrktq9nVP"
      },
      "source": [
        "We reformulate the above problem into a reduced tractable linear reformulation as follows:\n",
        "\n",
        "First rewrite the uncertainty set as \n",
        "\\begin{equation*}\n",
        "  \\mathcal{Z}_{1} := \\left\\{ z = \\sum_{i = 1}^{K} \\theta_{i} \\bar{z}_{i} \\in \\mathbb{R}^n \\middle|\\, \\theta \\geq 0, \\sum_{i = 1}^{K} \\theta_{i} = 1, \\theta\\leq \\frac{1}{K\\alpha} \\right\\}\n",
        "\\end{equation*}\n",
        "\n",
        "which we rewrite in the familiar form of $Wz \\leq v$ giving\n",
        "\\begin{equation*}\n",
        "  \\mathcal{Z}_{1} := \\left\\{ \\sum_{i = 1}^{K} \\theta_{i} \\bar{z}_{i} \\in \\mathbb{R}^n \\middle|\\, \\begin{bmatrix} -I \\in \\mathbb{R}^{KxK} \\\\ 1^{T} \\\\ -1^{T} \\\\I \\in \\mathbb{R}^{KxK} \\end{bmatrix} \\begin{bmatrix} \\theta \\end{bmatrix} \\leq \\begin{bmatrix} 0 \\\\ 1 \\\\ -1 \\\\ (\\frac{1}{K\\alpha}) 1 \\end{bmatrix} \\right\\}\n",
        "\\end{equation*}\n",
        "where $0$ is a K-vector of zeros, $1^{T}$ is an K-vector of ones, and $(\\frac{1}{K\\alpha}) 1$ is also a K-vector with value $\\frac{1}{K\\alpha}$ for each of its entries. Note that we replaced the equality constraint \n",
        "\\begin{equation*}\n",
        "  \\sum_{i = 1}^{K} \\theta_{i} = 1 \n",
        "\\end{equation*}\n",
        "by \n",
        "\\begin{align}\n",
        "  \\sum_{i = 1}^{K} \\theta_{i} \\leq 1, \\sum_{i = 1}^{K} \\theta_{i} \\geq 1\n",
        "\\end{align}\n",
        "\n",
        "We can then rewrite the first constraint of the main program such that \n",
        "\\begin{equation*}\n",
        "  z^{T} x \\leq b - a^{T}x \\Leftrightarrow \\left( \\sum_{i = 1}^{K} \\theta_{i} \\bar{z}_{i} \\right)^{T} x \\leq b - a^{T}x\n",
        "\\end{equation*}\n",
        "\n",
        "Our robustness linear problem on the uncertain variable $z$ can be written as\n",
        "\\begin{align}\n",
        "\\max_{\\theta}\\;\\; & \\left( \\sum_{i = 1}^{K} \\theta_{i} \\bar{z}_{i} \\right)^T x\\\\\n",
        "\\text{s. t.}\\;\\; & \\begin{bmatrix} -I \\\\ 1^T \\\\ -1^T \\\\ I\\end{bmatrix} \\begin{bmatrix} \\theta \\end{bmatrix} \\leq \\begin{bmatrix} 0 \\\\ 1 \\\\ -1 \\\\ (\\frac{1}{K\\alpha}) 1 \\end{bmatrix} \\;\n",
        "\\end{align}\n",
        "\n",
        "with dual problem\n",
        "\\begin{align}\n",
        "\\min_{\\lambda}\\;\\; & \\begin{bmatrix} 0 & 1 & -1 & (\\frac{1}{K\\alpha}) 1 \\end{bmatrix} \\begin{bmatrix} \\lambda \\end{bmatrix}\\\\\n",
        "\\text{s. t.}\\;\\; & - \\lambda_{i} + \\lambda_{K+1} - \\lambda_{K+2} + \\lambda_{K+2+i}= \\bar{z}_{i}^T x, \\forall i = 1, ..., K \\\\\n",
        "& \\lambda \\geq 0 \\\\\n",
        "\\end{align}\n",
        "where $\\lambda \\in \\mathbb{R}^{2K+2}$\n",
        "\n",
        "Thus, our reduced reformulation can be written as\n",
        "\\begin{align}\n",
        "\\max_{x, \\lambda}\\;\\; & c^T x\\\\\n",
        "\\text{s. t.}\\;\\; & \\lambda_{K+1} - \\lambda_{K+2} +\\frac{1}{K\\alpha} \\sum_{i = 1}^{K}\\lambda_{K+2+i} \\leq b - a^T x \\\\\n",
        "& - \\lambda_{i} + \\lambda_{K+1} - \\lambda_{K+2} + \\lambda_{K+2+i}= \\bar{z}_{i}^T x, \\forall i = 1, ..., K \\\\\n",
        "& \\lambda \\geq 0 \\\\\n",
        "& 0 \\leq x \\leq 1 \\\\\n",
        "\\end{align}\n",
        "\n",
        "After reformulation, we obtain:\n"
      ]
    },
    {
      "cell_type": "code",
      "metadata": {
        "id": "p7_ZV7UO9nsg",
        "colab": {
          "base_uri": "https://localhost:8080/"
        },
        "outputId": "acd6c2f1-ef1e-4acc-ca8b-237339bab0aa"
      },
      "source": [
        "model3_red = ro.Model('Reduced_RobustCounterpart_CVaR')\n",
        "\n",
        "# Define decision variable(s)\n",
        "x3_red = model3_red.dvar(n)\n",
        "lambda3_red = model3_red.dvar(2*K+2)\n",
        "\n",
        "# Objective function\n",
        "model3_red.max(c @ x3_red)\n",
        "\n",
        "# Constraints\n",
        "v = np.append(np.zeros(K), [1, -1])\n",
        "for k in range(K):\n",
        "  v=np.append(v,1/(K*CVaR_alpha))\n",
        "\n",
        "WT = np.hstack(((-1)*np.eye(K,K), np.ones((K,1)), (-1)*np.ones((K,1)),np.eye(K,K)))\n",
        "model3_red.st(v @ lambda3_red <= b - a @ x3_red)\n",
        "model3_red.st(WT @ lambda3_red == Zbars.T @ x3_red)\n",
        "model3_red.st(lambda3_red >= 0)\n",
        "model3_red.st(x3_red >= 0)\n",
        "model3_red.st(x3_red <= 1)\n",
        "\n",
        "# Solve mdoel\n",
        "model3_red.solve(my_solver)\n",
        "\n",
        "print('The objective of Reduced Robust Counterpart is {0:0.4f}'.format(model3_red.get()))"
      ],
      "execution_count": null,
      "outputs": [
        {
          "output_type": "stream",
          "text": [
            "Being solved by Mosek...\n",
            "Solution status: optimal\n",
            "Running time: 0.0314s\n",
            "The objective of Reduced Robust Counterpart is 3.4787\n"
          ],
          "name": "stdout"
        }
      ]
    },
    {
      "cell_type": "code",
      "metadata": {
        "id": "TWaOz0pVH6Nq"
      },
      "source": [],
      "execution_count": null,
      "outputs": []
    }
  ]
}