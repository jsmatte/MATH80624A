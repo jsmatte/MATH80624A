{
  "nbformat": 4,
  "nbformat_minor": 0,
  "metadata": {
    "colab": {
      "name": "Copy of Jean-Sébastien&Sena_Chapter_3.ipynb",
      "provenance": [],
      "collapsed_sections": []
    },
    "kernelspec": {
      "display_name": "python3",
      "language": "python",
      "name": "python3"
    },
    "language_info": {
      "codemirror_mode": {
        "name": "ipython",
        "version": 3
      },
      "file_extension": ".py",
      "mimetype": "text/x-python",
      "name": "python",
      "nbconvert_exporter": "python",
      "pygments_lexer": "ipython3",
      "version": "3.6.1"
    }
  },
  "cells": [
    {
      "cell_type": "markdown",
      "metadata": {
        "id": "AuL4_YPQMlKy"
      },
      "source": [
        "PYTHON NOTEBOOK USED TO ANSWER TO EXERCISES OF CHAPTER 3 OF MATH80624 LECTURE NOTES\n",
        "\n",
        "Modified by:\n",
        "1. Chun Peng (Created for RSOME January 2021)\n",
        "2. Erick Delage (January 2021)\n",
        "\n",
        "As discussed in Chapter 3 of the  [lecture notes](http://web.hec.ca/pages/erick.delage/MATH80624_LectureNotes.pdf) of MATH80624 at HEC Montréal. "
      ]
    },
    {
      "cell_type": "markdown",
      "metadata": {
        "id": "RhY4qxmDMmBU"
      },
      "source": [
        "WARNING!!!\n",
        "\n",
        "The following code exploits a free Mosek licence for the course MATH80624 at HEC Montréal (expiration June 1st 2021). If you have error messages informing you about licencing issues, you may try uncommenting the installation lines for Gurobi. Otherwise, we recommend that you obtain your own licence of either Mosek ([url](https://www.mosek.com/)) or Gurobi ([url](https://www.gurobi.com/))."
      ]
    },
    {
      "cell_type": "markdown",
      "metadata": {
        "id": "32LXIhJfSoau"
      },
      "source": [
        "**Jean-Sébastien Matte**\n",
        "\n",
        "**Sena Onen Oz**"
      ]
    },
    {
      "cell_type": "markdown",
      "metadata": {
        "id": "sZWk3Jp41Wyb"
      },
      "source": [
        "# **Preliminaries**"
      ]
    },
    {
      "cell_type": "code",
      "metadata": {
        "collapsed": true,
        "id": "-_Yuh15izxio",
        "colab": {
          "base_uri": "https://localhost:8080/"
        },
        "outputId": "002f761c-e358-41ba-f834-043597080f9a"
      },
      "source": [
        "!pip install rsome\n",
        "!pip install mosek\n",
        "!rm mosek.lic\n",
        "!git clone https://github.com/erickdelage/80624\n",
        "!cp ./80624/mosek.lic .\n",
        "!cp ./80624/stockData.mat .\n",
        "!rm -r ./80624\n",
        "!mkdir -p /root/mosek\n",
        "!cp ./mosek.lic /root/mosek\n",
        "#!pip install -i https://pypi.gurobi.com gurobipy"
      ],
      "execution_count": null,
      "outputs": [
        {
          "output_type": "stream",
          "text": [
            "Collecting rsome\n",
            "  Downloading https://files.pythonhosted.org/packages/a2/2f/c919d3c0ad264b35bec414681e5da42fe3f39d0adea3ae14552a80e499ee/rsome-0.0.9-py3-none-any.whl\n",
            "Installing collected packages: rsome\n",
            "Successfully installed rsome-0.0.9\n",
            "Collecting mosek\n",
            "\u001b[?25l  Downloading https://files.pythonhosted.org/packages/ad/c9/6c774db4ec445e9347a01f1776b14cb1b9ee78a1a3a9cbdb8eeb95646ae9/Mosek-9.2.37-cp36-cp36m-manylinux1_x86_64.whl (10.1MB)\n",
            "\u001b[K     |████████████████████████████████| 10.1MB 5.2MB/s \n",
            "\u001b[?25hRequirement already satisfied: numpy in /usr/local/lib/python3.6/dist-packages (from mosek) (1.19.5)\n",
            "Installing collected packages: mosek\n",
            "Successfully installed mosek-9.2.37\n",
            "rm: cannot remove 'mosek.lic': No such file or directory\n",
            "Cloning into '80624'...\n",
            "remote: Enumerating objects: 12, done.\u001b[K\n",
            "remote: Counting objects: 100% (12/12), done.\u001b[K\n",
            "remote: Compressing objects: 100% (10/10), done.\u001b[K\n",
            "remote: Total 12 (delta 2), reused 11 (delta 1), pack-reused 0\u001b[K\n",
            "Unpacking objects: 100% (12/12), done.\n"
          ],
          "name": "stdout"
        }
      ]
    },
    {
      "cell_type": "code",
      "metadata": {
        "collapsed": true,
        "id": "drnG59cKzi8k"
      },
      "source": [
        "import rsome as rso\n",
        "import numpy as np\n",
        "from rsome import ro\n",
        "from rsome import msk_solver as my_solver  #Import Mosek solver interface\n",
        "#from rsome import grb_solver as my_solver  #Import Gurobi solver interface\n",
        "from scipy.io import loadmat         # load the mat file"
      ],
      "execution_count": null,
      "outputs": []
    },
    {
      "cell_type": "markdown",
      "metadata": {
        "id": "S8gdltYr1Wyd"
      },
      "source": [
        "### Load the data"
      ]
    },
    {
      "cell_type": "code",
      "metadata": {
        "collapsed": true,
        "id": "Xf9v4zjm1Wye"
      },
      "source": [
        "x = loadmat('stockData.mat')  # load the mat file\n",
        "Rs=x['stockData'][0][0]['returns'] #Rs contains the data used for calibration (2000-2009)\n",
        "RsTest=x['stockDataTest'][0][0]['returns'] #Rs contains the data used for calibration (2010-2014)\n",
        "(nStocks,nMonths)=Rs.shape"
      ],
      "execution_count": null,
      "outputs": []
    },
    {
      "cell_type": "markdown",
      "metadata": {
        "id": "YChu3kSH1Wyf"
      },
      "source": [
        "### Define Value-at-Risk level"
      ]
    },
    {
      "cell_type": "code",
      "metadata": {
        "collapsed": true,
        "id": "-MuYLOej1Wyh"
      },
      "source": [
        "VaRProb = 0.95 \n",
        "VaReps = 1-VaRProb"
      ],
      "execution_count": null,
      "outputs": []
    },
    {
      "cell_type": "markdown",
      "metadata": {
        "id": "DQjg9djL1Wyi"
      },
      "source": [
        "### Manipulate the calibration data to reach the form $ r = \\mu+P Z\\;.$\n",
        "\n",
        "In this exercise, we reformulate the source of uncertainty in terms of a vector of uncertain z's that lie in the $[-1, 1]^m$ box."
      ]
    },
    {
      "cell_type": "code",
      "metadata": {
        "id": "KN1WD7SS1Wyj"
      },
      "source": [
        "mu=np.mean(Rs, axis=1)\n",
        "tmp = Rs - mu.reshape(-1,1)@np.ones((1,nMonths))\n",
        "tmp_max = abs(tmp).max(1)\n",
        "Zs = np.diag(1/tmp_max)@tmp\n",
        "P = np.diag(tmp_max)"
      ],
      "execution_count": null,
      "outputs": []
    },
    {
      "cell_type": "markdown",
      "metadata": {
        "id": "kbtqfzHh1Wyj"
      },
      "source": [
        "### Define a few useful functions"
      ]
    },
    {
      "cell_type": "markdown",
      "metadata": {
        "id": "gkUlIm981Wyl"
      },
      "source": [
        "The \"getWCdist\" function returns a distribution that spreads the weight on all extreme points of the box support [-1, 1]^m"
      ]
    },
    {
      "cell_type": "code",
      "metadata": {
        "id": "Y7pBEVfRcMcp"
      },
      "source": [
        "def getWCdist(m):\n",
        "    # Returns a uniform distribution over the extreme points of [-1, 1]^m\n",
        "    # When calling [vals,ps] = getWCdist(m)\n",
        "    #    m: size of the random vector\n",
        "    #    vals : m x N matrixarray of values that the distribution takes\n",
        "    #    ps : array of probability associated to each value\n",
        "\n",
        "    if (m==1):\n",
        "        vals=np.array([-1, 1]).reshape(1,2)\n",
        "        ps = np.array([0.5, 0.5])\n",
        "    else:\n",
        "        (vals0,ps0)=getWCdist(m-1)\n",
        "        n=np.size(vals0,axis=1)\n",
        "        v=np.concatenate((-1*np.ones(n), np.ones(n)))\n",
        "        val=np.concatenate((vals0,vals0),axis=1)\n",
        "        vals=np.concatenate(([v],val),axis=0)   \n",
        "        ps = np.concatenate((0.5*ps0, 0.5*ps0))\n",
        "    return (vals, ps)\n",
        "\n",
        "#getWCdist allows us to create a set of worst-case scenarios for returns\n",
        "tmp=P@getWCdist(nStocks)[0]\n",
        "WCRETURNS = mu.reshape(-1,1)@np.ones((1,tmp.shape[1]))+tmp\n",
        "\n",
        "def testPolicyVaR(x,returns,VaReps):\n",
        "    tmp = sorted(x@returns)\n",
        "    VaR=-tmp[int(np.floor(VaReps*returns.shape[1]))]\n",
        "    return VaR\n"
      ],
      "execution_count": null,
      "outputs": []
    },
    {
      "cell_type": "markdown",
      "metadata": {
        "id": "XmGYsZ_Af-bD"
      },
      "source": [
        "# **Exercise 3.1) Calibration of uncertainty sets using data**\n",
        "\n",
        "For each of the three uncertainty sets below, calibrate the size parameter in order for $\\mathcal{Z}$ to include 95\\% of the observed realization:\n",
        "\n",
        "Budgeted uncertainty set, i.e. $\\mathcal{Z}:= \\{z\\in\\mathbb{R}^m\\,|\\,z_i\\in[-1,\\,1],, \\|z\\|_1 \\leq \\Gamma\\}$\n",
        "\n",
        "Boxed ellipsoidal set, i.e. $\\mathcal{Z}:= \\{z\\in\\mathbb{R}^m\\,|\\,z_i\\in[-1,\\,1],, \\|z\\|_2 \\leq \\gamma\\}$\n",
        "\n",
        "CVaR uncertainty set, i.e. \n",
        "$$\\mathcal{Z}:= \\left\\{ z\\in \\mathbb{R}^m\\,\\middle|\\, \\exists \\theta\\in\\mathbb{R}^K,\\, z = \\sum_{i=1}^K \\theta_i \\bar{z}_i,\\, \\theta\\geq 0, \\, \\sum_{i=1}^K \\theta_i = 1,\\, \\theta\\leq \\frac{1}{K\\alpha}\\right\\}.$$\n",
        "\n",
        "Note that we already provide below the calibration scheme for the ellipsoidal set, hence you are only asked to calibrate the budgeted and CVaR sets. \n",
        "\n",
        "Note finally that when using the CVaR uncertainty set, you can consider the $\\alpha$ to be the size parameter and simply let the $\\bar{z}_i$ to be the set of all observed realizations. Also, if one wishes to find the largest $\\alpha$ such that $z\\in\\mathcal{Z}$, then he simply needs to solve the following linear program:\n",
        "\\begin{eqnarray*}\n",
        "\\min_{\\theta,\\gamma}\\;&& \\gamma\\\\\n",
        "\\text{s.t.} && z = \\sum_{i=1}^K\\theta_i \\bar{z}_i\\\\\n",
        "&&0 \\leq \\theta \\leq \\gamma/K\\\\\n",
        "&& \\sum_{i=1}^K \\theta_i= 1\\,,\n",
        "\\end{eqnarray*}\n",
        "and select $\\alpha = 1/\\gamma$."
      ]
    },
    {
      "cell_type": "markdown",
      "metadata": {
        "id": "LnFxB7621Wyt"
      },
      "source": [
        "### Calibrating the boxed ellipsoidal uncertainty set"
      ]
    },
    {
      "cell_type": "code",
      "metadata": {
        "id": "hsWpkmLszi8n",
        "colab": {
          "base_uri": "https://localhost:8080/"
        },
        "outputId": "c34a1cab-d05b-4d77-cba0-477da5cad5ea"
      },
      "source": [
        "# Calibrating the ellipsoid set\n",
        "tmp=np.sort(np.linalg.norm(Zs,axis=0))\n",
        "gamma=tmp[int(np.ceil((1-VaReps)*len(tmp)))-1]\n",
        "print('Calibrating the ellipsoid set: gamma={0:0.6f}'.format(gamma))"
      ],
      "execution_count": null,
      "outputs": [
        {
          "output_type": "stream",
          "text": [
            "Calibrating the ellipsoid set: gamma=1.457444\n"
          ],
          "name": "stdout"
        }
      ]
    },
    {
      "cell_type": "markdown",
      "metadata": {
        "id": "6yA0XSyw1Wyo"
      },
      "source": [
        "### Calibrating the budgeted uncertainty set"
      ]
    },
    {
      "cell_type": "code",
      "metadata": {
        "colab": {
          "base_uri": "https://localhost:8080/"
        },
        "id": "eF1P9rdKAH7y",
        "outputId": "84bf9aa3-37a2-4dd9-c73a-9107aa140416"
      },
      "source": [
        "# Calibrating the budgeted set\n",
        "tmp=np.sort(np.linalg.norm(Zs, ord=1,axis=0))\n",
        "Gamma=tmp[int(np.ceil((1-VaReps)*len(tmp)))-1]\n",
        "print('Calibrating the budgeted set: Gamma={0:0.6f}'.format(Gamma))"
      ],
      "execution_count": null,
      "outputs": [
        {
          "output_type": "stream",
          "text": [
            "Calibrating the budgeted set: Gamma=3.606350\n"
          ],
          "name": "stdout"
        }
      ]
    },
    {
      "cell_type": "markdown",
      "metadata": {
        "id": "OQGwe3Lt1Wyu"
      },
      "source": [
        "### Calibrating the CVaR uncertainty set\n"
      ]
    },
    {
      "cell_type": "code",
      "metadata": {
        "id": "EUSWcSlyzi8o",
        "colab": {
          "base_uri": "https://localhost:8080/"
        },
        "outputId": "836d0684-6e4b-4457-ea77-b45f3265f1a0"
      },
      "source": [
        "model_CVaR=ro.Model('CVaR_Calibration')  \n",
        "# Define decision variable(s)\n",
        "lmd = model_CVaR.dvar(1)\n",
        "t = model_CVaR.dvar(nMonths)\n",
        "z = model_CVaR.dvar(nStocks)\n",
        "\n",
        "model_CVaR.min(lmd)\n",
        "\n",
        "model_CVaR.st(z==(Zs@t))\n",
        "model_CVaR.st(t>=0)\n",
        "model_CVaR.st((nMonths*t)<=lmd)\n",
        "model_CVaR.st(sum(t) == 1)\n",
        "\n",
        "model_CVaR.solve(my_solver)\n",
        "\n",
        "print('The lambda is {0:0.4f}'.format(model_CVaR.get()))\n",
        "print('The alpha is {0:0.4f}'.format(1/lmd.get()[0]))"
      ],
      "execution_count": null,
      "outputs": [
        {
          "output_type": "stream",
          "text": [
            "Being solved by Mosek...\n",
            "Solution status: optimal\n",
            "Running time: 0.0113s\n",
            "The lambda is 1.0000\n",
            "The alpha is 1.0000\n"
          ],
          "name": "stdout"
        }
      ]
    },
    {
      "cell_type": "markdown",
      "metadata": {
        "id": "JSeZE0x6yTH8"
      },
      "source": [
        "# **Exercise 3.2) Calibration of uncertainty sets using distribution hypothesis**\n",
        "\n",
        "For each of the two uncertainty sets below, calibrate the size parameter in order for $\\mathcal{Z}$ to be such that a robust linear constraint employing $\\mathcal{Z}$ is guaranteed to return a solution that will satisfy the chance constraint with 95\\% probability as long as the distribution of $Z$ satisfies assumption 3.4:\n",
        "\n",
        "Budgeted uncertainty set, i.e. $\\mathcal{Z}:= \\{z\\in\\mathbb{R}^m\\,|\\,z_i\\in[-1,\\,1],, \\|z\\|_1 \\leq \\Gamma\\}$\n",
        "\n",
        "Boxed ellipsoidal set, i.e. $\\mathcal{Z}:= \\{z\\in\\mathbb{R}^m\\,|\\,z_i\\in[-1,\\,1],, \\|z\\|_2 \\leq \\gamma\\}$."
      ]
    },
    {
      "cell_type": "markdown",
      "metadata": {
        "id": "QPyFsu0I2h_X"
      },
      "source": [
        "### Calibrating the budgeted uncertainty set"
      ]
    },
    {
      "cell_type": "code",
      "metadata": {
        "id": "YMH6Q2mIKiDw",
        "colab": {
          "base_uri": "https://localhost:8080/"
        },
        "outputId": "3838bb7c-4b89-4010-f68d-dfd2465f7bbf"
      },
      "source": [
        "# From Corollary 3.8, we have\n",
        "Gamma2 = np.sqrt(2 * Zs.shape[0] * np.log(1 / VaReps))\n",
        "print('Calibrating the budgeted set: Gamma={0:0.6f}'.format(Gamma2))"
      ],
      "execution_count": null,
      "outputs": [
        {
          "output_type": "stream",
          "text": [
            "Calibrating the budgeted set: Gamma=7.740455\n"
          ],
          "name": "stdout"
        }
      ]
    },
    {
      "cell_type": "markdown",
      "metadata": {
        "id": "WXCcKVpO2qWv"
      },
      "source": [
        "### Calibrating the ellipsoid set"
      ]
    },
    {
      "cell_type": "code",
      "metadata": {
        "id": "b0ax3YbS2tuQ",
        "colab": {
          "base_uri": "https://localhost:8080/"
        },
        "outputId": "59ff14e8-966e-41d6-f928-bd36381a6dd3"
      },
      "source": [
        "# From Theorem 3.5, we have\n",
        "gamma2 = np.sqrt(2 * np.log(1 / VaReps))\n",
        "print('Calibrating the ellipsoid set: gamma={0:0.6f}'.format(gamma2))"
      ],
      "execution_count": null,
      "outputs": [
        {
          "output_type": "stream",
          "text": [
            "Calibrating the ellipsoid set: gamma=2.447747\n"
          ],
          "name": "stdout"
        }
      ]
    },
    {
      "cell_type": "markdown",
      "metadata": {
        "id": "s8a4moZ7L74S"
      },
      "source": [
        "# **Exercise 3.3) Evaluate the portfolios obtained by each method**"
      ]
    },
    {
      "cell_type": "markdown",
      "metadata": {
        "id": "LOXYM-k01k07"
      },
      "source": [
        "### Boxed ellipsoidal set from Exercise 3.1)\n",
        "$$\\mathcal{Z}:= \\{z\\in\\mathbb{R}^m\\,|\\,z_i\\in[-1,\\,1],, \\|z\\|_2 \\leq \\gamma\\}$$"
      ]
    },
    {
      "cell_type": "code",
      "metadata": {
        "id": "7mXgHs3M1uQI",
        "colab": {
          "base_uri": "https://localhost:8080/"
        },
        "outputId": "ed26f345-3c3e-4e12-ce5d-b8f2d33b3a8d"
      },
      "source": [
        "model = ro.Model('solveRobustPortfolio_Ellipsoidal')\n",
        "x=model.dvar(nStocks)\n",
        "\n",
        "z=model.rvar(nStocks)\n",
        "\n",
        "EllipsoidSet=(z>=-1, z<=1, rso.norm(z,2)<=gamma)\n",
        "model.minmax(-(mu+P@z)@x,EllipsoidSet)\n",
        "model.st(x<=1)\n",
        "model.st(sum(x)==1)\n",
        "model.st(x>=0)\n",
        "model.solve(my_solver)\n",
        "\n",
        "obj_Ellipsoid=model.get()\n",
        "xx_Ellipsoid=x.get() #get optimal portfolio\n",
        "\n",
        "print('Estimated VaR is {0:0.4f}'.format(obj_Ellipsoid))\n",
        "print('VaR from 2000 to 2009 is {0:0.4f}'.format(testPolicyVaR(xx_Ellipsoid, Rs,VaReps)))\n",
        "print('VaR from 2010 to 2014 is {0:0.4f}'.format(testPolicyVaR(xx_Ellipsoid, RsTest,VaReps)))\n",
        "print('VaR with extreme distribution is {0:0.4f}'.format(testPolicyVaR(xx_Ellipsoid, WCRETURNS,VaReps)))"
      ],
      "execution_count": null,
      "outputs": [
        {
          "output_type": "stream",
          "text": [
            "Being solved by Mosek...\n",
            "Solution status: optimal\n",
            "Running time: 0.0104s\n",
            "Estimated VaR is 0.2074\n",
            "VaR from 2000 to 2009 is 0.0712\n",
            "VaR from 2010 to 2014 is 0.0866\n",
            "VaR with extreme distribution is 0.2396\n"
          ],
          "name": "stdout"
        }
      ]
    },
    {
      "cell_type": "markdown",
      "metadata": {
        "id": "OMK_2tElMHqb"
      },
      "source": [
        "### Budgeted uncertainty set from Exercise 3.1)\n",
        "\n",
        "$$\\mathcal{Z}:= \\{z\\in\\mathbb{R}^m\\,|\\,z_i\\in[-1,\\,1],, \\|z\\|_1 \\leq \\Gamma\\}$$"
      ]
    },
    {
      "cell_type": "code",
      "metadata": {
        "id": "l_tTf1z7MXMj",
        "colab": {
          "base_uri": "https://localhost:8080/"
        },
        "outputId": "4abc71ac-69b3-42c9-f667-273820a2b947"
      },
      "source": [
        "model = ro.Model('solveRobustPortfolio_Budget')\n",
        "x=model.dvar(nStocks)\n",
        "\n",
        "z=model.rvar(nStocks)\n",
        "\n",
        "BudgetedSet=(z>=-1, z<=1, rso.norm(z,1)<=Gamma)\n",
        "model.minmax(-(mu+P@z)@x,BudgetedSet)\n",
        "model.st(x<=1)\n",
        "model.st(sum(x)==1)\n",
        "model.st(x>=0)\n",
        "model.solve(my_solver)\n",
        "\n",
        "obj_Budget=model.get()\n",
        "xx_Budget=x.get() #get optimal portfolio\n",
        "\n",
        "print('Estimated VaR is {0:0.4f}'.format(obj_Budget))\n",
        "print('VaR from 2000 to 2009 is {0:0.4f}'.format(testPolicyVaR(xx_Budget, Rs,VaReps)))\n",
        "print('VaR from 2010 to 2014 is {0:0.4f}'.format(testPolicyVaR(xx_Budget, RsTest,VaReps)))\n",
        "print('VaR with extreme distribution is {0:0.4f}'.format(testPolicyVaR(xx_Budget, WCRETURNS,VaReps)))"
      ],
      "execution_count": null,
      "outputs": [
        {
          "output_type": "stream",
          "text": [
            "Being solved by Mosek...\n",
            "Solution status: optimal\n",
            "Running time: 0.0092s\n",
            "Estimated VaR is 0.1671\n",
            "VaR from 2000 to 2009 is 0.0641\n",
            "VaR from 2010 to 2014 is 0.0776\n",
            "VaR with extreme distribution is 0.2964\n"
          ],
          "name": "stdout"
        }
      ]
    },
    {
      "cell_type": "markdown",
      "metadata": {
        "id": "Tt_scK692RqW"
      },
      "source": [
        "### CVaR uncertainty set from Exercise 3.1)\n",
        "$$\\mathcal{Z}:= \\left\\{ z\\in \\mathbb{R}^m\\,\\middle|\\, \\exists \\theta\\in\\mathbb{R}^K,\\, z = \\sum_{i=1}^K \\theta_i \\bar{z}_i,\\, \\theta\\geq 0, \\, \\sum_{i=1}^K \\theta_i = 1,\\, \\theta\\leq \\frac{1}{K\\alpha}\\right\\}.$$"
      ]
    },
    {
      "cell_type": "code",
      "metadata": {
        "id": "o4Mn2tm62V-s",
        "colab": {
          "base_uri": "https://localhost:8080/"
        },
        "outputId": "f0cf1380-7fe0-43f4-b371-c6fc01034d83"
      },
      "source": [
        "model = ro.Model('solveRobustPortfolio_CVaR')\n",
        "x=model.dvar(nStocks)\n",
        "\n",
        "CVaR_alpha=(1/lmd.get()[0])\n",
        "\n",
        "z=model.rvar(nStocks)\n",
        "t = model.rvar(nMonths)\n",
        "\n",
        "CVaRSet=(z == (Zs @t), t>= 0, sum(t) == 1, t <= (1/(nMonths*CVaR_alpha))) \n",
        "model.minmax(-(mu+P@z)@x,CVaRSet)\n",
        "model.st(x<=1)\n",
        "model.st(sum(x)==1)\n",
        "model.st(x>=0)\n",
        "model.solve(my_solver)\n",
        "\n",
        "obj_CVaR=model.get()\n",
        "xx_CVaR=x.get() #get optimal portfolio\n",
        "\n",
        "print('Estimated VaR is {0:0.4f}'.format(obj_CVaR))\n",
        "print('VaR from 2000 to 2009 is {0:0.4f}'.format(testPolicyVaR(xx_CVaR, Rs,VaReps)))\n",
        "print('VaR from 2010 to 2014 is {0:0.4f}'.format(testPolicyVaR(xx_CVaR, RsTest,VaReps)))\n",
        "print('VaR with extreme distribution is {0:0.4f}'.format(testPolicyVaR(xx_CVaR, WCRETURNS,VaReps)))"
      ],
      "execution_count": null,
      "outputs": [
        {
          "output_type": "stream",
          "text": [
            "Being solved by Mosek...\n",
            "Solution status: optimal\n",
            "Running time: 0.0216s\n",
            "Estimated VaR is -0.0431\n",
            "VaR from 2000 to 2009 is 0.1681\n",
            "VaR from 2010 to 2014 is 0.1483\n",
            "VaR with extreme distribution is 0.3243\n"
          ],
          "name": "stdout"
        }
      ]
    },
    {
      "cell_type": "markdown",
      "metadata": {
        "id": "vuDNRcRq2b1e"
      },
      "source": [
        "### CVaR uncertainty set with $\\alpha = 0.05$\n",
        "$$\\mathcal{Z}:= \\left\\{ z\\in \\mathbb{R}^m\\,\\middle|\\, \\exists \\theta\\in\\mathbb{R}^K,\\, z = \\sum_{i=1}^K \\theta_i \\bar{z}_i,\\, \\theta\\geq 0, \\, \\sum_{i=1}^K \\theta_i = 1,\\, \\theta\\leq \\frac{1}{K\\alpha}\\right\\}.$$"
      ]
    },
    {
      "cell_type": "code",
      "metadata": {
        "id": "0Y7tZVnb2fUc",
        "colab": {
          "base_uri": "https://localhost:8080/"
        },
        "outputId": "9cd64052-bb2b-449d-9f66-65fe77c2fcdb"
      },
      "source": [
        "model = ro.Model('solveRobustPortfolio_CVaR005')\n",
        "x=model.dvar(nStocks)\n",
        "CVaR_alpha=0.05\n",
        "\n",
        "z=model.rvar(nStocks)\n",
        "t = model.rvar(nMonths)\n",
        "\n",
        "CVaRSet=(z == (Zs @t), t>= 0, sum(t) == 1, t <= (1/(nMonths*CVaR_alpha))) \n",
        "model.minmax(-(mu+P@z)@x,CVaRSet)\n",
        "model.st(x<=1)\n",
        "model.st(sum(x)==1)\n",
        "model.st(x>=0)\n",
        "model.solve(my_solver)\n",
        "\n",
        "obj_CVaR005=model.get()\n",
        "xx_CVaR005=x.get() #get optimal portfolio\n",
        "\n",
        "print('Estimated VaR is {0:0.4f}'.format(obj_CVaR005))\n",
        "print('VaR from 2000 to 2009 is {0:0.4f}'.format(testPolicyVaR(xx_CVaR005, Rs,VaReps)))\n",
        "print('VaR from 2010 to 2014 is {0:0.4f}'.format(testPolicyVaR(xx_CVaR005, RsTest,VaReps)))\n",
        "print('VaR with extreme distribution is {0:0.4f}'.format(testPolicyVaR(xx_CVaR005, WCRETURNS,VaReps)))"
      ],
      "execution_count": null,
      "outputs": [
        {
          "output_type": "stream",
          "text": [
            "Being solved by Mosek...\n",
            "Solution status: optimal\n",
            "Running time: 0.0239s\n",
            "Estimated VaR is 0.0556\n",
            "VaR from 2000 to 2009 is 0.0497\n",
            "VaR from 2010 to 2014 is 0.0661\n",
            "VaR with extreme distribution is 0.3223\n"
          ],
          "name": "stdout"
        }
      ]
    },
    {
      "cell_type": "markdown",
      "metadata": {
        "id": "hovPEu93Mn9V"
      },
      "source": [
        "### Budgeted uncertainty set for ambiguous chance constraint found in 3.2)"
      ]
    },
    {
      "cell_type": "code",
      "metadata": {
        "id": "WmLQ5qhbMsS8",
        "colab": {
          "base_uri": "https://localhost:8080/"
        },
        "outputId": "cad24cb2-df7a-44e6-9035-89ca265b5019"
      },
      "source": [
        "model = ro.Model('solveRobustPortfolio_Budget_CC')\n",
        "x=model.dvar(nStocks)\n",
        "\n",
        "z=model.rvar(nStocks)\n",
        "\n",
        "BudgetedSet=(z>=-1, z<=1, rso.norm(z,1)<=Gamma2)\n",
        "model.minmax(-(mu+P@z)@x,BudgetedSet)\n",
        "model.st(x<=1)\n",
        "model.st(sum(x)==1)\n",
        "model.st(x>=0)\n",
        "model.solve(my_solver)\n",
        "\n",
        "obj_GammaAmbig=model.get()\n",
        "xx_GammaAmbig=x.get() #get optimal portfolio\n",
        "\n",
        "print('Estimated VaR is {0:0.4f}'.format(obj_GammaAmbig))\n",
        "print('VaR from 2000 to 2009 is {0:0.4f}'.format(testPolicyVaR(xx_GammaAmbig, Rs,VaReps)))\n",
        "print('VaR from 2010 to 2014 is {0:0.4f}'.format(testPolicyVaR(xx_GammaAmbig, RsTest,VaReps)))\n",
        "print('VaR with extreme distribution is {0:0.4f}'.format(testPolicyVaR(xx_GammaAmbig, WCRETURNS,VaReps)))"
      ],
      "execution_count": null,
      "outputs": [
        {
          "output_type": "stream",
          "text": [
            "Being solved by Mosek...\n",
            "Solution status: optimal\n",
            "Running time: 0.0091s\n",
            "Estimated VaR is 0.3243\n",
            "VaR from 2000 to 2009 is 0.1681\n",
            "VaR from 2010 to 2014 is 0.1483\n",
            "VaR with extreme distribution is 0.3243\n"
          ],
          "name": "stdout"
        }
      ]
    },
    {
      "cell_type": "markdown",
      "metadata": {
        "id": "gZ0q8hfcNhBH"
      },
      "source": [
        "### Boxed ellipsoidal uncertainty set for ambiguous chance constraint constraint found in 3.2)"
      ]
    },
    {
      "cell_type": "code",
      "metadata": {
        "id": "5rEcEHb8Nl07",
        "colab": {
          "base_uri": "https://localhost:8080/"
        },
        "outputId": "6c9fc4a3-45df-44ea-dba2-ff3e6effaa5e"
      },
      "source": [
        "model = ro.Model('solveRobustPortfolio_Ellipsoidal_CC')\n",
        "x=model.dvar(nStocks)\n",
        "\n",
        "z=model.rvar(nStocks)\n",
        "\n",
        "EllipsoidSet=(z>=-1, z<=1, rso.norm(z,2)<=gamma2)\n",
        "model.minmax(-(mu+P@z)@x,EllipsoidSet)\n",
        "model.st(x<=1)\n",
        "model.st(sum(x)==1)\n",
        "model.st(x>=0)\n",
        "model.solve(my_solver)\n",
        "\n",
        "obj_gammaAmbig=model.get()\n",
        "xx_gammaAmbig=x.get() #get optimal portfolio\n",
        "\n",
        "print('Estimated VaR is {0:0.4f}'.format(obj_gammaAmbig))\n",
        "print('VaR from 2000 to 2009 is {0:0.4f}'.format(testPolicyVaR(xx_gammaAmbig, Rs,VaReps)))\n",
        "print('VaR from 2010 to 2014 is {0:0.4f}'.format(testPolicyVaR(xx_gammaAmbig, RsTest,VaReps)))\n",
        "print('VaR with extreme distribution is {0:0.4f}'.format(testPolicyVaR(xx_gammaAmbig, WCRETURNS,VaReps)))"
      ],
      "execution_count": null,
      "outputs": [
        {
          "output_type": "stream",
          "text": [
            "Being solved by Mosek...\n",
            "Solution status: optimal\n",
            "Running time: 0.0100s\n",
            "Estimated VaR is 0.3243\n",
            "VaR from 2000 to 2009 is 0.1681\n",
            "VaR from 2010 to 2014 is 0.1483\n",
            "VaR with extreme distribution is 0.3243\n"
          ],
          "name": "stdout"
        }
      ]
    }
  ]
}